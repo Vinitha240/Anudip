{
 "cells": [
  {
   "cell_type": "code",
   "execution_count": 1,
   "id": "a74a589f-e94c-4f39-8376-a6c9a8f8a47f",
   "metadata": {},
   "outputs": [],
   "source": [
    "#median"
   ]
  },
  {
   "cell_type": "code",
   "execution_count": 11,
   "id": "9a175ffe-4814-4661-a8fe-4ad23666be09",
   "metadata": {},
   "outputs": [
    {
     "name": "stdout",
     "output_type": "stream",
     "text": [
      "Median Income: 65000.0\n"
     ]
    }
   ],
   "source": [
    "import numpy as np\n",
    "incomes=np.array([45000,55000,60000,70000,80000,90000])\n",
    "median_income=np.median(incomes)\n",
    "print(\"Median Income:\",median_income)"
   ]
  },
  {
   "cell_type": "code",
   "execution_count": 7,
   "id": "5d5c8612-83de-4f96-822e-8006e37ca498",
   "metadata": {},
   "outputs": [],
   "source": [
    "#mean"
   ]
  },
  {
   "cell_type": "code",
   "execution_count": 13,
   "id": "d3608052-012d-4f0c-b0b5-75c3af2692a8",
   "metadata": {},
   "outputs": [
    {
     "name": "stdout",
     "output_type": "stream",
     "text": [
      "Average Temperatures: 70.0\n"
     ]
    }
   ],
   "source": [
    "temperatures=np.array([76,98,34,90,33,89])\n",
    "average_temperature=np.mean(temperatures)\n",
    "print(\"Average Temperatures:\", average_temperature)"
   ]
  },
  {
   "cell_type": "code",
   "execution_count": 15,
   "id": "d0047e27-db93-4dcc-9ae5-a24b529b5aea",
   "metadata": {},
   "outputs": [],
   "source": [
    "#standard deviation"
   ]
  },
  {
   "cell_type": "code",
   "execution_count": 17,
   "id": "03fe7c56-f0db-4cf0-a8a0-5971c4d30e14",
   "metadata": {},
   "outputs": [],
   "source": [
    "classA=np.array([65,89,34,87,78])\n",
    "\n",
    "classB=np.array([70,88,85,95,100])"
   ]
  },
  {
   "cell_type": "code",
   "execution_count": 19,
   "id": "224a03f3-7a8f-42e4-b8ec-e34e75f92cc2",
   "metadata": {},
   "outputs": [
    {
     "data": {
      "text/plain": [
       "20.16531675922796"
      ]
     },
     "execution_count": 19,
     "metadata": {},
     "output_type": "execute_result"
    }
   ],
   "source": [
    "np.std(classA)"
   ]
  },
  {
   "cell_type": "code",
   "execution_count": 21,
   "id": "66bcf905-02ed-43fc-bde4-1e6a699433c4",
   "metadata": {},
   "outputs": [
    {
     "data": {
      "text/plain": [
       "10.248902380255165"
      ]
     },
     "execution_count": 21,
     "metadata": {},
     "output_type": "execute_result"
    }
   ],
   "source": [
    "np.std(classB)"
   ]
  },
  {
   "cell_type": "code",
   "execution_count": 23,
   "id": "186c1410-9cfd-47fd-bdfb-7a5ee78a92e2",
   "metadata": {},
   "outputs": [],
   "source": [
    "#variance"
   ]
  },
  {
   "cell_type": "code",
   "execution_count": 25,
   "id": "2d35e15b-48ad-40d3-9393-5a539048cefb",
   "metadata": {},
   "outputs": [],
   "source": [
    "prd_a=np.array([4,3])\n",
    "\n",
    "prd_b=np.array([2,8])"
   ]
  },
  {
   "cell_type": "code",
   "execution_count": 27,
   "id": "0ccab602-b239-4fb1-bdd8-6a7a038392bf",
   "metadata": {},
   "outputs": [
    {
     "data": {
      "text/plain": [
       "0.25"
      ]
     },
     "execution_count": 27,
     "metadata": {},
     "output_type": "execute_result"
    }
   ],
   "source": [
    "np.var(prd_a)"
   ]
  },
  {
   "cell_type": "code",
   "execution_count": 29,
   "id": "4cbe1ee2-a0cd-46c9-b8b0-cbf0e8582005",
   "metadata": {},
   "outputs": [
    {
     "data": {
      "text/plain": [
       "9.0"
      ]
     },
     "execution_count": 29,
     "metadata": {},
     "output_type": "execute_result"
    }
   ],
   "source": [
    "np.var(prd_b)"
   ]
  },
  {
   "cell_type": "code",
   "execution_count": 31,
   "id": "a3a4a64b-249d-49a5-ae65-1f1cf5bbecfe",
   "metadata": {},
   "outputs": [],
   "source": [
    "#min and max"
   ]
  },
  {
   "cell_type": "code",
   "execution_count": 35,
   "id": "f3aab70a-d89c-4a32-a1f1-5558b87bb707",
   "metadata": {},
   "outputs": [
    {
     "name": "stdout",
     "output_type": "stream",
     "text": [
      "Min traffic: 1200\n",
      "Max traffic: 1800\n"
     ]
    }
   ],
   "source": [
    "daily_traffic=np.array([1200,1350,1480,1650,1800,1550,1680])\n",
    "print(\"Min traffic:\",np.min(daily_traffic))\n",
    "print(\"Max traffic:\",np.max(daily_traffic))"
   ]
  },
  {
   "cell_type": "code",
   "execution_count": 37,
   "id": "c415c498-09c5-4b34-9377-b0bdd864dfe3",
   "metadata": {},
   "outputs": [],
   "source": [
    "#summation"
   ]
  },
  {
   "cell_type": "code",
   "execution_count": 39,
   "id": "67007018-b90f-4599-a1a3-200e7854d430",
   "metadata": {},
   "outputs": [
    {
     "name": "stdout",
     "output_type": "stream",
     "text": [
      "Total Weekly Sales: 46100\n"
     ]
    }
   ],
   "source": [
    "sales=np.array([5500,6200,4800,7200,6800,7500,8100])\n",
    "total_sales=np.sum(sales)\n",
    "print(\"Total Weekly Sales:\", total_sales)"
   ]
  },
  {
   "cell_type": "code",
   "execution_count": 41,
   "id": "9426f31f-87ec-49a6-9595-2def2661ee33",
   "metadata": {},
   "outputs": [],
   "source": [
    "#percentile"
   ]
  },
  {
   "cell_type": "code",
   "execution_count": 45,
   "id": "86059029-60aa-4823-803b-2a797e54e032",
   "metadata": {},
   "outputs": [
    {
     "name": "stdout",
     "output_type": "stream",
     "text": [
      "25th Percentile: 95.75\n",
      "50th Percentile (Median): 111.0\n",
      "75th Percentile: 124.5\n",
      "90th Percentile: 132.6\n"
     ]
    }
   ],
   "source": [
    "test_scores=np.array([\n",
    "    65,75,80,85,90,94,95,96,100,102,104,106,108,\n",
    "    110,112,114,116,118,120,122,124,126,128,130,132,134,136,138])\n",
    "print(\"25th Percentile:\",np.percentile(test_scores,25))\n",
    "print(\"50th Percentile (Median):\",np.percentile(test_scores,50))\n",
    "print(\"75th Percentile:\",np.percentile(test_scores,75))\n",
    "print(\"90th Percentile:\",np.percentile(test_scores,90))\n"
   ]
  },
  {
   "cell_type": "code",
   "execution_count": 47,
   "id": "31f08b04-f5a1-4afc-b216-3dc61019bad6",
   "metadata": {},
   "outputs": [],
   "source": [
    "arr=np.array([1,2,3,4,5])\n",
    "np.save('Saved_array.npy',arr)"
   ]
  },
  {
   "cell_type": "code",
   "execution_count": 49,
   "id": "875c8aad-604a-4908-9281-a28af870789f",
   "metadata": {},
   "outputs": [
    {
     "data": {
      "text/plain": [
       "array([1, 2, 3, 4, 5])"
      ]
     },
     "execution_count": 49,
     "metadata": {},
     "output_type": "execute_result"
    }
   ],
   "source": [
    "arr"
   ]
  },
  {
   "cell_type": "code",
   "execution_count": 61,
   "id": "db63a693-6f64-4f3c-9600-7ad8e0f1fb34",
   "metadata": {},
   "outputs": [
    {
     "name": "stdout",
     "output_type": "stream",
     "text": [
      "[1 2 3 4 5]\n"
     ]
    }
   ],
   "source": [
    "loaded_arr=np.load('Saved_array.npy')\n",
    "print(loaded_arr)"
   ]
  },
  {
   "cell_type": "code",
   "execution_count": 57,
   "id": "251b6500-6514-4db4-9209-1b5712e41bf7",
   "metadata": {},
   "outputs": [],
   "source": [
    "arr=np.array([[1,2,3],[4,5,6]])\n",
    "np.savetxt('array.txt',arr)"
   ]
  },
  {
   "cell_type": "code",
   "execution_count": null,
   "id": "12c9c224-b89f-49e5-ae5b-71984a4db91a",
   "metadata": {},
   "outputs": [],
   "source": []
  }
 ],
 "metadata": {
  "kernelspec": {
   "display_name": "Python [conda env:base] *",
   "language": "python",
   "name": "conda-base-py"
  },
  "language_info": {
   "codemirror_mode": {
    "name": "ipython",
    "version": 3
   },
   "file_extension": ".py",
   "mimetype": "text/x-python",
   "name": "python",
   "nbconvert_exporter": "python",
   "pygments_lexer": "ipython3",
   "version": "3.12.7"
  }
 },
 "nbformat": 4,
 "nbformat_minor": 5
}
