{
 "cells": [
  {
   "cell_type": "code",
   "execution_count": 27,
   "id": "36346dd5-9845-4e97-8ec5-459940dc9ac8",
   "metadata": {},
   "outputs": [
    {
     "name": "stdin",
     "output_type": "stream",
     "text": [
      "Please enter your name: Vinitha\n"
     ]
    },
    {
     "name": "stdout",
     "output_type": "stream",
     "text": [
      "Hello , Vinitha! Nice to meet you\n"
     ]
    }
   ],
   "source": [
    "def greet_user():\n",
    "    name=input(\"Please enter your name:\")\n",
    "    print(f\"Hello , {name}! Nice to meet you\")\n",
    "greet_user()    "
   ]
  },
  {
   "cell_type": "code",
   "execution_count": 7,
   "id": "edf1c419-4e45-4c0a-bace-e1fd01747ac8",
   "metadata": {},
   "outputs": [],
   "source": [
    "def fun(name,age,gender):\n",
    "    print(f\"hello my name is {name},my age is {age},my gender is {gender}\")"
   ]
  },
  {
   "cell_type": "code",
   "execution_count": 9,
   "id": "959d36ab-0a6c-4931-b508-8be7f98aa593",
   "metadata": {},
   "outputs": [
    {
     "name": "stdout",
     "output_type": "stream",
     "text": [
      "hello my name is raju,my age is 23,my gender is male\n"
     ]
    }
   ],
   "source": [
    "fun(age=23,name='raju',gender='male')"
   ]
  },
  {
   "cell_type": "code",
   "execution_count": 15,
   "id": "e84c62cb-ffce-4f2a-8453-ad698bc8429e",
   "metadata": {},
   "outputs": [
    {
     "name": "stdout",
     "output_type": "stream",
     "text": [
      "Booking a flight from Paris to Tokyo in Business with a Vegetrian meal.\n"
     ]
    }
   ],
   "source": [
    "book_flight(departure='Paris', destination='Tokyo', seat_class='Business', meal_pref='Vegetrian')"
   ]
  },
  {
   "cell_type": "code",
   "execution_count": 29,
   "id": "53c8b612-9158-42a0-9975-91ed63a7c610",
   "metadata": {},
   "outputs": [],
   "source": [
    "#arbitrary positional arguments"
   ]
  },
  {
   "cell_type": "code",
   "execution_count": 31,
   "id": "ee6d43d0-4928-4ebc-bf7b-04c904e5f915",
   "metadata": {},
   "outputs": [
    {
     "name": "stdout",
     "output_type": "stream",
     "text": [
      "addition: 12\n"
     ]
    }
   ],
   "source": [
    "def add(*num):\n",
    "    v = num[0]+num[1]+num[2]\n",
    "    print (\"addition:\", v)\n",
    "add(5,7,0)    "
   ]
  },
  {
   "cell_type": "code",
   "execution_count": 35,
   "id": "e4d4015a-bb22-4750-8259-e9209e3b09db",
   "metadata": {},
   "outputs": [],
   "source": [
    "def add_numbers(*a):\n",
    "    sum_value=sum(a)\n",
    "    print(sum_value)"
   ]
  },
  {
   "cell_type": "code",
   "execution_count": 37,
   "id": "06e3c191-e2a2-41d6-a830-990117d5319f",
   "metadata": {},
   "outputs": [
    {
     "name": "stdout",
     "output_type": "stream",
     "text": [
      "20\n"
     ]
    }
   ],
   "source": [
    "add_numbers(7,4,9)"
   ]
  },
  {
   "cell_type": "code",
   "execution_count": 39,
   "id": "e1d061eb-26f0-415e-8f67-f689c242fcf5",
   "metadata": {},
   "outputs": [
    {
     "name": "stdout",
     "output_type": "stream",
     "text": [
      "98\n"
     ]
    }
   ],
   "source": [
    "def find_max(*args):\n",
    "    return max(args)\n",
    "print(find_max(6,98,4,2,0,7))    "
   ]
  },
  {
   "cell_type": "code",
   "execution_count": 41,
   "id": "6a334e08-3327-4d49-8d9a-e4b11d14d9d4",
   "metadata": {},
   "outputs": [
    {
     "data": {
      "text/plain": [
       "'Hello World !'"
      ]
     },
     "execution_count": 41,
     "metadata": {},
     "output_type": "execute_result"
    }
   ],
   "source": [
    "def concatenate_strings(*args):\n",
    "    return \" \".join(args)\n",
    "concatenate_strings(\"Hello\", \"World\", \"!\")    \n",
    "    "
   ]
  },
  {
   "cell_type": "code",
   "execution_count": 43,
   "id": "3ef231be-b1c6-44e1-89c3-affc176178ba",
   "metadata": {},
   "outputs": [],
   "source": [
    "def func(**a):\n",
    "    print(type(a))\n",
    "    for i,j in a.items():\n",
    "        print(f\"this is a key {i} this is a value {j}\")"
   ]
  },
  {
   "cell_type": "code",
   "execution_count": 45,
   "id": "27efa59e-1c66-4a6f-ba2e-9bd849121245",
   "metadata": {},
   "outputs": [
    {
     "name": "stdout",
     "output_type": "stream",
     "text": [
      "<class 'dict'>\n",
      "this is a key name this is a value kenn\n",
      "this is a key age this is a value 56\n"
     ]
    }
   ],
   "source": [
    "func(name='kenn',age=56)"
   ]
  },
  {
   "cell_type": "code",
   "execution_count": 47,
   "id": "225eaaba-8e96-4347-8f27-02d2f1869ba1",
   "metadata": {},
   "outputs": [],
   "source": [
    "#local variable"
   ]
  },
  {
   "cell_type": "code",
   "execution_count": 53,
   "id": "ddcebaf9-41ce-42d4-a82f-6dd27524b5c3",
   "metadata": {},
   "outputs": [],
   "source": [
    "#variables that are declared inside a function and can only accessed within that function\n"
   ]
  },
  {
   "cell_type": "code",
   "execution_count": 51,
   "id": "05e64f49-96f5-4606-947a-656f86e1c640",
   "metadata": {},
   "outputs": [],
   "source": [
    "#global variable"
   ]
  },
  {
   "cell_type": "code",
   "execution_count": 55,
   "id": "d8dcbcb7-7200-4b0d-aab3-ebc1e4727851",
   "metadata": {},
   "outputs": [],
   "source": [
    "#variables that are declared outside the function and can be accessed both inside and outside any function"
   ]
  },
  {
   "cell_type": "code",
   "execution_count": 57,
   "id": "503119d8-188e-46ce-a238-e719266259f0",
   "metadata": {},
   "outputs": [],
   "source": [
    "#nested function"
   ]
  },
  {
   "cell_type": "code",
   "execution_count": 59,
   "id": "830ed0ae-13ae-4f13-8b78-8c303531ca09",
   "metadata": {},
   "outputs": [
    {
     "name": "stdout",
     "output_type": "stream",
     "text": [
      "first\n",
      "hello\n"
     ]
    }
   ],
   "source": [
    "def outer_func():\n",
    "    print('first')\n",
    "    def inner_func():\n",
    "        print('hello')\n",
    "    inner_func()\n",
    "outer_func()"
   ]
  },
  {
   "cell_type": "code",
   "execution_count": 61,
   "id": "f78d7f55-dc7a-466d-a6d4-12ca7d46a35b",
   "metadata": {},
   "outputs": [
    {
     "name": "stdout",
     "output_type": "stream",
     "text": [
      "hello,world!\n"
     ]
    }
   ],
   "source": [
    "def my_func():\n",
    "    print('hello,world!')\n",
    "my_func()    "
   ]
  },
  {
   "cell_type": "code",
   "execution_count": 63,
   "id": "30fcf556-7e7d-4df8-b48e-7e118fe2ed7a",
   "metadata": {},
   "outputs": [],
   "source": [
    "del my_func"
   ]
  },
  {
   "cell_type": "code",
   "execution_count": 65,
   "id": "6480290f-3ad9-4437-a228-7f4514ce85c6",
   "metadata": {},
   "outputs": [
    {
     "ename": "NameError",
     "evalue": "name 'my_func' is not defined",
     "output_type": "error",
     "traceback": [
      "\u001b[1;31m---------------------------------------------------------------------------\u001b[0m",
      "\u001b[1;31mNameError\u001b[0m                                 Traceback (most recent call last)",
      "Cell \u001b[1;32mIn[65], line 1\u001b[0m\n\u001b[1;32m----> 1\u001b[0m my_func()\n",
      "\u001b[1;31mNameError\u001b[0m: name 'my_func' is not defined"
     ]
    }
   ],
   "source": [
    "my_func()"
   ]
  },
  {
   "cell_type": "code",
   "execution_count": 67,
   "id": "c4bf19bc-ebce-4751-8018-7b37a7491cd2",
   "metadata": {},
   "outputs": [],
   "source": [
    "#lambda function in python is a small,anonymous function defined in the beginning"
   ]
  },
  {
   "cell_type": "code",
   "execution_count": 69,
   "id": "d8f5c441-b347-46b7-9fa1-f277095a18ad",
   "metadata": {},
   "outputs": [],
   "source": [
    "ba=lambda a,b,c:a+b+c"
   ]
  },
  {
   "cell_type": "code",
   "execution_count": 71,
   "id": "e333c6a1-b889-46a4-9037-3e36c2fcf575",
   "metadata": {},
   "outputs": [
    {
     "data": {
      "text/plain": [
       "112"
      ]
     },
     "execution_count": 71,
     "metadata": {},
     "output_type": "execute_result"
    }
   ],
   "source": [
    "ba(45,65,2)"
   ]
  },
  {
   "cell_type": "code",
   "execution_count": 77,
   "id": "7501b4ad-7231-41ab-98f4-e4c4044c7ddc",
   "metadata": {},
   "outputs": [],
   "source": [
    "ab=lambda a,b:a*b"
   ]
  },
  {
   "cell_type": "code",
   "execution_count": 79,
   "id": "c18f74a5-2b42-4494-b3e7-bf4f9bdb24fb",
   "metadata": {},
   "outputs": [
    {
     "data": {
      "text/plain": [
       "42"
      ]
     },
     "execution_count": 79,
     "metadata": {},
     "output_type": "execute_result"
    }
   ],
   "source": [
    "ab(6,7)"
   ]
  },
  {
   "cell_type": "code",
   "execution_count": null,
   "id": "b6eb830c-42fb-430a-8ea9-3208aac86401",
   "metadata": {},
   "outputs": [],
   "source": []
  }
 ],
 "metadata": {
  "kernelspec": {
   "display_name": "Python [conda env:base] *",
   "language": "python",
   "name": "conda-base-py"
  },
  "language_info": {
   "codemirror_mode": {
    "name": "ipython",
    "version": 3
   },
   "file_extension": ".py",
   "mimetype": "text/x-python",
   "name": "python",
   "nbconvert_exporter": "python",
   "pygments_lexer": "ipython3",
   "version": "3.12.7"
  }
 },
 "nbformat": 4,
 "nbformat_minor": 5
}
