{
 "cells": [
  {
   "cell_type": "code",
   "execution_count": 1,
   "id": "cedf2a2b-5f03-45e2-afed-39d1721b1a90",
   "metadata": {},
   "outputs": [],
   "source": [
    "#lab 3"
   ]
  },
  {
   "cell_type": "code",
   "execution_count": 9,
   "id": "88918d5e-f1c5-4ba1-89d3-3d722d03ad83",
   "metadata": {},
   "outputs": [
    {
     "name": "stdout",
     "output_type": "stream",
     "text": [
      "division: 6.666666666666667\n"
     ]
    }
   ],
   "source": [
    "# 1decalare a div() function with two parameters. then call the function and pass two\n",
    "\n",
    "def div(a,b):\n",
    "    if b!= 0:\n",
    "        print(\"division:\",a/b)\n",
    "    else:\n",
    "        print(\"division by zero is not allowed\")\n",
    "div(20,3)        \n",
    "        "
   ]
  },
  {
   "cell_type": "code",
   "execution_count": 11,
   "id": "c8fd3a75-74b3-4ee4-8fcb-858691951894",
   "metadata": {},
   "outputs": [
    {
     "name": "stdout",
     "output_type": "stream",
     "text": [
      "square: 25\n"
     ]
    }
   ],
   "source": [
    "# 2declare a square() function with one parameter then call the function and pass one \n",
    "\n",
    "def square(a):\n",
    "    print(\"square:\",a **2)\n",
    "square(5)    "
   ]
  },
  {
   "cell_type": "code",
   "execution_count": 15,
   "id": "6d118e63-9df9-45ae-b527-b35f006823a7",
   "metadata": {},
   "outputs": [
    {
     "name": "stdout",
     "output_type": "stream",
     "text": [
      "Random numbers: [4, 97, 69, 72, 74]\n",
      "Maximum: 97\n",
      "Minimum: 4\n"
     ]
    }
   ],
   "source": [
    "# 3using max() and min() functions display the maximum and minimum of 5 random numbers\n",
    "\n",
    "import random \n",
    "numbers = [random.randint(1,100) for _ in range(5)]\n",
    "print(\"Random numbers:\", numbers)\n",
    "print(\"Maximum:\",max(numbers))\n",
    "print(\"Minimum:\",min(numbers))"
   ]
  },
  {
   "cell_type": "code",
   "execution_count": 17,
   "id": "b149d5a7-e04d-4143-87e2-f1040a981669",
   "metadata": {},
   "outputs": [
    {
     "name": "stdin",
     "output_type": "stream",
     "text": [
      "Enter the name: VINITHA\n"
     ]
    },
    {
     "name": "stdout",
     "output_type": "stream",
     "text": [
      "Name in lower case: vinitha\n"
     ]
    }
   ],
   "source": [
    "# 4accept a name from the user and display that in lower case using lower() function\n",
    "\n",
    "name = input(\"Enter the name:\")\n",
    "print(\"Name in lower case:\",name.lower())"
   ]
  },
  {
   "cell_type": "code",
   "execution_count": null,
   "id": "5b6f9552-c6e3-48c2-88ef-daff9ae30707",
   "metadata": {},
   "outputs": [],
   "source": []
  }
 ],
 "metadata": {
  "kernelspec": {
   "display_name": "Python [conda env:base] *",
   "language": "python",
   "name": "conda-base-py"
  },
  "language_info": {
   "codemirror_mode": {
    "name": "ipython",
    "version": 3
   },
   "file_extension": ".py",
   "mimetype": "text/x-python",
   "name": "python",
   "nbconvert_exporter": "python",
   "pygments_lexer": "ipython3",
   "version": "3.12.7"
  }
 },
 "nbformat": 4,
 "nbformat_minor": 5
}
