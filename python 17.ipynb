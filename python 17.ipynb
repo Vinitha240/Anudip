{
 "cells": [
  {
   "cell_type": "code",
   "execution_count": 1,
   "id": "486b9c4d-2e9e-43a2-b6f3-4b0203272144",
   "metadata": {},
   "outputs": [],
   "source": [
    "#creating numpy array"
   ]
  },
  {
   "cell_type": "code",
   "execution_count": 5,
   "id": "0d81f408-46bd-40d6-9112-7b92d1a3f6fc",
   "metadata": {},
   "outputs": [],
   "source": [
    "import numpy as np"
   ]
  },
  {
   "cell_type": "code",
   "execution_count": 17,
   "id": "e8780ffe-9754-4973-997e-1a313775452f",
   "metadata": {},
   "outputs": [],
   "source": [
    "a= np.ones((3,4))"
   ]
  },
  {
   "cell_type": "code",
   "execution_count": 19,
   "id": "75c61797-e17c-4523-a881-59914da89700",
   "metadata": {},
   "outputs": [
    {
     "data": {
      "text/plain": [
       "numpy.ndarray"
      ]
     },
     "execution_count": 19,
     "metadata": {},
     "output_type": "execute_result"
    }
   ],
   "source": [
    "type(a)"
   ]
  },
  {
   "cell_type": "code",
   "execution_count": 21,
   "id": "9d94dd02-7862-435c-b9b3-06e369df6807",
   "metadata": {},
   "outputs": [
    {
     "data": {
      "text/plain": [
       "array([[1., 1., 1., 1.],\n",
       "       [1., 1., 1., 1.],\n",
       "       [1., 1., 1., 1.]])"
      ]
     },
     "execution_count": 21,
     "metadata": {},
     "output_type": "execute_result"
    }
   ],
   "source": [
    "a"
   ]
  },
  {
   "cell_type": "code",
   "execution_count": 23,
   "id": "4397c92d-134f-42ff-b6c2-e4f60ea73be9",
   "metadata": {},
   "outputs": [],
   "source": [
    "a1=np.zeros((2,4))"
   ]
  },
  {
   "cell_type": "code",
   "execution_count": 25,
   "id": "4de7190d-0a9f-447e-bbde-83ae36849258",
   "metadata": {},
   "outputs": [
    {
     "data": {
      "text/plain": [
       "array([[0., 0., 0., 0.],\n",
       "       [0., 0., 0., 0.]])"
      ]
     },
     "execution_count": 25,
     "metadata": {},
     "output_type": "execute_result"
    }
   ],
   "source": [
    "a1"
   ]
  },
  {
   "cell_type": "code",
   "execution_count": 27,
   "id": "df6ae42e-74dd-4352-b6e6-77808a200f8e",
   "metadata": {},
   "outputs": [],
   "source": [
    "zeros_array=np.zeros((3,3))"
   ]
  },
  {
   "cell_type": "code",
   "execution_count": 29,
   "id": "12789a58-1752-4940-ab2d-df649885ff7b",
   "metadata": {},
   "outputs": [],
   "source": [
    "ones_array=np.ones((2,4))"
   ]
  },
  {
   "cell_type": "code",
   "execution_count": 35,
   "id": "494a9525-2142-4860-8f30-531059dbdb83",
   "metadata": {},
   "outputs": [
    {
     "data": {
      "text/plain": [
       "array([[0., 0., 0.],\n",
       "       [0., 0., 0.],\n",
       "       [0., 0., 0.]])"
      ]
     },
     "execution_count": 35,
     "metadata": {},
     "output_type": "execute_result"
    }
   ],
   "source": [
    "zeros_array"
   ]
  },
  {
   "cell_type": "code",
   "execution_count": 37,
   "id": "b900ddb4-82ed-4dc1-a49e-274564d39bfd",
   "metadata": {},
   "outputs": [
    {
     "data": {
      "text/plain": [
       "array([[1., 1., 1., 1.],\n",
       "       [1., 1., 1., 1.]])"
      ]
     },
     "execution_count": 37,
     "metadata": {},
     "output_type": "execute_result"
    }
   ],
   "source": [
    "ones_array"
   ]
  },
  {
   "cell_type": "code",
   "execution_count": 31,
   "id": "2ed332ce-07bf-4bbb-8e56-3d1b4cb581af",
   "metadata": {},
   "outputs": [],
   "source": [
    "identity_matrix=np.eye(3)"
   ]
  },
  {
   "cell_type": "code",
   "execution_count": 33,
   "id": "d3fe927f-205f-4de9-af6d-73465a585d1f",
   "metadata": {},
   "outputs": [
    {
     "data": {
      "text/plain": [
       "array([[1., 0., 0.],\n",
       "       [0., 1., 0.],\n",
       "       [0., 0., 1.]])"
      ]
     },
     "execution_count": 33,
     "metadata": {},
     "output_type": "execute_result"
    }
   ],
   "source": [
    "identity_matrix"
   ]
  },
  {
   "cell_type": "code",
   "execution_count": 39,
   "id": "3cf2ed93-532c-4902-8de3-969e08eb341b",
   "metadata": {},
   "outputs": [],
   "source": [
    "b=[1,2,3,4]"
   ]
  },
  {
   "cell_type": "code",
   "execution_count": 41,
   "id": "c6155bad-57b6-47a2-846e-f00a0a4a9127",
   "metadata": {},
   "outputs": [
    {
     "data": {
      "text/plain": [
       "array([1, 2, 3, 4])"
      ]
     },
     "execution_count": 41,
     "metadata": {},
     "output_type": "execute_result"
    }
   ],
   "source": [
    "np.array(b,dtype=np.int32)"
   ]
  },
  {
   "cell_type": "code",
   "execution_count": 43,
   "id": "29d78f70-07cd-44d0-a024-e9b64bcfb246",
   "metadata": {},
   "outputs": [],
   "source": [
    "int_array=np.array([1,2,3], dtype=np.int32)\n",
    "float_array=np.array([0.1,0.2,0.3],dtype=np.float64)"
   ]
  },
  {
   "cell_type": "code",
   "execution_count": 45,
   "id": "9da066c8-939a-4b9f-9c98-6de0f223de18",
   "metadata": {},
   "outputs": [
    {
     "data": {
      "text/plain": [
       "array([1, 2, 3])"
      ]
     },
     "execution_count": 45,
     "metadata": {},
     "output_type": "execute_result"
    }
   ],
   "source": [
    "int_array"
   ]
  },
  {
   "cell_type": "code",
   "execution_count": 47,
   "id": "da46e504-1eed-42f2-aef3-4bd87f32ed1a",
   "metadata": {},
   "outputs": [
    {
     "data": {
      "text/plain": [
       "array([0.1, 0.2, 0.3])"
      ]
     },
     "execution_count": 47,
     "metadata": {},
     "output_type": "execute_result"
    }
   ],
   "source": [
    "float_array"
   ]
  },
  {
   "cell_type": "code",
   "execution_count": 49,
   "id": "99af5909-7eb5-4b08-864f-f0e515551f78",
   "metadata": {},
   "outputs": [],
   "source": [
    "a2=np.arange(0,8)"
   ]
  },
  {
   "cell_type": "code",
   "execution_count": 51,
   "id": "741e0bf1-a173-4505-ba0e-251b64047e38",
   "metadata": {},
   "outputs": [
    {
     "data": {
      "text/plain": [
       "array([0, 1, 2, 3, 4, 5, 6, 7])"
      ]
     },
     "execution_count": 51,
     "metadata": {},
     "output_type": "execute_result"
    }
   ],
   "source": [
    "a2"
   ]
  },
  {
   "cell_type": "code",
   "execution_count": 73,
   "id": "7cb07a03-226a-41b4-9341-b7b6cad3a823",
   "metadata": {},
   "outputs": [],
   "source": [
    "linspace_array=np.linspace(0,10,6)"
   ]
  },
  {
   "cell_type": "code",
   "execution_count": 75,
   "id": "5f6db429-d7bf-4277-a901-607cb45f9137",
   "metadata": {},
   "outputs": [
    {
     "data": {
      "text/plain": [
       "array([ 0.,  2.,  4.,  6.,  8., 10.])"
      ]
     },
     "execution_count": 75,
     "metadata": {},
     "output_type": "execute_result"
    }
   ],
   "source": [
    "linspace_array"
   ]
  },
  {
   "cell_type": "code",
   "execution_count": 89,
   "id": "a22daefd-83f4-4fd0-9f44-c112bcd7f50b",
   "metadata": {},
   "outputs": [],
   "source": [
    "linspace_array1=np.linspace(0,20,5)"
   ]
  },
  {
   "cell_type": "code",
   "execution_count": 91,
   "id": "dcb06da3-6da1-477c-a83f-92a3fcaa5698",
   "metadata": {},
   "outputs": [
    {
     "data": {
      "text/plain": [
       "array([ 0.,  5., 10., 15., 20.])"
      ]
     },
     "execution_count": 91,
     "metadata": {},
     "output_type": "execute_result"
    }
   ],
   "source": [
    "linspace_array1"
   ]
  },
  {
   "cell_type": "code",
   "execution_count": 103,
   "id": "f1e57d2a-daa3-492c-88a0-dbcf14d59717",
   "metadata": {},
   "outputs": [],
   "source": [
    "random_array=np.random.rand(4,4)"
   ]
  },
  {
   "cell_type": "code",
   "execution_count": 105,
   "id": "ce41f0c6-05a6-48f6-9767-5a5901787e33",
   "metadata": {},
   "outputs": [
    {
     "data": {
      "text/plain": [
       "array([[0.40671158, 0.22478629, 0.44981922, 0.91515954],\n",
       "       [0.481726  , 0.4866366 , 0.11552403, 0.34252387],\n",
       "       [0.7239913 , 0.16279796, 0.72181653, 0.36071176],\n",
       "       [0.02697178, 0.53790672, 0.26139788, 0.73295563]])"
      ]
     },
     "execution_count": 105,
     "metadata": {},
     "output_type": "execute_result"
    }
   ],
   "source": [
    "random_array"
   ]
  },
  {
   "cell_type": "code",
   "execution_count": 107,
   "id": "d3027d18-8403-40ce-a16c-baeac71537ea",
   "metadata": {},
   "outputs": [],
   "source": [
    "#basic indexing"
   ]
  },
  {
   "cell_type": "code",
   "execution_count": 115,
   "id": "82990717-bdc9-4258-ba0b-8a16abb16e89",
   "metadata": {},
   "outputs": [
    {
     "name": "stdout",
     "output_type": "stream",
     "text": [
      "10\n",
      "40\n"
     ]
    }
   ],
   "source": [
    "arr=np.array([10,20,30,40])\n",
    "print(arr[0])\n",
    "print(arr[-1])"
   ]
  },
  {
   "cell_type": "code",
   "execution_count": 117,
   "id": "0f896edb-648a-4e76-9a1f-2c51f33f45f7",
   "metadata": {},
   "outputs": [],
   "source": [
    "arr1=np.array([[23,4,6,3],[1,67,98,6]])"
   ]
  },
  {
   "cell_type": "code",
   "execution_count": 119,
   "id": "ecb6c606-8b2e-45f8-a870-c426762a9ca6",
   "metadata": {},
   "outputs": [
    {
     "data": {
      "text/plain": [
       "array([[23,  4,  6,  3],\n",
       "       [ 1, 67, 98,  6]])"
      ]
     },
     "execution_count": 119,
     "metadata": {},
     "output_type": "execute_result"
    }
   ],
   "source": [
    "arr1"
   ]
  },
  {
   "cell_type": "code",
   "execution_count": 123,
   "id": "925cd5e4-feff-46c8-b5b2-ef530f2ab397",
   "metadata": {},
   "outputs": [
    {
     "name": "stdout",
     "output_type": "stream",
     "text": [
      "3\n"
     ]
    }
   ],
   "source": [
    "print(arr1[0,3])"
   ]
  },
  {
   "cell_type": "code",
   "execution_count": 125,
   "id": "3845a40e-a688-4912-a9a0-2c3136db01fe",
   "metadata": {},
   "outputs": [
    {
     "name": "stdout",
     "output_type": "stream",
     "text": [
      "6\n"
     ]
    }
   ],
   "source": [
    "print(arr1[1,-1])"
   ]
  },
  {
   "cell_type": "code",
   "execution_count": 127,
   "id": "20bbf671-e0de-4ded-9dd0-861be3943afe",
   "metadata": {},
   "outputs": [],
   "source": [
    "#1D array slicing"
   ]
  },
  {
   "cell_type": "code",
   "execution_count": 137,
   "id": "d385e9b4-4457-404a-8ff1-c4811f57eb95",
   "metadata": {},
   "outputs": [
    {
     "name": "stdout",
     "output_type": "stream",
     "text": [
      "[7 8 5]\n",
      "[1 7 8 5 4 3]\n",
      "[1 7 8 5 4]\n"
     ]
    }
   ],
   "source": [
    "arr2=np.array([1,7,8,5,4,3])\n",
    "print(arr2[1:4])\n",
    "print(arr2[:6])\n",
    "print(arr2[:-1])"
   ]
  },
  {
   "cell_type": "code",
   "execution_count": 139,
   "id": "d1568608-74f8-43cc-bdcc-373805dc90bd",
   "metadata": {},
   "outputs": [],
   "source": [
    "matrix=np.array([[1,2,3],\n",
    "                 [4,5,6],\n",
    "                 [7,8,9]])"
   ]
  },
  {
   "cell_type": "code",
   "execution_count": 201,
   "id": "7e3950d0-be91-48e9-a98d-13fd3076d0d4",
   "metadata": {},
   "outputs": [
    {
     "name": "stdout",
     "output_type": "stream",
     "text": [
      "[[2 3]]\n"
     ]
    }
   ],
   "source": [
    "print(matrix[0:1,1:3])"
   ]
  },
  {
   "cell_type": "code",
   "execution_count": 153,
   "id": "477dcac5-a995-4aaf-99c8-61e00a661251",
   "metadata": {},
   "outputs": [
    {
     "name": "stdout",
     "output_type": "stream",
     "text": [
      "[[8]]\n"
     ]
    }
   ],
   "source": [
    "print(matrix[2:3,1:2])"
   ]
  },
  {
   "cell_type": "code",
   "execution_count": 161,
   "id": "f04d78b1-eadc-440a-90e4-2fc40ed4f46e",
   "metadata": {},
   "outputs": [
    {
     "name": "stdout",
     "output_type": "stream",
     "text": [
      "[[5 6]]\n"
     ]
    }
   ],
   "source": [
    "print(matrix[1:2,1:3])"
   ]
  },
  {
   "cell_type": "code",
   "execution_count": 167,
   "id": "ef2ffd5a-6d73-4d5e-baa4-06bfa56a4b98",
   "metadata": {},
   "outputs": [],
   "source": [
    "v=np.array([1,2,3,4])"
   ]
  },
  {
   "cell_type": "code",
   "execution_count": 171,
   "id": "8f6442fe-f3da-48e0-b019-e798880746e9",
   "metadata": {},
   "outputs": [],
   "source": [
    "s=v[1:3]"
   ]
  },
  {
   "cell_type": "code",
   "execution_count": 173,
   "id": "067cddc5-ae83-43cb-9b88-0fcd3b1dbadb",
   "metadata": {},
   "outputs": [
    {
     "data": {
      "text/plain": [
       "array([2, 3])"
      ]
     },
     "execution_count": 173,
     "metadata": {},
     "output_type": "execute_result"
    }
   ],
   "source": [
    "s"
   ]
  },
  {
   "cell_type": "code",
   "execution_count": 189,
   "id": "0c2305fc-654a-4cea-b019-e8da066c6e8a",
   "metadata": {},
   "outputs": [],
   "source": [
    "#copy"
   ]
  },
  {
   "cell_type": "code",
   "execution_count": 191,
   "id": "a068d10a-fa25-4a9b-afb7-2d1133cc76b8",
   "metadata": {},
   "outputs": [],
   "source": [
    "a=np.array([1,2,3,4,5])"
   ]
  },
  {
   "cell_type": "code",
   "execution_count": 193,
   "id": "29aa56b8-3824-48b4-86b9-1f188ac8e78b",
   "metadata": {},
   "outputs": [],
   "source": [
    "b=a[1:3].copy()"
   ]
  },
  {
   "cell_type": "code",
   "execution_count": 195,
   "id": "fab4af99-b8f9-45cd-9f94-791870319a72",
   "metadata": {},
   "outputs": [
    {
     "data": {
      "text/plain": [
       "array([2, 3])"
      ]
     },
     "execution_count": 195,
     "metadata": {},
     "output_type": "execute_result"
    }
   ],
   "source": [
    "b"
   ]
  },
  {
   "cell_type": "code",
   "execution_count": 203,
   "id": "b0bd5f45-f64d-4f22-911d-7b90221512e1",
   "metadata": {},
   "outputs": [],
   "source": [
    "#shape"
   ]
  },
  {
   "cell_type": "code",
   "execution_count": 205,
   "id": "15552300-5d34-4085-a48e-ce98b6bf7a89",
   "metadata": {},
   "outputs": [],
   "source": [
    "arr=np.array([[1,2,3],[4,5,6]])"
   ]
  },
  {
   "cell_type": "code",
   "execution_count": 207,
   "id": "76d5b03f-396d-459a-9a50-76c6a438081c",
   "metadata": {},
   "outputs": [
    {
     "data": {
      "text/plain": [
       "(2, 3)"
      ]
     },
     "execution_count": 207,
     "metadata": {},
     "output_type": "execute_result"
    }
   ],
   "source": [
    "arr.shape"
   ]
  },
  {
   "cell_type": "code",
   "execution_count": 225,
   "id": "5e31e256-3923-4bcc-96fa-2d48b3584628",
   "metadata": {},
   "outputs": [],
   "source": [
    "a=np.arange(12)"
   ]
  },
  {
   "cell_type": "code",
   "execution_count": 227,
   "id": "22a609ef-9fee-4ec4-a7c4-1531063fd354",
   "metadata": {},
   "outputs": [
    {
     "data": {
      "text/plain": [
       "array([ 0,  1,  2,  3,  4,  5,  6,  7,  8,  9, 10, 11])"
      ]
     },
     "execution_count": 227,
     "metadata": {},
     "output_type": "execute_result"
    }
   ],
   "source": [
    "a"
   ]
  },
  {
   "cell_type": "code",
   "execution_count": 231,
   "id": "fc5cf87d-6480-41f4-b925-670a039fa62e",
   "metadata": {},
   "outputs": [],
   "source": [
    "b=a.reshape(3,4)"
   ]
  },
  {
   "cell_type": "code",
   "execution_count": 233,
   "id": "d67a430e-7586-4e1f-9cfe-b8be49ccfb80",
   "metadata": {},
   "outputs": [
    {
     "data": {
      "text/plain": [
       "array([[ 0,  1,  2,  3],\n",
       "       [ 4,  5,  6,  7],\n",
       "       [ 8,  9, 10, 11]])"
      ]
     },
     "execution_count": 233,
     "metadata": {},
     "output_type": "execute_result"
    }
   ],
   "source": [
    "b"
   ]
  },
  {
   "cell_type": "code",
   "execution_count": 235,
   "id": "7d622d7b-3ab9-4f68-9765-ce3296758ecc",
   "metadata": {},
   "outputs": [],
   "source": [
    "d=np.arange(20)"
   ]
  },
  {
   "cell_type": "code",
   "execution_count": 237,
   "id": "cea856a9-43bf-4d6d-9254-b41173ce590b",
   "metadata": {},
   "outputs": [
    {
     "data": {
      "text/plain": [
       "array([ 0,  1,  2,  3,  4,  5,  6,  7,  8,  9, 10, 11, 12, 13, 14, 15, 16,\n",
       "       17, 18, 19])"
      ]
     },
     "execution_count": 237,
     "metadata": {},
     "output_type": "execute_result"
    }
   ],
   "source": [
    "d"
   ]
  },
  {
   "cell_type": "code",
   "execution_count": 239,
   "id": "a25cba43-3e8a-473f-bb40-9fa6e85e629e",
   "metadata": {},
   "outputs": [],
   "source": [
    "e=d.reshape(5,4)"
   ]
  },
  {
   "cell_type": "code",
   "execution_count": 241,
   "id": "799f4dbb-04b6-421a-a2a9-9044add55eeb",
   "metadata": {},
   "outputs": [
    {
     "data": {
      "text/plain": [
       "array([[ 0,  1,  2,  3],\n",
       "       [ 4,  5,  6,  7],\n",
       "       [ 8,  9, 10, 11],\n",
       "       [12, 13, 14, 15],\n",
       "       [16, 17, 18, 19]])"
      ]
     },
     "execution_count": 241,
     "metadata": {},
     "output_type": "execute_result"
    }
   ],
   "source": [
    "e"
   ]
  },
  {
   "cell_type": "code",
   "execution_count": 251,
   "id": "1c779ab2-363f-433f-aef3-b5550825fc32",
   "metadata": {},
   "outputs": [],
   "source": [
    "arr_3d=np.array([[0,1,2],\n",
    "              [4,5,6],\n",
    "              [7,8,9]])"
   ]
  },
  {
   "cell_type": "code",
   "execution_count": 253,
   "id": "8c5072ff-00c4-4b1b-8068-25ddbcc50d78",
   "metadata": {},
   "outputs": [
    {
     "data": {
      "text/plain": [
       "array([[0, 4, 7],\n",
       "       [1, 5, 8],\n",
       "       [2, 6, 9]])"
      ]
     },
     "execution_count": 253,
     "metadata": {},
     "output_type": "execute_result"
    }
   ],
   "source": [
    "arr_3d.transpose()"
   ]
  },
  {
   "cell_type": "code",
   "execution_count": 255,
   "id": "8d87d8ba-6992-4ce3-b564-e92a55db8334",
   "metadata": {},
   "outputs": [],
   "source": [
    "arr=np.array([[1,2,3,4,5,6],[10,20,30,40,50,60]])"
   ]
  },
  {
   "cell_type": "code",
   "execution_count": 257,
   "id": "b8b21bc8-f755-468c-977c-a42c285b9ae3",
   "metadata": {},
   "outputs": [
    {
     "data": {
      "text/plain": [
       "array([[ 1, 10],\n",
       "       [ 2, 20],\n",
       "       [ 3, 30],\n",
       "       [ 4, 40],\n",
       "       [ 5, 50],\n",
       "       [ 6, 60]])"
      ]
     },
     "execution_count": 257,
     "metadata": {},
     "output_type": "execute_result"
    }
   ],
   "source": [
    "arr.transpose()"
   ]
  },
  {
   "cell_type": "code",
   "execution_count": null,
   "id": "4cb9721d-b21a-4dd6-ae6b-9454f05accf6",
   "metadata": {},
   "outputs": [],
   "source": []
  }
 ],
 "metadata": {
  "kernelspec": {
   "display_name": "Python [conda env:base] *",
   "language": "python",
   "name": "conda-base-py"
  },
  "language_info": {
   "codemirror_mode": {
    "name": "ipython",
    "version": 3
   },
   "file_extension": ".py",
   "mimetype": "text/x-python",
   "name": "python",
   "nbconvert_exporter": "python",
   "pygments_lexer": "ipython3",
   "version": "3.12.7"
  }
 },
 "nbformat": 4,
 "nbformat_minor": 5
}
