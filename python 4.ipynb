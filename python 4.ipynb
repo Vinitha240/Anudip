{
 "cells": [
  {
   "cell_type": "code",
   "execution_count": 11,
   "id": "0d4472a0-26c8-49a8-97ce-8987de262473",
   "metadata": {},
   "outputs": [
    {
     "name": "stdout",
     "output_type": "stream",
     "text": [
      "strong password\n"
     ]
    }
   ],
   "source": [
    "password = ('123viniii')              #practise\n",
    "if len(password)<6:\n",
    "    print('weak password')\n",
    "elif len(password)<8:\n",
    "    print('moderate password')\n",
    "else:\n",
    "    print('strong password')\n"
   ]
  },
  {
   "cell_type": "markdown",
   "id": "08a70baf-8c65-49ce-b969-eba613c1d95b",
   "metadata": {},
   "source": [
    "#For loop"
   ]
  },
  {
   "cell_type": "code",
   "execution_count": 30,
   "id": "f03ff6b9-2414-4a5c-9d96-85a0e2d9b082",
   "metadata": {},
   "outputs": [],
   "source": [
    "#syntax   for varaible in sequence:"
   ]
  },
  {
   "cell_type": "code",
   "execution_count": 18,
   "id": "c1c39bc2-29e5-45a9-86e6-3c5dbff129d6",
   "metadata": {},
   "outputs": [],
   "source": [
    "a = (1,2,3,4,5,6)"
   ]
  },
  {
   "cell_type": "code",
   "execution_count": 26,
   "id": "950e8930-a2ee-4395-b4eb-7eddbebc7e36",
   "metadata": {},
   "outputs": [
    {
     "name": "stdout",
     "output_type": "stream",
     "text": [
      "1\n",
      "2\n",
      "3\n",
      "4\n",
      "5\n",
      "6\n"
     ]
    }
   ],
   "source": [
    "for i in a:\n",
    "    print(i)"
   ]
  },
  {
   "cell_type": "code",
   "execution_count": 32,
   "id": "43230a6a-0a86-4f3b-9d0a-de4064f8e7b3",
   "metadata": {},
   "outputs": [
    {
     "name": "stdout",
     "output_type": "stream",
     "text": [
      "apple\n",
      "cherry\n",
      "mango\n"
     ]
    }
   ],
   "source": [
    "#Example 1\n",
    "\n",
    "fruits = ['apple','cherry','mango']\n",
    "for i in fruits:\n",
    "    print(i)"
   ]
  },
  {
   "cell_type": "code",
   "execution_count": 34,
   "id": "ff80f439-91a6-47f5-8186-8c296f6021ed",
   "metadata": {},
   "outputs": [
    {
     "name": "stdout",
     "output_type": "stream",
     "text": [
      "h\n",
      "e\n",
      "l\n",
      "l\n",
      "o\n"
     ]
    }
   ],
   "source": [
    "#Example 2   iterating  a string\n",
    "\n",
    "string='hello'\n",
    "for i in string:\n",
    "    print(i)"
   ]
  },
  {
   "cell_type": "code",
   "execution_count": 36,
   "id": "62ecad1e-9396-48ed-a1ab-25efc613edfa",
   "metadata": {},
   "outputs": [
    {
     "data": {
      "text/plain": [
       "range(0, 5)"
      ]
     },
     "execution_count": 36,
     "metadata": {},
     "output_type": "execute_result"
    }
   ],
   "source": [
    "range(0,5)"
   ]
  },
  {
   "cell_type": "code",
   "execution_count": 44,
   "id": "3ec40bcb-8e16-468b-8e77-6f06d1135689",
   "metadata": {},
   "outputs": [
    {
     "name": "stdout",
     "output_type": "stream",
     "text": [
      "5\n",
      "6\n",
      "7\n",
      "8\n",
      "9\n"
     ]
    }
   ],
   "source": [
    "for i in range(5,10):\n",
    "    print(i)"
   ]
  },
  {
   "cell_type": "code",
   "execution_count": 46,
   "id": "d9424645-171f-4a81-a06f-826ef1a5e34f",
   "metadata": {},
   "outputs": [
    {
     "name": "stdout",
     "output_type": "stream",
     "text": [
      "1\n",
      "3\n",
      "5\n",
      "7\n",
      "9\n"
     ]
    }
   ],
   "source": [
    "for i in range(1,10,2):\n",
    "    print(i)"
   ]
  },
  {
   "cell_type": "code",
   "execution_count": 52,
   "id": "6ca1cd91-f0b7-4db1-abbc-cd2cfb3a9444",
   "metadata": {},
   "outputs": [
    {
     "name": "stdout",
     "output_type": "stream",
     "text": [
      "0\n",
      "1\n",
      "2\n",
      "3\n",
      "loop is finished\n"
     ]
    }
   ],
   "source": [
    "for i in range(4):\n",
    "    print (i)\n",
    "else:\n",
    "    print('loop is finished')"
   ]
  },
  {
   "cell_type": "code",
   "execution_count": 78,
   "id": "1088b962-55f3-4983-ae7b-3cad8ece0879",
   "metadata": {},
   "outputs": [
    {
     "name": "stdout",
     "output_type": "stream",
     "text": [
      "i=0,j=0\n",
      "i=0,j=1\n",
      "i=0,j=2\n",
      "i=1,j=0\n",
      "i=1,j=1\n",
      "i=1,j=2\n"
     ]
    }
   ],
   "source": [
    "for i in range(2):  \n",
    "    for j in range(3):    \n",
    "        print(f'i={i},j={j}')"
   ]
  },
  {
   "cell_type": "code",
   "execution_count": 84,
   "id": "b768f45b-2205-4431-a9cc-0c18252ac154",
   "metadata": {},
   "outputs": [],
   "source": [
    "name='vinitha'"
   ]
  },
  {
   "cell_type": "code",
   "execution_count": 98,
   "id": "4f0424f5-0ec6-4122-af66-4ba26b61abbb",
   "metadata": {},
   "outputs": [
    {
     "name": "stdout",
     "output_type": "stream",
     "text": [
      "my name is vinitha\n"
     ]
    }
   ],
   "source": [
    "print(f'my name is {name}')"
   ]
  },
  {
   "cell_type": "code",
   "execution_count": 88,
   "id": "26885c74-349a-4428-b8b6-04c28621f228",
   "metadata": {},
   "outputs": [
    {
     "name": "stdout",
     "output_type": "stream",
     "text": [
      "this is inner loop\n",
      "this is inner loop\n",
      "this is outer loop\n",
      "this is outer loop\n",
      "this is outer loop\n",
      "this is outer loop\n"
     ]
    }
   ],
   "source": [
    "for i in range(2):\n",
    "    print('this is inner loop')\n",
    "for j in range(4):\n",
    "    print('this is outer loop')"
   ]
  },
  {
   "cell_type": "code",
   "execution_count": 94,
   "id": "365281bc-eabe-46f1-9884-eaa63201c836",
   "metadata": {},
   "outputs": [
    {
     "name": "stdout",
     "output_type": "stream",
     "text": [
      "0\n",
      "this is first\n",
      "this is second\n",
      "this is third\n",
      "1\n",
      "this is first\n",
      "this is second\n",
      "this is third\n",
      "2\n",
      "this is first\n",
      "this is second\n",
      "this is third\n"
     ]
    }
   ],
   "source": [
    "for i in range(3):\n",
    "    print(i)\n",
    "    print('this is first')\n",
    "    print('this is second')\n",
    "    print('this is third')\n",
    "    "
   ]
  },
  {
   "cell_type": "code",
   "execution_count": 100,
   "id": "365548eb-fc44-4c35-bbe8-40469b947acf",
   "metadata": {},
   "outputs": [],
   "source": [
    "a=[1,6,4]"
   ]
  },
  {
   "cell_type": "code",
   "execution_count": 102,
   "id": "e76652fa-4952-49dc-b842-ac360188dc21",
   "metadata": {},
   "outputs": [
    {
     "data": {
      "text/plain": [
       "4"
      ]
     },
     "execution_count": 102,
     "metadata": {},
     "output_type": "execute_result"
    }
   ],
   "source": [
    "a[2]"
   ]
  },
  {
   "cell_type": "code",
   "execution_count": 128,
   "id": "8846ea79-759c-401a-89c2-3f017542dfbf",
   "metadata": {},
   "outputs": [
    {
     "name": "stdout",
     "output_type": "stream",
     "text": [
      "0 = h\n",
      "1 = e\n",
      "2 = l\n",
      "3 = l\n",
      "4 = o\n"
     ]
    }
   ],
   "source": [
    "str='hello'\n",
    "n=len(str)\n",
    "for i in range(n): \n",
    "    print(i, '=',str[i])"
   ]
  },
  {
   "cell_type": "code",
   "execution_count": 104,
   "id": "68384fcc-de5c-43ad-8b3b-65070ceaa2e7",
   "metadata": {},
   "outputs": [],
   "source": [
    "#Break"
   ]
  },
  {
   "cell_type": "code",
   "execution_count": 120,
   "id": "6f43c6a0-d468-4764-bf40-d2a108d4d37f",
   "metadata": {},
   "outputs": [
    {
     "name": "stdout",
     "output_type": "stream",
     "text": [
      "0\n",
      "1\n",
      "2\n",
      "3\n",
      "4\n",
      "5\n",
      "6\n",
      "for loop is stopped\n"
     ]
    }
   ],
   "source": [
    "for i in range(10):\n",
    "    if i==7:\n",
    "        break\n",
    "    print(i)  \n",
    "print('for loop is stopped')"
   ]
  },
  {
   "cell_type": "code",
   "execution_count": 122,
   "id": "9072a167-cf63-4c7e-b4a1-62e217bbb3c6",
   "metadata": {},
   "outputs": [],
   "source": [
    "#Continue\n"
   ]
  },
  {
   "cell_type": "code",
   "execution_count": 124,
   "id": "5bb718a4-29e8-46b0-9599-4e33bdf8c48f",
   "metadata": {},
   "outputs": [
    {
     "name": "stdout",
     "output_type": "stream",
     "text": [
      "0\n",
      "1\n",
      "2\n",
      "3\n",
      "4\n",
      "5\n",
      "6\n",
      "8\n",
      "9\n",
      "10\n",
      "11\n"
     ]
    }
   ],
   "source": [
    "for i in range(12):\n",
    "    if i==7:\n",
    "        continue\n",
    "    print(i)\n"
   ]
  },
  {
   "cell_type": "code",
   "execution_count": 142,
   "id": "222c5589-c27d-40e3-9e16-7d0dc7800b60",
   "metadata": {},
   "outputs": [
    {
     "name": "stdout",
     "output_type": "stream",
     "text": [
      "list 4 found!\n"
     ]
    }
   ],
   "source": [
    "list=[1,2,3,4,5]\n",
    "target=4\n",
    "for list in list:\n",
    "    if list==target:\n",
    "        print(f'list {target} found!')\n",
    "        break\n",
    "        "
   ]
  },
  {
   "cell_type": "code",
   "execution_count": null,
   "id": "bb5bc76e-bff2-4b44-93ee-7817359a9c46",
   "metadata": {},
   "outputs": [],
   "source": []
  }
 ],
 "metadata": {
  "kernelspec": {
   "display_name": "Python [conda env:base] *",
   "language": "python",
   "name": "conda-base-py"
  },
  "language_info": {
   "codemirror_mode": {
    "name": "ipython",
    "version": 3
   },
   "file_extension": ".py",
   "mimetype": "text/x-python",
   "name": "python",
   "nbconvert_exporter": "python",
   "pygments_lexer": "ipython3",
   "version": "3.12.7"
  }
 },
 "nbformat": 4,
 "nbformat_minor": 5
}
