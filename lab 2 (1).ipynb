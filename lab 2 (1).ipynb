{
 "cells": [
  {
   "cell_type": "code",
   "execution_count": 1,
   "id": "b89e1ef6-0732-4e97-a452-4f5edf478e9a",
   "metadata": {},
   "outputs": [],
   "source": [
    "#lab 2"
   ]
  },
  {
   "cell_type": "code",
   "execution_count": 9,
   "id": "c809ed57-5dff-49fa-8b8b-1ecc2847f2bd",
   "metadata": {},
   "outputs": [
    {
     "name": "stdin",
     "output_type": "stream",
     "text": [
      "enter the number: 6\n"
     ]
    },
    {
     "name": "stdout",
     "output_type": "stream",
     "text": [
      "The number is Even\n"
     ]
    }
   ],
   "source": [
    "# 1using input() function take one number from the user and using ternary operators check whether the number is even or odd\n",
    "num = int(input(\"enter the number:\"))\n",
    "result = \"Even\" if num % 2==0 else  \"Odd\"\n",
    "print(\"The number is\",result)"
   ]
  },
  {
   "cell_type": "code",
   "execution_count": 13,
   "id": "b43c976d-5c51-47f9-bfa6-939149919c75",
   "metadata": {},
   "outputs": [
    {
     "name": "stdout",
     "output_type": "stream",
     "text": [
      "after swapping: x= 9 , y = 10\n"
     ]
    }
   ],
   "source": [
    "# 2using input function take two number and then swap the number\n",
    "x = 10\n",
    "y = 9 \n",
    "x,y = y,x \n",
    "print(\"after swapping: x=\", x, \", y =\", y)"
   ]
  },
  {
   "cell_type": "code",
   "execution_count": 15,
   "id": "f1df2be8-f951-4e8e-a8c1-9189b05410f8",
   "metadata": {},
   "outputs": [
    {
     "name": "stdin",
     "output_type": "stream",
     "text": [
      "enter distance in kilometers:  3\n"
     ]
    },
    {
     "name": "stdout",
     "output_type": "stream",
     "text": [
      "3.0 kilometers is equal to 1.86 miles\n"
     ]
    }
   ],
   "source": [
    "# 3write a program to convert kilometers to miles\n",
    "km = float(input(\"enter distance in kilometers: \"))\n",
    "miles = km*0.621371\n",
    "print(f\"{km} kilometers is equal to {miles:.2f} miles\")"
   ]
  },
  {
   "cell_type": "code",
   "execution_count": 21,
   "id": "e52b86cd-5faf-416c-bef3-e08f94fc2239",
   "metadata": {},
   "outputs": [
    {
     "name": "stdout",
     "output_type": "stream",
     "text": [
      "Simple Interest is : 50.0\n"
     ]
    }
   ],
   "source": [
    "# 4find the simple interest on RS 200 for 5 years at 5% per year\n",
    "I=200\n",
    "T=5\n",
    "R=5\n",
    "Simple_Interest=I*T*R/100\n",
    "print(\"Simple Interest is :\",Simple_Interest)\n"
   ]
  },
  {
   "cell_type": "code",
   "execution_count": null,
   "id": "d472f30c-0e7e-47d4-9f93-43ede7a1f82a",
   "metadata": {},
   "outputs": [],
   "source": []
  }
 ],
 "metadata": {
  "kernelspec": {
   "display_name": "Python [conda env:base] *",
   "language": "python",
   "name": "conda-base-py"
  },
  "language_info": {
   "codemirror_mode": {
    "name": "ipython",
    "version": 3
   },
   "file_extension": ".py",
   "mimetype": "text/x-python",
   "name": "python",
   "nbconvert_exporter": "python",
   "pygments_lexer": "ipython3",
   "version": "3.12.7"
  }
 },
 "nbformat": 4,
 "nbformat_minor": 5
}
