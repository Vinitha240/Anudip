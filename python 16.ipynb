{
 "cells": [
  {
   "cell_type": "code",
   "execution_count": 1,
   "id": "fcdb514a-853f-441a-9779-b153c9ff4728",
   "metadata": {},
   "outputs": [],
   "source": [
    "#numpy"
   ]
  },
  {
   "cell_type": "code",
   "execution_count": 3,
   "id": "ef424dec-6465-40cb-86bd-c46cba27a44f",
   "metadata": {},
   "outputs": [],
   "source": [
    "#array module"
   ]
  },
  {
   "cell_type": "code",
   "execution_count": 83,
   "id": "6f9260e2-78fa-4fef-b14a-e6c199976ea5",
   "metadata": {},
   "outputs": [],
   "source": [
    "from array import array\n",
    "my_array=('i',[2,5,7,8,6])"
   ]
  },
  {
   "cell_type": "code",
   "execution_count": 85,
   "id": "1657f99c-cce0-413a-b2ed-6d765a2106f1",
   "metadata": {},
   "outputs": [
    {
     "data": {
      "text/plain": [
       "('i', [2, 5, 7, 8, 6])"
      ]
     },
     "execution_count": 85,
     "metadata": {},
     "output_type": "execute_result"
    }
   ],
   "source": [
    "my_array "
   ]
  },
  {
   "cell_type": "code",
   "execution_count": 29,
   "id": "9ae56dd4-57cb-46a5-bf1a-7ca2646b1abe",
   "metadata": {},
   "outputs": [
    {
     "data": {
      "text/plain": [
       "array.array"
      ]
     },
     "execution_count": 29,
     "metadata": {},
     "output_type": "execute_result"
    }
   ],
   "source": [
    "type(my_array)"
   ]
  },
  {
   "cell_type": "code",
   "execution_count": 15,
   "id": "9af6909b-b0f8-4c2b-afaa-4f714d63847b",
   "metadata": {},
   "outputs": [],
   "source": [
    "#numpy arrays"
   ]
  },
  {
   "cell_type": "code",
   "execution_count": 19,
   "id": "7a84dc29-004c-4465-9976-1b95071747d6",
   "metadata": {},
   "outputs": [],
   "source": [
    "import numpy as np"
   ]
  },
  {
   "cell_type": "code",
   "execution_count": 21,
   "id": "00c08651-e903-4359-bdcd-52a17579564d",
   "metadata": {},
   "outputs": [],
   "source": [
    "arr=np.array([1,2,3,4,5])"
   ]
  },
  {
   "cell_type": "code",
   "execution_count": 23,
   "id": "4da270e8-84f9-4505-aa85-0ea0e3d62109",
   "metadata": {},
   "outputs": [
    {
     "data": {
      "text/plain": [
       "array([1, 2, 3, 4, 5])"
      ]
     },
     "execution_count": 23,
     "metadata": {},
     "output_type": "execute_result"
    }
   ],
   "source": [
    "arr"
   ]
  },
  {
   "cell_type": "code",
   "execution_count": 25,
   "id": "31adf4ef-fb67-4fa2-9f39-bb760df82a9a",
   "metadata": {},
   "outputs": [
    {
     "data": {
      "text/plain": [
       "numpy.ndarray"
      ]
     },
     "execution_count": 25,
     "metadata": {},
     "output_type": "execute_result"
    }
   ],
   "source": [
    "type(arr)"
   ]
  },
  {
   "cell_type": "code",
   "execution_count": 27,
   "id": "a87ae6a5-bc15-49fc-91fe-9b05726d218a",
   "metadata": {},
   "outputs": [
    {
     "data": {
      "text/plain": [
       "1"
      ]
     },
     "execution_count": 27,
     "metadata": {},
     "output_type": "execute_result"
    }
   ],
   "source": [
    "arr.ndim"
   ]
  },
  {
   "cell_type": "code",
   "execution_count": 31,
   "id": "1eafb18e-fb24-4206-bcb6-71f3accb4357",
   "metadata": {},
   "outputs": [
    {
     "data": {
      "text/plain": [
       "dtype('int32')"
      ]
     },
     "execution_count": 31,
     "metadata": {},
     "output_type": "execute_result"
    }
   ],
   "source": [
    "arr.dtype"
   ]
  },
  {
   "cell_type": "code",
   "execution_count": 57,
   "id": "233a6c32-da8a-4a06-8e4d-32ec7ddd260d",
   "metadata": {},
   "outputs": [],
   "source": [
    "array_new = np.array([1,2,3,4,5])"
   ]
  },
  {
   "cell_type": "code",
   "execution_count": 53,
   "id": "b99c0b0c-94d7-45a5-acdb-aba08ec28ff9",
   "metadata": {},
   "outputs": [
    {
     "data": {
      "text/plain": [
       "array([4, 5, 6, 7, 8])"
      ]
     },
     "execution_count": 53,
     "metadata": {},
     "output_type": "execute_result"
    }
   ],
   "source": [
    "array_new +3"
   ]
  },
  {
   "cell_type": "code",
   "execution_count": 45,
   "id": "52f0ac7a-55d4-495e-bfa7-9d9cdc28bbe5",
   "metadata": {},
   "outputs": [
    {
     "data": {
      "text/plain": [
       "numpy.ndarray"
      ]
     },
     "execution_count": 45,
     "metadata": {},
     "output_type": "execute_result"
    }
   ],
   "source": [
    "type(array_new)"
   ]
  },
  {
   "cell_type": "code",
   "execution_count": 59,
   "id": "806dc0f3-9b94-4789-ab2e-d239904a18ab",
   "metadata": {},
   "outputs": [],
   "source": [
    "my_numpy_array=np.array([1,2,3,4,5])"
   ]
  },
  {
   "cell_type": "code",
   "execution_count": 61,
   "id": "e35b11da-10f8-47d0-a54e-61ae0e7232b6",
   "metadata": {},
   "outputs": [],
   "source": [
    "new_array=my_numpy_array*3"
   ]
  },
  {
   "cell_type": "code",
   "execution_count": 63,
   "id": "c5a157f6-009d-49c3-ac32-c7c1f2277115",
   "metadata": {},
   "outputs": [
    {
     "data": {
      "text/plain": [
       "array([ 3,  6,  9, 12, 15])"
      ]
     },
     "execution_count": 63,
     "metadata": {},
     "output_type": "execute_result"
    }
   ],
   "source": [
    "new_array"
   ]
  },
  {
   "cell_type": "code",
   "execution_count": 65,
   "id": "ec1f3903-0d2a-4039-bcc8-9a40d69c6077",
   "metadata": {},
   "outputs": [
    {
     "data": {
      "text/plain": [
       "numpy.ndarray"
      ]
     },
     "execution_count": 65,
     "metadata": {},
     "output_type": "execute_result"
    }
   ],
   "source": [
    "type(new_array)"
   ]
  },
  {
   "cell_type": "code",
   "execution_count": 67,
   "id": "bcadde74-1d9c-4038-b2bc-f105bdd98bf0",
   "metadata": {},
   "outputs": [
    {
     "data": {
      "text/plain": [
       "numpy.ndarray"
      ]
     },
     "execution_count": 67,
     "metadata": {},
     "output_type": "execute_result"
    }
   ],
   "source": [
    "type(my_numpy_array)"
   ]
  },
  {
   "cell_type": "code",
   "execution_count": 71,
   "id": "892b700c-7c41-4d5b-a1fd-8247ca210b1a",
   "metadata": {},
   "outputs": [
    {
     "data": {
      "text/plain": [
       "array([False,  True,  True,  True,  True])"
      ]
     },
     "execution_count": 71,
     "metadata": {},
     "output_type": "execute_result"
    }
   ],
   "source": [
    "new_array>5"
   ]
  },
  {
   "cell_type": "code",
   "execution_count": 87,
   "id": "bf914f77-3996-4ee3-9f31-077b1859f6da",
   "metadata": {},
   "outputs": [],
   "source": [
    "matrix=np.array([\n",
    "    [1,2,3],\n",
    "    [4,3,5],\n",
    "    [3,7,9]])"
   ]
  },
  {
   "cell_type": "code",
   "execution_count": 89,
   "id": "5293fcc4-6715-473a-a628-3d116b3520a5",
   "metadata": {},
   "outputs": [
    {
     "data": {
      "text/plain": [
       "array([[1, 2, 3],\n",
       "       [4, 3, 5],\n",
       "       [3, 7, 9]])"
      ]
     },
     "execution_count": 89,
     "metadata": {},
     "output_type": "execute_result"
    }
   ],
   "source": [
    "matrix"
   ]
  },
  {
   "cell_type": "code",
   "execution_count": 99,
   "id": "88e2a1a8-4ba1-4eff-805a-abf4c95a4e0a",
   "metadata": {},
   "outputs": [],
   "source": [
    "arr_2d=np.array([[0,1,2],[3,4,5],[7,9,8]])"
   ]
  },
  {
   "cell_type": "code",
   "execution_count": 101,
   "id": "cfcac468-1c74-434f-9393-08aac0dab444",
   "metadata": {},
   "outputs": [
    {
     "data": {
      "text/plain": [
       "array([[ 0,  2,  4],\n",
       "       [ 6,  8, 10],\n",
       "       [14, 18, 16]])"
      ]
     },
     "execution_count": 101,
     "metadata": {},
     "output_type": "execute_result"
    }
   ],
   "source": [
    "arr_2d*2"
   ]
  },
  {
   "cell_type": "code",
   "execution_count": 103,
   "id": "974de52f-32b9-4443-8566-4df32aedc84f",
   "metadata": {},
   "outputs": [
    {
     "data": {
      "text/plain": [
       "numpy.ndarray"
      ]
     },
     "execution_count": 103,
     "metadata": {},
     "output_type": "execute_result"
    }
   ],
   "source": [
    "type(arr_2d)"
   ]
  },
  {
   "cell_type": "code",
   "execution_count": 107,
   "id": "ea6a111c-28a9-4c64-b00e-7fea3a416dd4",
   "metadata": {},
   "outputs": [
    {
     "data": {
      "text/plain": [
       "2"
      ]
     },
     "execution_count": 107,
     "metadata": {},
     "output_type": "execute_result"
    }
   ],
   "source": [
    "arr_2d.ndim"
   ]
  },
  {
   "cell_type": "code",
   "execution_count": 109,
   "id": "64cb77af-22f7-4697-a95f-9a9f2068b7cb",
   "metadata": {},
   "outputs": [
    {
     "data": {
      "text/plain": [
       "array([[ 2,  3,  4],\n",
       "       [ 5,  6,  7],\n",
       "       [ 9, 11, 10]])"
      ]
     },
     "execution_count": 109,
     "metadata": {},
     "output_type": "execute_result"
    }
   ],
   "source": [
    "arr_2d+2"
   ]
  },
  {
   "cell_type": "code",
   "execution_count": 111,
   "id": "22c33bc2-e7a9-44a7-87fe-be6ff401d536",
   "metadata": {},
   "outputs": [
    {
     "data": {
      "text/plain": [
       "array([[-1,  0,  1],\n",
       "       [ 2,  3,  4],\n",
       "       [ 6,  8,  7]])"
      ]
     },
     "execution_count": 111,
     "metadata": {},
     "output_type": "execute_result"
    }
   ],
   "source": [
    "arr_2d-1"
   ]
  },
  {
   "cell_type": "code",
   "execution_count": 113,
   "id": "140b2e3f-b5bc-44ab-9579-059e05e7a765",
   "metadata": {},
   "outputs": [
    {
     "data": {
      "text/plain": [
       "array([[0, 1, 0],\n",
       "       [1, 0, 1],\n",
       "       [1, 1, 0]], dtype=int32)"
      ]
     },
     "execution_count": 113,
     "metadata": {},
     "output_type": "execute_result"
    }
   ],
   "source": [
    "arr_2d%2"
   ]
  },
  {
   "cell_type": "code",
   "execution_count": 119,
   "id": "b66467d7-be51-428c-b7ff-523ada0d97e4",
   "metadata": {},
   "outputs": [],
   "source": [
    "list_data = [1,6,5,7,9]\n",
    "array_from_list=np.array(list_data)"
   ]
  },
  {
   "cell_type": "code",
   "execution_count": 121,
   "id": "241039e3-d578-4853-99da-ddd1116c4585",
   "metadata": {},
   "outputs": [
    {
     "data": {
      "text/plain": [
       "[1, 6, 5, 7, 9]"
      ]
     },
     "execution_count": 121,
     "metadata": {},
     "output_type": "execute_result"
    }
   ],
   "source": [
    "list_data"
   ]
  },
  {
   "cell_type": "code",
   "execution_count": 127,
   "id": "ae7f79ad-b125-4f4a-b107-ec635e066292",
   "metadata": {},
   "outputs": [
    {
     "data": {
      "text/plain": [
       "list"
      ]
     },
     "execution_count": 127,
     "metadata": {},
     "output_type": "execute_result"
    }
   ],
   "source": [
    "type(list_data)"
   ]
  },
  {
   "cell_type": "code",
   "execution_count": 123,
   "id": "a6b40b8e-a97a-44bf-a694-718a046c902a",
   "metadata": {},
   "outputs": [
    {
     "data": {
      "text/plain": [
       "array([1, 6, 5, 7, 9])"
      ]
     },
     "execution_count": 123,
     "metadata": {},
     "output_type": "execute_result"
    }
   ],
   "source": [
    "array_from_list"
   ]
  },
  {
   "cell_type": "code",
   "execution_count": 125,
   "id": "19318edb-bacd-44f3-8fc6-ca0c1e411c30",
   "metadata": {},
   "outputs": [
    {
     "data": {
      "text/plain": [
       "numpy.ndarray"
      ]
     },
     "execution_count": 125,
     "metadata": {},
     "output_type": "execute_result"
    }
   ],
   "source": [
    "type(array_from_list)"
   ]
  },
  {
   "cell_type": "code",
   "execution_count": 129,
   "id": "c519aef8-2974-4a5b-b5bb-cf3c40208da6",
   "metadata": {},
   "outputs": [
    {
     "data": {
      "text/plain": [
       "array([1, 6, 5, 7, 9])"
      ]
     },
     "execution_count": 129,
     "metadata": {},
     "output_type": "execute_result"
    }
   ],
   "source": [
    "array_from_list"
   ]
  },
  {
   "cell_type": "code",
   "execution_count": null,
   "id": "97dcf2bf-4018-4da6-8f6e-5f0e323481c1",
   "metadata": {},
   "outputs": [],
   "source": []
  }
 ],
 "metadata": {
  "kernelspec": {
   "display_name": "Python [conda env:base] *",
   "language": "python",
   "name": "conda-base-py"
  },
  "language_info": {
   "codemirror_mode": {
    "name": "ipython",
    "version": 3
   },
   "file_extension": ".py",
   "mimetype": "text/x-python",
   "name": "python",
   "nbconvert_exporter": "python",
   "pygments_lexer": "ipython3",
   "version": "3.12.7"
  }
 },
 "nbformat": 4,
 "nbformat_minor": 5
}
