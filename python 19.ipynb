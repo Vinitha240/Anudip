{
 "cells": [
  {
   "cell_type": "code",
   "execution_count": 1,
   "id": "daa303a6-65a3-43d4-a475-b6573a3a7e97",
   "metadata": {},
   "outputs": [],
   "source": [
    "import numpy as np\n"
   ]
  },
  {
   "cell_type": "code",
   "execution_count": 13,
   "id": "8ca9505d-9d51-4ecd-8bfc-78e3aa9aaace",
   "metadata": {},
   "outputs": [],
   "source": [
    "arr=np.array([[1,2],\n",
    "              [3,4]])\n",
    "arr1=np.array([[5,6],\n",
    "              [3,4]])"
   ]
  },
  {
   "cell_type": "code",
   "execution_count": 17,
   "id": "95e2df86-8321-4918-afd6-14134981cf6c",
   "metadata": {},
   "outputs": [
    {
     "data": {
      "text/plain": [
       "array([[1, 2],\n",
       "       [3, 4],\n",
       "       [5, 6],\n",
       "       [3, 4]])"
      ]
     },
     "execution_count": 17,
     "metadata": {},
     "output_type": "execute_result"
    }
   ],
   "source": [
    "np.concatenate((arr,arr1),axis=0)"
   ]
  },
  {
   "cell_type": "code",
   "execution_count": 19,
   "id": "2751ba92-ac20-4ccb-8ac2-d381e79457e0",
   "metadata": {},
   "outputs": [
    {
     "data": {
      "text/plain": [
       "array([[1, 2, 5, 6],\n",
       "       [3, 4, 3, 4]])"
      ]
     },
     "execution_count": 19,
     "metadata": {},
     "output_type": "execute_result"
    }
   ],
   "source": [
    "np.concatenate((arr,arr1),axis=1)"
   ]
  },
  {
   "cell_type": "code",
   "execution_count": 23,
   "id": "28377c3d-2baa-49d3-950c-958aef59fc49",
   "metadata": {},
   "outputs": [],
   "source": [
    "#stacks arrays vertically(row_wise)\n",
    "arr2=np.array([1,2,3])\n",
    "arr3=np.array([4,5,6])"
   ]
  },
  {
   "cell_type": "code",
   "execution_count": 25,
   "id": "c90ee0bb-148c-4b67-a53e-5ee4402a8c8f",
   "metadata": {},
   "outputs": [
    {
     "data": {
      "text/plain": [
       "array([[1, 2, 3],\n",
       "       [4, 5, 6]])"
      ]
     },
     "execution_count": 25,
     "metadata": {},
     "output_type": "execute_result"
    }
   ],
   "source": [
    "np.vstack((arr2, arr3))"
   ]
  },
  {
   "cell_type": "code",
   "execution_count": 27,
   "id": "0fe72c41-7552-4167-9b51-3bde7c0c7895",
   "metadata": {},
   "outputs": [],
   "source": [
    "a=np.array([1,2])\n",
    "b=np.array([3,4])"
   ]
  },
  {
   "cell_type": "code",
   "execution_count": 29,
   "id": "3bd2e051-036a-4df3-b571-6687e3b5f5b0",
   "metadata": {},
   "outputs": [
    {
     "data": {
      "text/plain": [
       "array([1, 2, 3, 4])"
      ]
     },
     "execution_count": 29,
     "metadata": {},
     "output_type": "execute_result"
    }
   ],
   "source": [
    "np.hstack((a,b))"
   ]
  },
  {
   "cell_type": "code",
   "execution_count": 31,
   "id": "5c00fc04-3c2a-44c4-8d99-8af0d2d06f61",
   "metadata": {},
   "outputs": [],
   "source": [
    "#filtering"
   ]
  },
  {
   "cell_type": "code",
   "execution_count": 39,
   "id": "9fe83f40-a764-4dfb-82d3-1a455e5e4578",
   "metadata": {},
   "outputs": [
    {
     "name": "stdout",
     "output_type": "stream",
     "text": [
      "Filtered element >3: [4 5 6]\n"
     ]
    }
   ],
   "source": [
    "import numpy as np\n",
    "aa=np.array([1,2,3,4,5,6])\n",
    "mask=aa>3\n",
    "filtered=aa[mask]\n",
    "print(\"Filtered element >3:\",filtered)"
   ]
  },
  {
   "cell_type": "code",
   "execution_count": 53,
   "id": "90d876c7-f3d8-4462-bbfa-e0acaf7b7d50",
   "metadata": {},
   "outputs": [
    {
     "data": {
      "text/plain": [
       "array([False, False,  True,  True,  True, False])"
      ]
     },
     "execution_count": 53,
     "metadata": {},
     "output_type": "execute_result"
    }
   ],
   "source": [
    "(aa>2)&(aa<6) #-------boolean"
   ]
  },
  {
   "cell_type": "code",
   "execution_count": 51,
   "id": "0562f36c-554a-4828-bc62-2964da0fdeb9",
   "metadata": {},
   "outputs": [
    {
     "data": {
      "text/plain": [
       "array([3, 4, 5])"
      ]
     },
     "execution_count": 51,
     "metadata": {},
     "output_type": "execute_result"
    }
   ],
   "source": [
    "aa[(aa>2)&(aa<6)]    #------filtered"
   ]
  },
  {
   "cell_type": "code",
   "execution_count": 47,
   "id": "900a5dea-96f4-4ed1-a1bb-6c25ec4fa42d",
   "metadata": {},
   "outputs": [
    {
     "data": {
      "text/plain": [
       "array([1, 2, 3, 6])"
      ]
     },
     "execution_count": 47,
     "metadata": {},
     "output_type": "execute_result"
    }
   ],
   "source": [
    "aa[(aa<=3) | (aa>5)]"
   ]
  },
  {
   "cell_type": "code",
   "execution_count": 59,
   "id": "e3cc663b-2ee3-4440-986d-81eca2dce841",
   "metadata": {},
   "outputs": [
    {
     "name": "stdout",
     "output_type": "stream",
     "text": [
      "Values > 20: [25 30 35]\n"
     ]
    }
   ],
   "source": [
    "matrix=np.array([\n",
    "    [10,15,20,],\n",
    "    [25,30,35]\n",
    "])\n",
    "print(\"Values > 20:\",matrix[matrix>20])"
   ]
  },
  {
   "cell_type": "code",
   "execution_count": 61,
   "id": "2e77f4a3-605d-4a76-970e-a6224fa467a2",
   "metadata": {},
   "outputs": [],
   "source": [
    "scores=np.array([85,92,78,88,95,72,89,94,68,90])"
   ]
  },
  {
   "cell_type": "code",
   "execution_count": 63,
   "id": "ab60af87-1f2c-472c-8f7c-9f239280c37f",
   "metadata": {},
   "outputs": [
    {
     "name": "stdout",
     "output_type": "stream",
     "text": [
      "Scores values>90: [92 95 94]\n"
     ]
    }
   ],
   "source": [
    "print(\"Scores values>90:\",scores[scores>90])"
   ]
  },
  {
   "cell_type": "code",
   "execution_count": 77,
   "id": "dfb20d96-86c1-400a-8004-c6187d7d277e",
   "metadata": {},
   "outputs": [
    {
     "data": {
      "text/plain": [
       "array([85, 92, 78, 88, 95, 72, 89, 94, 68, 90])"
      ]
     },
     "execution_count": 77,
     "metadata": {},
     "output_type": "execute_result"
    }
   ],
   "source": [
    "scores[(scores>70)  | (scores<80)]"
   ]
  },
  {
   "cell_type": "code",
   "execution_count": 79,
   "id": "28a077e8-0570-4e61-8c8b-a67f2dba55a4",
   "metadata": {},
   "outputs": [],
   "source": [
    "import numpy as np\n"
   ]
  },
  {
   "cell_type": "code",
   "execution_count": 95,
   "id": "ef4aba7d-5c9c-4c54-8dbd-5652ec127ed0",
   "metadata": {},
   "outputs": [],
   "source": [
    "ab=np.arange(1,16)"
   ]
  },
  {
   "cell_type": "code",
   "execution_count": 97,
   "id": "f2600749-67e2-47c8-b9de-34ff2f0d8ae7",
   "metadata": {},
   "outputs": [
    {
     "data": {
      "text/plain": [
       "array([ 1,  2,  3,  4,  5,  6,  7,  8,  9, 10, 11, 12, 13, 14, 15])"
      ]
     },
     "execution_count": 97,
     "metadata": {},
     "output_type": "execute_result"
    }
   ],
   "source": [
    "ab"
   ]
  },
  {
   "cell_type": "code",
   "execution_count": 99,
   "id": "f63b0625-0196-4df3-9a5f-f280338f8d55",
   "metadata": {},
   "outputs": [
    {
     "data": {
      "text/plain": [
       "array([ 3,  6,  9, 12, 15])"
      ]
     },
     "execution_count": 99,
     "metadata": {},
     "output_type": "execute_result"
    }
   ],
   "source": [
    "ab[ab%3==0]    #------numbers that rae divisible by 3"
   ]
  },
  {
   "cell_type": "code",
   "execution_count": 101,
   "id": "717875f0-c4dd-4a1e-bd83-83e7b0869a87",
   "metadata": {},
   "outputs": [
    {
     "data": {
      "text/plain": [
       "array([ 2,  4,  6,  8, 10, 12, 14])"
      ]
     },
     "execution_count": 101,
     "metadata": {},
     "output_type": "execute_result"
    }
   ],
   "source": [
    "ab[ab%2==0]    #----even numbers"
   ]
  },
  {
   "cell_type": "code",
   "execution_count": 105,
   "id": "57b3ba2b-df8b-4f44-8052-688ebbd391e9",
   "metadata": {},
   "outputs": [
    {
     "data": {
      "text/plain": [
       "array([ 1,  3,  5,  7,  9, 11, 13, 15])"
      ]
     },
     "execution_count": 105,
     "metadata": {},
     "output_type": "execute_result"
    }
   ],
   "source": [
    "ab[ab%2!=0]    #-----odd numbers"
   ]
  },
  {
   "cell_type": "code",
   "execution_count": 138,
   "id": "5b54a8bd-45b2-4970-a285-b1cae5e11eb7",
   "metadata": {},
   "outputs": [
    {
     "data": {
      "text/plain": [
       "array([25.6, 29.9, 27. ])"
      ]
     },
     "execution_count": 138,
     "metadata": {},
     "output_type": "execute_result"
    }
   ],
   "source": [
    "import numpy as np\n",
    "temp=np.array([22.5,19.0,25.6,21.4,29.9,18.6,23.1,27.0])\n",
    "temp[temp>24]"
   ]
  },
  {
   "cell_type": "code",
   "execution_count": 142,
   "id": "227ee908-8eba-4f76-b378-abee70690555",
   "metadata": {},
   "outputs": [
    {
     "data": {
      "text/plain": [
       "array([22.5, 25.6, 21.4, 23.1])"
      ]
     },
     "execution_count": 142,
     "metadata": {},
     "output_type": "execute_result"
    }
   ],
   "source": [
    "temp[(temp > 20)  & (temp < 26)]"
   ]
  },
  {
   "cell_type": "code",
   "execution_count": 146,
   "id": "f31455d0-6eba-478f-8b29-f931f775b3df",
   "metadata": {},
   "outputs": [],
   "source": [
    "prices=np.array([250,499,520,310,800,999,450,720])"
   ]
  },
  {
   "cell_type": "code",
   "execution_count": 150,
   "id": "36e87ed0-7389-4ba0-8fb4-5d101dc9fa02",
   "metadata": {},
   "outputs": [
    {
     "data": {
      "text/plain": [
       "array([520, 800, 999, 720])"
      ]
     },
     "execution_count": 150,
     "metadata": {},
     "output_type": "execute_result"
    }
   ],
   "source": [
    "prices[prices>500]"
   ]
  },
  {
   "cell_type": "code",
   "execution_count": null,
   "id": "c9bd1a15-20db-4078-87ae-f6867e724a21",
   "metadata": {},
   "outputs": [],
   "source": []
  }
 ],
 "metadata": {
  "kernelspec": {
   "display_name": "Python [conda env:base] *",
   "language": "python",
   "name": "conda-base-py"
  },
  "language_info": {
   "codemirror_mode": {
    "name": "ipython",
    "version": 3
   },
   "file_extension": ".py",
   "mimetype": "text/x-python",
   "name": "python",
   "nbconvert_exporter": "python",
   "pygments_lexer": "ipython3",
   "version": "3.12.7"
  }
 },
 "nbformat": 4,
 "nbformat_minor": 5
}
