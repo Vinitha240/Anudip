{
 "cells": [
  {
   "cell_type": "code",
   "execution_count": null,
   "id": "dd768d20-09cc-4a54-8a3c-f632c68dd020",
   "metadata": {},
   "outputs": [],
   "source": [
    "class Mylist:\n",
    "    def __init__(self):\n",
    "       self.item =[]\n",
    "\n",
    "    def append(self,items):\n",
    "        \"\"\" Method to add an items to the list \"\"\"\n",
    "        self.items.append(items)\n",
    "\n",
    "    def remove(self,items):\n",
    "        \"\"\" Method to remove an item from the list \"\"\"\n",
    "        if item in self.items:\n",
    "            self.items.remove(item)\n",
    "        else:\n",
    "            print(f\" {item} not found in the list!\")\n",
    "    def display(self):\n",
    "        \"\"\" Method to display the current list\"\"\"\n",
    "        print(self.items)\n",
    "    def size(self):\n",
    "        \"\"\" Method to return the size of the list\"\"\"\n",
    "        return len(self.items)\n",
    "    "
   ]
  },
  {
   "cell_type": "code",
   "execution_count": 3,
   "id": "586030df-0f05-44f6-b2ad-c1f3ebf15dfa",
   "metadata": {},
   "outputs": [
    {
     "name": "stdin",
     "output_type": "stream",
     "text": [
      "enter a number:  8\n"
     ]
    },
    {
     "name": "stdout",
     "output_type": "stream",
     "text": [
      "Result is 1.25\n"
     ]
    }
   ],
   "source": [
    "try:\n",
    "    x=int(input(\"enter a number: \"))\n",
    "    result=10/x\n",
    "    print(\"Result is\", result)\n",
    "except ValueError:\n",
    "    print(\"that was not a number\")\n",
    "except ZeroDevisionError:\n",
    "    print(\"you cannot divide by zero\")\n",
    "    "
   ]
  },
  {
   "cell_type": "code",
   "execution_count": 5,
   "id": "6cee7717-bc13-4ac6-9fb7-de333eba94ce",
   "metadata": {},
   "outputs": [
    {
     "name": "stdin",
     "output_type": "stream",
     "text": [
      "enter a number:  8\n"
     ]
    },
    {
     "name": "stdout",
     "output_type": "stream",
     "text": [
      "you entered: 8\n"
     ]
    }
   ],
   "source": [
    "try:\n",
    "    value = int(input(\"enter a number: \"))\n",
    "    print(\"you entered:\",value)\n",
    "except ValueError: \n",
    "    print(\"Oops! that was not a valid number\")"
   ]
  },
  {
   "cell_type": "code",
   "execution_count": 7,
   "id": "b9935f72-08b3-4328-b250-88de2911ea91",
   "metadata": {},
   "outputs": [
    {
     "name": "stdout",
     "output_type": "stream",
     "text": [
      "result is: 4.0\n",
      "this block runs no matter what\n"
     ]
    }
   ],
   "source": [
    "try:\n",
    "    x=8\n",
    "    y=2\n",
    "    result=x/y\n",
    "except ZeroDevisionError:\n",
    "    print(\"cannot divide by zero!\")\n",
    "else:\n",
    "    print(\"result is:\", result)\n",
    "finally:\n",
    "    print(\"this block runs no matter what\")"
   ]
  },
  {
   "cell_type": "code",
   "execution_count": 15,
   "id": "2e729a26-7ee2-455b-9e1a-d278ee3cd002",
   "metadata": {},
   "outputs": [
    {
     "name": "stdout",
     "output_type": "stream",
     "text": [
      "Custom Exception Caught: age cannot be negative!\n"
     ]
    }
   ],
   "source": [
    "class NegativeAgeError(Exception):\n",
    "    \"\"\"Raised when the age is negative\"\"\"\n",
    "    pass\n",
    "def validate_age(age):\n",
    "    if age<0:\n",
    "        raise NegativeAgeError(\"age cannot be negative!\")\n",
    "    else:\n",
    "        print(\"Valid age:\", age)\n",
    "\n",
    "try:\n",
    "    validate_age(-7)\n",
    "except NegativeAgeError as e:\n",
    "    print(\"Custom Exception Caught:\",e)"
   ]
  },
  {
   "cell_type": "code",
   "execution_count": 2,
   "id": "609919e0-ee4b-431a-833a-35a3b0353355",
   "metadata": {},
   "outputs": [
    {
     "name": "stdin",
     "output_type": "stream",
     "text": [
      "enter a number:  8\n"
     ]
    },
    {
     "name": "stdout",
     "output_type": "stream",
     "text": [
      "you entered: 8\n"
     ]
    }
   ],
   "source": [
    "try:\n",
    "    value = int(input(\"enter a number: \"))\n",
    "    print(\"you entered:\",value)\n",
    "except ValueError:\n",
    "    print(\"Oops! that was not a valid number\")"
   ]
  },
  {
   "cell_type": "code",
   "execution_count": null,
   "id": "df7838b2-163b-48f7-b795-3c89c97372b9",
   "metadata": {},
   "outputs": [],
   "source": []
  }
 ],
 "metadata": {
  "kernelspec": {
   "display_name": "Python [conda env:base] *",
   "language": "python",
   "name": "conda-base-py"
  },
  "language_info": {
   "codemirror_mode": {
    "name": "ipython",
    "version": 3
   },
   "file_extension": ".py",
   "mimetype": "text/x-python",
   "name": "python",
   "nbconvert_exporter": "python",
   "pygments_lexer": "ipython3",
   "version": "3.12.7"
  }
 },
 "nbformat": 4,
 "nbformat_minor": 5
}
