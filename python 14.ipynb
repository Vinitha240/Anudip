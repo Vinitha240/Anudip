{
 "cells": [
  {
   "cell_type": "code",
   "execution_count": 1,
   "id": "ab0910f3-ca7b-4681-a242-4fbd1d1a1783",
   "metadata": {},
   "outputs": [],
   "source": [
    "#OOP"
   ]
  },
  {
   "cell_type": "code",
   "execution_count": 23,
   "id": "51b159e2-7d5a-4b52-b584-81e82d12e621",
   "metadata": {},
   "outputs": [],
   "source": [
    "#class-a blueprint to bulid a struture\n",
    "#object-ia an instance of a class or a real world entity"
   ]
  },
  {
   "cell_type": "code",
   "execution_count": 5,
   "id": "6eea0d37-b3a1-4b88-ad45-745112ea5404",
   "metadata": {},
   "outputs": [],
   "source": [
    "a='hello world'"
   ]
  },
  {
   "cell_type": "code",
   "execution_count": 7,
   "id": "245af363-3930-41fe-8423-152e9ffb0559",
   "metadata": {},
   "outputs": [
    {
     "name": "stdout",
     "output_type": "stream",
     "text": [
      "<class 'str'>\n"
     ]
    }
   ],
   "source": [
    "print(type(a))"
   ]
  },
  {
   "cell_type": "code",
   "execution_count": 9,
   "id": "bdf5a8ed-99b4-42d0-b3ca-cb38e4fc07e4",
   "metadata": {},
   "outputs": [
    {
     "data": {
      "text/plain": [
       "'Hello world'"
      ]
     },
     "execution_count": 9,
     "metadata": {},
     "output_type": "execute_result"
    }
   ],
   "source": [
    "a.capitalize()"
   ]
  },
  {
   "cell_type": "code",
   "execution_count": 15,
   "id": "571f6936-e0b9-4e38-b3a8-0e5b5558354c",
   "metadata": {},
   "outputs": [],
   "source": [
    "x = [1,2,3]"
   ]
  },
  {
   "cell_type": "code",
   "execution_count": 17,
   "id": "302e5d39-aa41-4d56-9987-7381d5d45d27",
   "metadata": {},
   "outputs": [
    {
     "name": "stdout",
     "output_type": "stream",
     "text": [
      "<class 'list'>\n"
     ]
    }
   ],
   "source": [
    "print(type(x))"
   ]
  },
  {
   "cell_type": "code",
   "execution_count": 19,
   "id": "4770b7ff-a4ca-4414-8562-2ad1cbb851c8",
   "metadata": {},
   "outputs": [],
   "source": [
    "y=['Good Evening']\n"
   ]
  },
  {
   "cell_type": "code",
   "execution_count": 21,
   "id": "b5312597-6a83-4938-905f-2edab5663312",
   "metadata": {},
   "outputs": [
    {
     "data": {
      "text/plain": [
       "list"
      ]
     },
     "execution_count": 21,
     "metadata": {},
     "output_type": "execute_result"
    }
   ],
   "source": [
    "type(y)"
   ]
  },
  {
   "cell_type": "code",
   "execution_count": 25,
   "id": "d9437ba1-4fa6-490c-8dad-e4695b572c0e",
   "metadata": {},
   "outputs": [],
   "source": [
    "b=[1,2,3,55,7]"
   ]
  },
  {
   "cell_type": "code",
   "execution_count": 27,
   "id": "4c2c56ee-dec5-42a2-8d5d-df6ac6a8aaa0",
   "metadata": {},
   "outputs": [
    {
     "data": {
      "text/plain": [
       "5"
      ]
     },
     "execution_count": 27,
     "metadata": {},
     "output_type": "execute_result"
    }
   ],
   "source": [
    "len(b)"
   ]
  },
  {
   "cell_type": "code",
   "execution_count": 31,
   "id": "acea43b0-60a6-48fe-827b-1d33cfa1a196",
   "metadata": {},
   "outputs": [
    {
     "data": {
      "text/plain": [
       "1"
      ]
     },
     "execution_count": 31,
     "metadata": {},
     "output_type": "execute_result"
    }
   ],
   "source": [
    "min(b)"
   ]
  },
  {
   "cell_type": "code",
   "execution_count": 33,
   "id": "b291d23c-250b-45b6-a200-cd517a1b82aa",
   "metadata": {},
   "outputs": [
    {
     "data": {
      "text/plain": [
       "55"
      ]
     },
     "execution_count": 33,
     "metadata": {},
     "output_type": "execute_result"
    }
   ],
   "source": [
    "max(b)"
   ]
  },
  {
   "cell_type": "code",
   "execution_count": 35,
   "id": "51f035b3-6d0f-4f26-8d3d-91de9d39e5ba",
   "metadata": {},
   "outputs": [
    {
     "data": {
      "text/plain": [
       "68"
      ]
     },
     "execution_count": 35,
     "metadata": {},
     "output_type": "execute_result"
    }
   ],
   "source": [
    "sum(b)"
   ]
  },
  {
   "cell_type": "code",
   "execution_count": 37,
   "id": "b4672fe1-90e0-42b9-a8b9-b60a6efd0c58",
   "metadata": {},
   "outputs": [],
   "source": [
    "b.append(6)"
   ]
  },
  {
   "cell_type": "code",
   "execution_count": 39,
   "id": "b671e330-afd1-4504-9e41-5dc633e5a22e",
   "metadata": {},
   "outputs": [
    {
     "data": {
      "text/plain": [
       "[1, 2, 3, 55, 7, 6]"
      ]
     },
     "execution_count": 39,
     "metadata": {},
     "output_type": "execute_result"
    }
   ],
   "source": [
    "b"
   ]
  },
  {
   "cell_type": "code",
   "execution_count": 45,
   "id": "2a171d43-f66a-4253-ab67-696407289059",
   "metadata": {},
   "outputs": [],
   "source": [
    "c=[7,8,9]"
   ]
  },
  {
   "cell_type": "code",
   "execution_count": 47,
   "id": "fec50366-a075-40ad-8c86-c4bbc1e57414",
   "metadata": {},
   "outputs": [],
   "source": [
    "b.extend(c)"
   ]
  },
  {
   "cell_type": "code",
   "execution_count": 49,
   "id": "a5a2c853-b391-417d-a87f-2247ddd45c35",
   "metadata": {},
   "outputs": [
    {
     "data": {
      "text/plain": [
       "[1, 2, 3, 55, 7, 6, 7, 8, 9]"
      ]
     },
     "execution_count": 49,
     "metadata": {},
     "output_type": "execute_result"
    }
   ],
   "source": [
    "b"
   ]
  },
  {
   "cell_type": "code",
   "execution_count": 3,
   "id": "89bd421c-de70-4485-8e6a-d63918286c5b",
   "metadata": {},
   "outputs": [],
   "source": [
    "class mobile_phone1:\n",
    "    def __init__(self,a_col,b_size,c_numc):\n",
    "        self.color=a_col\n",
    "        self.size=b_size\n",
    "        self.camera=c_numc\n",
    "\n",
    "    def calling(self,call_rates):\n",
    "        print(f\"i am calling using {self.color} cell phone and the cell rates per second is {call_rates} \")"
   ]
  },
  {
   "cell_type": "code",
   "execution_count": 5,
   "id": "2392fdba-3e5e-4a82-9134-1457adb23998",
   "metadata": {},
   "outputs": [],
   "source": [
    "samsung=mobile_phone1('black',10,2)"
   ]
  },
  {
   "cell_type": "code",
   "execution_count": 7,
   "id": "bb6ce1a7-c0f1-4d18-9e46-37a2e23a5c7d",
   "metadata": {},
   "outputs": [
    {
     "data": {
      "text/plain": [
       "'black'"
      ]
     },
     "execution_count": 7,
     "metadata": {},
     "output_type": "execute_result"
    }
   ],
   "source": [
    "samsung.color"
   ]
  },
  {
   "cell_type": "code",
   "execution_count": 9,
   "id": "5f229847-986b-484d-ac31-8b4ac020f347",
   "metadata": {},
   "outputs": [
    {
     "data": {
      "text/plain": [
       "10"
      ]
     },
     "execution_count": 9,
     "metadata": {},
     "output_type": "execute_result"
    }
   ],
   "source": [
    "samsung.size"
   ]
  },
  {
   "cell_type": "code",
   "execution_count": 11,
   "id": "4e3025ed-bb87-4652-96ad-7df299d73f54",
   "metadata": {},
   "outputs": [
    {
     "data": {
      "text/plain": [
       "2"
      ]
     },
     "execution_count": 11,
     "metadata": {},
     "output_type": "execute_result"
    }
   ],
   "source": [
    "samsung.camera"
   ]
  },
  {
   "cell_type": "code",
   "execution_count": 13,
   "id": "a79b36a2-c013-47bd-a600-383dae5cf884",
   "metadata": {},
   "outputs": [
    {
     "ename": "AttributeError",
     "evalue": "'mobile_phone1' object has no attribute 'call_rates'",
     "output_type": "error",
     "traceback": [
      "\u001b[1;31m---------------------------------------------------------------------------\u001b[0m",
      "\u001b[1;31mAttributeError\u001b[0m                            Traceback (most recent call last)",
      "Cell \u001b[1;32mIn[13], line 1\u001b[0m\n\u001b[1;32m----> 1\u001b[0m samsung\u001b[38;5;241m.\u001b[39mcall_rates(\u001b[38;5;241m0.5\u001b[39m)\n",
      "\u001b[1;31mAttributeError\u001b[0m: 'mobile_phone1' object has no attribute 'call_rates'"
     ]
    }
   ],
   "source": [
    "samsung.call_rates(0.5)"
   ]
  },
  {
   "cell_type": "code",
   "execution_count": 139,
   "id": "8623e842-d109-4042-9ccc-65ad5e3e8c0b",
   "metadata": {},
   "outputs": [],
   "source": [
    "class person:\n",
    "    def __init__(self,a,b):\n",
    "        self.name=a\n",
    "        self.age=b\n",
    "\n",
    "    def introduce(self,a):\n",
    "        print(f\"My name is {self.name} and I am {self.age} years old\")"
   ]
  },
  {
   "cell_type": "code",
   "execution_count": 141,
   "id": "ceead9f8-8164-452f-b631-ec78cc20150b",
   "metadata": {},
   "outputs": [],
   "source": [
    "person1=person('Alice',25)"
   ]
  },
  {
   "cell_type": "code",
   "execution_count": 143,
   "id": "87cdf9c3-18b9-48a0-afb6-785a1ddbc808",
   "metadata": {},
   "outputs": [
    {
     "name": "stdout",
     "output_type": "stream",
     "text": [
      "My name is Alice and I am 25 years old\n"
     ]
    }
   ],
   "source": [
    "person1.introduce(a)"
   ]
  },
  {
   "cell_type": "code",
   "execution_count": 149,
   "id": "6f4adbe8-aadc-4825-8e88-b1ccf8757766",
   "metadata": {},
   "outputs": [],
   "source": [
    "person2=person('Char',18)"
   ]
  },
  {
   "cell_type": "code",
   "execution_count": 151,
   "id": "8745ae39-2604-486b-913e-3c4559613ea9",
   "metadata": {},
   "outputs": [
    {
     "name": "stdout",
     "output_type": "stream",
     "text": [
      "My name is Char and I am 18 years old\n"
     ]
    }
   ],
   "source": [
    "person2.introduce(b)"
   ]
  },
  {
   "cell_type": "code",
   "execution_count": null,
   "id": "98647316-f7a6-43f6-b859-407c7f3bcec1",
   "metadata": {},
   "outputs": [],
   "source": []
  }
 ],
 "metadata": {
  "kernelspec": {
   "display_name": "Python [conda env:base] *",
   "language": "python",
   "name": "conda-base-py"
  },
  "language_info": {
   "codemirror_mode": {
    "name": "ipython",
    "version": 3
   },
   "file_extension": ".py",
   "mimetype": "text/x-python",
   "name": "python",
   "nbconvert_exporter": "python",
   "pygments_lexer": "ipython3",
   "version": "3.12.7"
  }
 },
 "nbformat": 4,
 "nbformat_minor": 5
}
