{
 "cells": [
  {
   "cell_type": "code",
   "execution_count": 1,
   "id": "ea769443-d8d3-4aa1-b35d-d2d3bf701f42",
   "metadata": {},
   "outputs": [],
   "source": [
    "#lab 1"
   ]
  },
  {
   "cell_type": "code",
   "execution_count": 13,
   "id": "5490d988-487d-47ca-a744-f7229f024bfc",
   "metadata": {},
   "outputs": [
    {
     "name": "stdout",
     "output_type": "stream",
     "text": [
      "addition: 14\n",
      "multiplication: 24\n"
     ]
    }
   ],
   "source": [
    "# 1calculate the multiplication and sum of two numbers\n",
    "a=12\n",
    "b=2\n",
    "print(\"addition:\" , a+b)\n",
    "print(\"multiplication:\" , a*b)"
   ]
  },
  {
   "cell_type": "code",
   "execution_count": 23,
   "id": "5b69faa0-8cb8-4c5a-bc57-5ee7ee108e78",
   "metadata": {},
   "outputs": [
    {
     "name": "stdout",
     "output_type": "stream",
     "text": [
      "b is largest\n"
     ]
    }
   ],
   "source": [
    "# 2declare two variables and print that which variable is largest using ternary\n",
    "a=16\n",
    "b=24\n",
    "if a>b:\n",
    "    print (\"a is largest\")\n",
    "else:\n",
    "    print (\"b is largest\")"
   ]
  },
  {
   "cell_type": "code",
   "execution_count": 41,
   "id": "bde735a6-b68c-4035-aa02-2f61d7e96ef7",
   "metadata": {},
   "outputs": [
    {
     "name": "stdin",
     "output_type": "stream",
     "text": [
      "enter your name anu\n",
      "enter your age 23\n",
      "enter your city banglore\n"
     ]
    },
    {
     "name": "stdout",
     "output_type": "stream",
     "text": [
      "Im anu, and 23 years old, and from banglore\n"
     ]
    }
   ],
   "source": [
    "# 3take input from the user (name,age,and city) and print it in a formatted string\n",
    "name=input(\"enter your name\")\n",
    "age= input(\"enter your age\")\n",
    "city=input(\"enter your city\")\n",
    "print(f\"Im {name}, and {age} years old, and from {city}\")"
   ]
  },
  {
   "cell_type": "code",
   "execution_count": 45,
   "id": "cdfacd8e-3543-4066-b4ea-54e6fd7edc20",
   "metadata": {},
   "outputs": [
    {
     "name": "stdin",
     "output_type": "stream",
     "text": [
      "enter side a:  2\n",
      "enter side b:  2\n",
      "enter side c:  3\n"
     ]
    },
    {
     "name": "stdout",
     "output_type": "stream",
     "text": [
      "Area of triangle is: 33.34197804570089\n"
     ]
    }
   ],
   "source": [
    "# 4python program to find the area of a triangle whose sides are given\n",
    "import math\n",
    "a = float(input(\"enter side a: \"))\n",
    "b = float(input(\"enter side b: \"))\n",
    "c = float(input(\"enter side c: \"))\n",
    "s = a+b+c/2\n",
    "area = math.sqrt(s*(s-a)* (s-b)* (s*c))\n",
    "print(\"Area of triangle is:\", area)"
   ]
  },
  {
   "cell_type": "code",
   "execution_count": null,
   "id": "6e9750d3-9fa4-4c64-8256-a30f4ea0eb7b",
   "metadata": {},
   "outputs": [],
   "source": []
  }
 ],
 "metadata": {
  "kernelspec": {
   "display_name": "Python [conda env:base] *",
   "language": "python",
   "name": "conda-base-py"
  },
  "language_info": {
   "codemirror_mode": {
    "name": "ipython",
    "version": 3
   },
   "file_extension": ".py",
   "mimetype": "text/x-python",
   "name": "python",
   "nbconvert_exporter": "python",
   "pygments_lexer": "ipython3",
   "version": "3.12.7"
  }
 },
 "nbformat": 4,
 "nbformat_minor": 5
}
