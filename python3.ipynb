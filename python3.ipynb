{
 "cells": [
  {
   "cell_type": "code",
   "execution_count": 110,
   "id": "97c18af1-d5dd-47ae-b372-33710cef30de",
   "metadata": {},
   "outputs": [],
   "source": [
    "#Boolean\n"
   ]
  },
  {
   "cell_type": "code",
   "execution_count": 5,
   "id": "b5fdccca-3e60-4e3f-a8bb-c4eb0959acf9",
   "metadata": {},
   "outputs": [
    {
     "name": "stdout",
     "output_type": "stream",
     "text": [
      "has the student passed? True\n"
     ]
    }
   ],
   "source": [
    "score=75\n",
    "has_passed=(score>=60)\n",
    "print(\"has the student passed?\", has_passed)"
   ]
  },
  {
   "cell_type": "code",
   "execution_count": 25,
   "id": "9dab58bf-a93a-4af3-8798-c1bf6f34da02",
   "metadata": {},
   "outputs": [
    {
     "name": "stdout",
     "output_type": "stream",
     "text": [
      "b is greater than a\n"
     ]
    }
   ],
   "source": [
    "a=40\n",
    "b=50\n",
    "if(a>=b):\n",
    " print('a is greater than b')\n",
    "else :\n",
    " print('b is greater than a')"
   ]
  },
  {
   "cell_type": "code",
   "execution_count": 17,
   "id": "28b56253-8482-43c9-ab89-52d2916f7adf",
   "metadata": {},
   "outputs": [],
   "source": [
    "#logical operators\n"
   ]
  },
  {
   "cell_type": "code",
   "execution_count": 27,
   "id": "4edf9273-34ea-45bc-91eb-b7357fe4607b",
   "metadata": {},
   "outputs": [
    {
     "data": {
      "text/plain": [
       "False"
      ]
     },
     "execution_count": 27,
     "metadata": {},
     "output_type": "execute_result"
    }
   ],
   "source": [
    "3>2 and 3<2\n",
    "True and False"
   ]
  },
  {
   "cell_type": "code",
   "execution_count": 29,
   "id": "49e7556c-740b-4611-829d-6afe7ec6ecd8",
   "metadata": {},
   "outputs": [
    {
     "data": {
      "text/plain": [
       "False"
      ]
     },
     "execution_count": 29,
     "metadata": {},
     "output_type": "execute_result"
    }
   ],
   "source": [
    "3>2 and 4>5\n",
    "True and False"
   ]
  },
  {
   "cell_type": "code",
   "execution_count": 31,
   "id": "5a65341e-ebd5-4a87-adf0-400b04b7155e",
   "metadata": {},
   "outputs": [],
   "source": [
    "#bitwise operator"
   ]
  },
  {
   "cell_type": "code",
   "execution_count": 33,
   "id": "d8d05df5-8635-4594-a12a-f74fc7aacc2d",
   "metadata": {},
   "outputs": [],
   "source": [
    "#it is used to perform operations on binary numbers(bits)"
   ]
  },
  {
   "cell_type": "code",
   "execution_count": 35,
   "id": "8ad29a1c-ee53-43ac-98d2-6c158ccee450",
   "metadata": {},
   "outputs": [],
   "source": [
    "#types"
   ]
  },
  {
   "cell_type": "code",
   "execution_count": 43,
   "id": "2c661e82-ca6f-4d4d-9f44-d671496ce6e9",
   "metadata": {},
   "outputs": [
    {
     "name": "stdout",
     "output_type": "stream",
     "text": [
      "1\n"
     ]
    }
   ],
   "source": [
    "#AND\n",
    "a=5\n",
    "b=3\n",
    "result=a&b\n",
    "print(result)"
   ]
  },
  {
   "cell_type": "code",
   "execution_count": 45,
   "id": "bf28bcce-abc1-46a9-b4b4-5817b5a88ba3",
   "metadata": {},
   "outputs": [
    {
     "data": {
      "text/plain": [
       "4"
      ]
     },
     "execution_count": 45,
     "metadata": {},
     "output_type": "execute_result"
    }
   ],
   "source": [
    "5&6"
   ]
  },
  {
   "cell_type": "code",
   "execution_count": 116,
   "id": "3318d4d0-cfc6-4adb-af97-7c1b573ad0e6",
   "metadata": {},
   "outputs": [
    {
     "ename": "SyntaxError",
     "evalue": "leading zeros in decimal integer literals are not permitted; use an 0o prefix for octal integers (3784945163.py, line 1)",
     "output_type": "error",
     "traceback": [
      "\u001b[1;36m  Cell \u001b[1;32mIn[116], line 1\u001b[1;36m\u001b[0m\n\u001b[1;33m    0101 & 0101\u001b[0m\n\u001b[1;37m    ^\u001b[0m\n\u001b[1;31mSyntaxError\u001b[0m\u001b[1;31m:\u001b[0m leading zeros in decimal integer literals are not permitted; use an 0o prefix for octal integers\n"
     ]
    }
   ],
   "source": [
    "0101 & 0101"
   ]
  },
  {
   "cell_type": "code",
   "execution_count": 49,
   "id": "069aab1a-d284-467f-8ce1-53cdb601e03a",
   "metadata": {},
   "outputs": [
    {
     "name": "stdout",
     "output_type": "stream",
     "text": [
      "7\n"
     ]
    }
   ],
   "source": [
    " #OR\n",
    "a=5\n",
    "b=3\n",
    "result=a|b\n",
    "print(result)"
   ]
  },
  {
   "cell_type": "code",
   "execution_count": 55,
   "id": "a7fa7962-4112-4131-b56f-e1423e604d0b",
   "metadata": {},
   "outputs": [
    {
     "name": "stdout",
     "output_type": "stream",
     "text": [
      "-6\n"
     ]
    }
   ],
   "source": [
    "#NOT\n",
    "a =5\n",
    "result=~a\n",
    "print(result)"
   ]
  },
  {
   "cell_type": "code",
   "execution_count": 57,
   "id": "3b08a74b-09a3-449f-a21a-862fdfc80526",
   "metadata": {},
   "outputs": [],
   "source": [
    "#membership operator "
   ]
  },
  {
   "cell_type": "code",
   "execution_count": 59,
   "id": "b955b52d-cbd7-4c47-b89e-1cfa9d9e5c11",
   "metadata": {},
   "outputs": [
    {
     "name": "stdout",
     "output_type": "stream",
     "text": [
      "True\n"
     ]
    }
   ],
   "source": [
    "#in operator - checks if a specified variable is present in a sequence , if value found returns true\n",
    "\n",
    "my_list = [1,2,3,4,5]\n",
    "print( 3 in my_list)\n"
   ]
  },
  {
   "cell_type": "code",
   "execution_count": 61,
   "id": "e94a1cab-0494-4217-adb0-0f628c369beb",
   "metadata": {},
   "outputs": [
    {
     "name": "stdout",
     "output_type": "stream",
     "text": [
      "True\n"
     ]
    }
   ],
   "source": [
    "my_string =\"hello, world!\"\n",
    "print(\"world\" in my_string)"
   ]
  },
  {
   "cell_type": "code",
   "execution_count": 65,
   "id": "ba196f9f-7d86-4c1e-865d-00cf1921772b",
   "metadata": {},
   "outputs": [
    {
     "name": "stdout",
     "output_type": "stream",
     "text": [
      "True\n"
     ]
    }
   ],
   "source": [
    "#not in operator -  checks if a specified variable is not present in a sequence , if value is not  found returns true else false\n",
    "\n",
    "my_list = [1,2,3,4,5]\n",
    "print( 10 not in my_list)"
   ]
  },
  {
   "cell_type": "code",
   "execution_count": 67,
   "id": "5cd4b2d4-3cad-4542-bd80-8b1d2133a5ae",
   "metadata": {},
   "outputs": [
    {
     "name": "stdout",
     "output_type": "stream",
     "text": [
      "True\n"
     ]
    }
   ],
   "source": [
    "my_string =\"hello, world!\"\n",
    "print(\"excel\" not in my_string)"
   ]
  },
  {
   "cell_type": "code",
   "execution_count": 75,
   "id": "2babb33b-d35c-4b78-81b0-eed08bad8610",
   "metadata": {},
   "outputs": [],
   "source": [
    "#using not in with a list"
   ]
  },
  {
   "cell_type": "code",
   "execution_count": 79,
   "id": "8a19bbbc-7abd-4447-8d62-9ec54b4889ea",
   "metadata": {},
   "outputs": [
    {
     "name": "stdout",
     "output_type": "stream",
     "text": [
      "False\n"
     ]
    }
   ],
   "source": [
    "fruits=['banana','apple','cherry']\n",
    "print('grapes' not in fruits)"
   ]
  },
  {
   "cell_type": "code",
   "execution_count": 83,
   "id": "c5cb6162-c988-4f00-bad2-9ce38fab12cf",
   "metadata": {},
   "outputs": [
    {
     "name": "stdout",
     "output_type": "stream",
     "text": [
      "True\n"
     ]
    }
   ],
   "source": [
    "players=['dhoni','virat','jaddu','rohit']\n",
    "print('rohit' in players)"
   ]
  },
  {
   "cell_type": "code",
   "execution_count": 85,
   "id": "e3023d83-44f1-4a0f-868b-5646c4023422",
   "metadata": {},
   "outputs": [],
   "source": [
    "#using in with a string"
   ]
  },
  {
   "cell_type": "code",
   "execution_count": 87,
   "id": "5dd64771-0fbe-4c54-b3a3-4df9e470e976",
   "metadata": {},
   "outputs": [
    {
     "name": "stdout",
     "output_type": "stream",
     "text": [
      "True\n"
     ]
    }
   ],
   "source": [
    "message=\"welcome to python programming!\"\n",
    "print(\"python\" in message)"
   ]
  },
  {
   "cell_type": "code",
   "execution_count": 89,
   "id": "39489d7c-c473-4e30-89fc-fa7f0b7b3b42",
   "metadata": {},
   "outputs": [],
   "source": [
    "#using not in with a string"
   ]
  },
  {
   "cell_type": "code",
   "execution_count": 91,
   "id": "35f23564-00c1-4ed3-bd04-c1a90d48196f",
   "metadata": {},
   "outputs": [
    {
     "name": "stdout",
     "output_type": "stream",
     "text": [
      "True\n"
     ]
    }
   ],
   "source": [
    "message=\"welcome to python programming!\"\n",
    "print(\"C\" not in message)"
   ]
  },
  {
   "cell_type": "code",
   "execution_count": 93,
   "id": "9a9554dd-7929-490a-a2b4-3e1955ea2823",
   "metadata": {},
   "outputs": [],
   "source": [
    "#using in with a dictinary"
   ]
  },
  {
   "cell_type": "code",
   "execution_count": 97,
   "id": "0bd9cc14-8b39-4079-bedd-feefecdf3577",
   "metadata": {},
   "outputs": [
    {
     "name": "stdout",
     "output_type": "stream",
     "text": [
      "True\n"
     ]
    }
   ],
   "source": [
    "my_dict={'name':'vini','age':21,'city':'new york'}\n",
    "print('name' in my_dict)"
   ]
  },
  {
   "cell_type": "code",
   "execution_count": 99,
   "id": "daf6a8c5-d0d9-4ee4-a685-dd94f6e970bb",
   "metadata": {},
   "outputs": [
    {
     "name": "stdout",
     "output_type": "stream",
     "text": [
      "True\n"
     ]
    }
   ],
   "source": [
    "#using not in with a dictinary\n",
    "my_dict={'name':'vini','age':21,'city':'new york'}\n",
    "print('address' not in my_dict)"
   ]
  },
  {
   "cell_type": "code",
   "execution_count": 105,
   "id": "350983c5-9b60-4684-855e-b720f8ee48f4",
   "metadata": {},
   "outputs": [
    {
     "name": "stdout",
     "output_type": "stream",
     "text": [
      "False\n"
     ]
    }
   ],
   "source": [
    "my_dict={'name':'vini','age':21,'city':'new york'}\n",
    "print('vini' in my_dict)"
   ]
  },
  {
   "cell_type": "markdown",
   "id": "29a121fd-a6ac-4fc4-b8d8-f7cbc7ab2589",
   "metadata": {},
   "source": [
    "# Introduction to Python Statements"
   ]
  },
  {
   "cell_type": "code",
   "execution_count": 118,
   "id": "a0b53172-343a-4f6c-b794-86905055e99b",
   "metadata": {},
   "outputs": [],
   "source": [
    "#if statement"
   ]
  },
  {
   "cell_type": "code",
   "execution_count": 120,
   "id": "6d7c47dc-4519-49fd-b93a-bb8d11cf6d58",
   "metadata": {},
   "outputs": [],
   "source": [
    "a=[1,2,3]\n"
   ]
  },
  {
   "cell_type": "code",
   "execution_count": 122,
   "id": "e33f5cfa-5c64-4a9a-a2cf-ae536145504c",
   "metadata": {},
   "outputs": [
    {
     "data": {
      "text/plain": [
       "True"
      ]
     },
     "execution_count": 122,
     "metadata": {},
     "output_type": "execute_result"
    }
   ],
   "source": [
    "1 in a"
   ]
  },
  {
   "cell_type": "code",
   "execution_count": 124,
   "id": "748be8f2-742a-4dd6-9f31-bcd3ca942166",
   "metadata": {},
   "outputs": [
    {
     "name": "stdout",
     "output_type": "stream",
     "text": [
      "i got it\n",
      "this will be printed\n"
     ]
    }
   ],
   "source": [
    "if 1 in a:\n",
    "    print(\"i got it\")\n",
    "print(\"this will be printed\")    "
   ]
  },
  {
   "cell_type": "code",
   "execution_count": 142,
   "id": "af21757a-2679-40e9-94c4-19f9b16add18",
   "metadata": {},
   "outputs": [
    {
     "name": "stdout",
     "output_type": "stream",
     "text": [
      "you are eligible to vote\n"
     ]
    }
   ],
   "source": [
    "age = 21\n",
    "if age>=18:\n",
    "    print(\"you are eligible to vote\")"
   ]
  },
  {
   "cell_type": "code",
   "execution_count": 144,
   "id": "4153462e-dd97-4375-8379-51957ced858c",
   "metadata": {},
   "outputs": [],
   "source": [
    "age=19"
   ]
  },
  {
   "cell_type": "code",
   "execution_count": 146,
   "id": "98aeff94-f9db-4b5b-bac4-906e82fbccbb",
   "metadata": {},
   "outputs": [
    {
     "data": {
      "text/plain": [
       "False"
      ]
     },
     "execution_count": 146,
     "metadata": {},
     "output_type": "execute_result"
    }
   ],
   "source": [
    "age<=18"
   ]
  },
  {
   "cell_type": "code",
   "execution_count": 148,
   "id": "92bb4466-22f5-4ef7-86e1-549a83d55b87",
   "metadata": {},
   "outputs": [
    {
     "name": "stdout",
     "output_type": "stream",
     "text": [
      "greater\n"
     ]
    }
   ],
   "source": [
    "if 5>2:\n",
    "    print (\"greater\")"
   ]
  },
  {
   "cell_type": "code",
   "execution_count": 154,
   "id": "f54ce66d-cc2d-473c-ac28-42faf5a5f4e5",
   "metadata": {},
   "outputs": [],
   "source": [
    "if 5<2:                                          #noting got printed\n",
    "    print (\"greater\")"
   ]
  },
  {
   "cell_type": "code",
   "execution_count": 152,
   "id": "52d1386e-0269-441d-ac35-5d046ec84a04",
   "metadata": {},
   "outputs": [
    {
     "name": "stdout",
     "output_type": "stream",
     "text": [
      "greater\n",
      "this will be printed anyway\n"
     ]
    }
   ],
   "source": [
    "if 5>2:\n",
    "    print(\"greater\")\n",
    "print(\"this will be printed anyway\")    \n",
    "    "
   ]
  },
  {
   "cell_type": "code",
   "execution_count": 156,
   "id": "aac837cc-df38-40f3-ac38-85603265b370",
   "metadata": {},
   "outputs": [],
   "source": [
    "#if statment with logical operator"
   ]
  },
  {
   "cell_type": "code",
   "execution_count": 170,
   "id": "e55596a7-0d1e-446e-b4e2-ef0638cdac58",
   "metadata": {},
   "outputs": [
    {
     "name": "stdout",
     "output_type": "stream",
     "text": [
      "if statement with logical operator\n",
      "statement 2\n"
     ]
    }
   ],
   "source": [
    "if 5>2 or 7<3:\n",
    "    print(\"if statement with logical operator\")\n",
    "    print(\"statement 2\")"
   ]
  },
  {
   "cell_type": "code",
   "execution_count": 176,
   "id": "b0f1c5f7-2cb9-4c66-b3e9-40303473f00f",
   "metadata": {},
   "outputs": [
    {
     "name": "stdout",
     "output_type": "stream",
     "text": [
      "if statement with logical operator\n",
      "statement 2\n"
     ]
    }
   ],
   "source": [
    "if 5>2 and 7>3:\n",
    "    print(\"if statement with logical operator\")\n",
    "    print(\"statement 2\")"
   ]
  },
  {
   "cell_type": "code",
   "execution_count": 1,
   "id": "098b84bd-c887-477b-bb4f-fb300b5e2899",
   "metadata": {},
   "outputs": [],
   "source": [
    "#if else"
   ]
  },
  {
   "cell_type": "code",
   "execution_count": 5,
   "id": "0b69e1ae-9d37-4198-900d-75cc8330c2bc",
   "metadata": {},
   "outputs": [
    {
     "name": "stdout",
     "output_type": "stream",
     "text": [
      "it's a cool day\n"
     ]
    }
   ],
   "source": [
    "temperature=30 \n",
    "if temperature < 25:\n",
    "    print(\"it's a hot day\")\n",
    "else:\n",
    "    print(\"it's a cool day\")\n",
    "    "
   ]
  },
  {
   "cell_type": "code",
   "execution_count": 7,
   "id": "5c7aadb6-24f0-4597-ac49-1f30cd77da91",
   "metadata": {},
   "outputs": [],
   "source": [
    "#example problem"
   ]
  },
  {
   "cell_type": "code",
   "execution_count": 11,
   "id": "fb794999-1280-44d5-be75-f5b32f9d29a5",
   "metadata": {},
   "outputs": [
    {
     "name": "stdin",
     "output_type": "stream",
     "text": [
      "enter the number 24\n"
     ]
    },
    {
     "name": "stdout",
     "output_type": "stream",
     "text": [
      "the number is even\n"
     ]
    }
   ],
   "source": [
    "num=int(input(\"enter the number\"))\n",
    "if num%2 == 0:\n",
    "    print(\"the number is even\")\n",
    "else:\n",
    "    print(\"the number is odd\")"
   ]
  },
  {
   "cell_type": "code",
   "execution_count": 13,
   "id": "c03a8e16-cb6c-42ec-8256-260a802707bb",
   "metadata": {},
   "outputs": [],
   "source": [
    "#if elif"
   ]
  },
  {
   "cell_type": "code",
   "execution_count": 17,
   "id": "c8e73a51-1ba9-4eac-b601-2aabbda89aab",
   "metadata": {},
   "outputs": [
    {
     "name": "stdout",
     "output_type": "stream",
     "text": [
      "Grade D\n"
     ]
    }
   ],
   "source": [
    "marks=40\n",
    "if marks>= 90:\n",
    "    print('Grade A')\n",
    "elif marks>= 80:\n",
    "    print('Grade B')\n",
    "elif marks>= 70:\n",
    "    print('Grade C')\n",
    "else:\n",
    "    print('Grade D')"
   ]
  },
  {
   "cell_type": "code",
   "execution_count": 23,
   "id": "589cccf7-413e-40b5-99b0-efc54f1c0994",
   "metadata": {},
   "outputs": [
    {
     "name": "stdout",
     "output_type": "stream",
     "text": [
      "Grade A\n",
      "Grade D\n"
     ]
    }
   ],
   "source": [
    "marks=65\n",
    "if marks>= 60:\n",
    "    print('Grade A')\n",
    "if marks>= 70:\n",
    "    print('Grade B')\n",
    "if marks>= 80:\n",
    "    print('Grade C')\n",
    "else:\n",
    "    print('Grade D')"
   ]
  },
  {
   "cell_type": "code",
   "execution_count": 25,
   "id": "34874800-04ec-4384-9a71-69dc52bba1b5",
   "metadata": {},
   "outputs": [],
   "source": [
    "#nested if"
   ]
  },
  {
   "cell_type": "code",
   "execution_count": 31,
   "id": "49afc95c-6dda-4dd1-bcee-907c395afa0a",
   "metadata": {},
   "outputs": [
    {
     "name": "stdout",
     "output_type": "stream",
     "text": [
      "the number is negative\n"
     ]
    }
   ],
   "source": [
    "number = -2\n",
    "if number>0:\n",
    "    print(\"the number is positive\")\n",
    "    if number % 2 ==0:\n",
    "        print(\"the number is even\")\n",
    "    else:\n",
    "        print(\"the number is odd\")\n",
    "else:\n",
    "    print(\"the number is negative\")\n",
    "    "
   ]
  },
  {
   "cell_type": "code",
   "execution_count": 18,
   "id": "fc3e63cf-b1e5-4c82-930f-fe8551ce4b30",
   "metadata": {},
   "outputs": [
    {
     "name": "stdout",
     "output_type": "stream",
     "text": [
      "its freezing\n"
     ]
    }
   ],
   "source": [
    "temperature = -2\n",
    "\n",
    "if temperature < 0:\n",
    "    print(\"its freezing\")\n",
    "elif temperature>10:\n",
    "    print(\"its cold\")\n",
    "elif temperature>25:\n",
    "    print(\"its warm\")\n",
    "else:\n",
    "    print(\"its hot\")\n",
    "\n",
    "    \n"
   ]
  },
  {
   "cell_type": "code",
   "execution_count": 28,
   "id": "2be5a90c-3f55-4052-bf07-c6bc926e29b6",
   "metadata": {},
   "outputs": [
    {
     "name": "stdout",
     "output_type": "stream",
     "text": [
      "weak password\n"
     ]
    }
   ],
   "source": [
    "password='123v'\n",
    "if len(password)<6:\n",
    "    print(\"weak password\")\n",
    "elif len(password)<=8:\n",
    "    print(\"moderate password\")\n",
    "else:\n",
    "    print(\"strong password\")"
   ]
  },
  {
   "cell_type": "code",
   "execution_count": null,
   "id": "996b0d48-4ceb-4d6c-9ba3-9418a1dafcca",
   "metadata": {},
   "outputs": [],
   "source": []
  }
 ],
 "metadata": {
  "kernelspec": {
   "display_name": "Python [conda env:base] *",
   "language": "python",
   "name": "conda-base-py"
  },
  "language_info": {
   "codemirror_mode": {
    "name": "ipython",
    "version": 3
   },
   "file_extension": ".py",
   "mimetype": "text/x-python",
   "name": "python",
   "nbconvert_exporter": "python",
   "pygments_lexer": "ipython3",
   "version": "3.12.7"
  }
 },
 "nbformat": 4,
 "nbformat_minor": 5
}
