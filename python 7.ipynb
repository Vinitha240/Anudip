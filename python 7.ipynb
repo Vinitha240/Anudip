{
 "cells": [
  {
   "cell_type": "code",
   "execution_count": 27,
   "id": "55b8aed5-d468-4093-9225-966efdc88649",
   "metadata": {},
   "outputs": [],
   "source": [
    "mutable_list=[4,5,8,12]\n"
   ]
  },
  {
   "cell_type": "code",
   "execution_count": 29,
   "id": "37d15404-6678-40fc-a2cf-c5d5efd483bc",
   "metadata": {},
   "outputs": [
    {
     "name": "stdout",
     "output_type": "stream",
     "text": [
      "[4, 5, 8, 12]\n"
     ]
    }
   ],
   "source": [
    "print(mutable_list)"
   ]
  },
  {
   "cell_type": "code",
   "execution_count": 31,
   "id": "077ed602-a0d0-4d95-b464-b19d2da5e493",
   "metadata": {},
   "outputs": [
    {
     "data": {
      "text/plain": [
       "12"
      ]
     },
     "execution_count": 31,
     "metadata": {},
     "output_type": "execute_result"
    }
   ],
   "source": [
    "mutable_list[3]"
   ]
  },
  {
   "cell_type": "code",
   "execution_count": 33,
   "id": "e8a8a3b8-38f7-4569-bc08-dc1557b9ffcc",
   "metadata": {},
   "outputs": [],
   "source": [
    "mutable_list[3]=16"
   ]
  },
  {
   "cell_type": "code",
   "execution_count": 37,
   "id": "dd6b5752-4ddb-42ef-9e6a-a73b114722d8",
   "metadata": {},
   "outputs": [
    {
     "name": "stdout",
     "output_type": "stream",
     "text": [
      "[4, 5, 8, 16]\n"
     ]
    }
   ],
   "source": [
    "print(mutable_list)"
   ]
  },
  {
   "cell_type": "code",
   "execution_count": 13,
   "id": "89a05e3f-f4e8-4445-b7a6-df08b3d9a211",
   "metadata": {},
   "outputs": [],
   "source": [
    "hetrogeneous_list=[42,'heelo',3,7,58]\n"
   ]
  },
  {
   "cell_type": "code",
   "execution_count": 15,
   "id": "6b6f0103-f20d-4222-bbd5-7d1e9ed46855",
   "metadata": {},
   "outputs": [
    {
     "name": "stdout",
     "output_type": "stream",
     "text": [
      "[42, 'heelo', 3, 7, 58]\n"
     ]
    }
   ],
   "source": [
    "print(hetrogeneous_list)"
   ]
  },
  {
   "cell_type": "code",
   "execution_count": 17,
   "id": "0de47d8a-d2f8-462b-80fe-92c49e386b7d",
   "metadata": {},
   "outputs": [
    {
     "data": {
      "text/plain": [
       "3"
      ]
     },
     "execution_count": 17,
     "metadata": {},
     "output_type": "execute_result"
    }
   ],
   "source": [
    "hetrogeneous_list[2]"
   ]
  },
  {
   "cell_type": "code",
   "execution_count": 19,
   "id": "c83174ba-51a8-4ea2-830b-ad05552150f5",
   "metadata": {},
   "outputs": [],
   "source": [
    "hetrogeneous_list[2]=5"
   ]
  },
  {
   "cell_type": "code",
   "execution_count": 21,
   "id": "8d1de533-9d1e-4287-b2bb-39ac4365331f",
   "metadata": {},
   "outputs": [
    {
     "name": "stdout",
     "output_type": "stream",
     "text": [
      "[42, 'heelo', 5, 7, 58]\n"
     ]
    }
   ],
   "source": [
    "print(hetrogeneous_list)"
   ]
  },
  {
   "cell_type": "code",
   "execution_count": 39,
   "id": "46f944a9-e556-4902-88df-fbfe1a355434",
   "metadata": {},
   "outputs": [],
   "source": [
    "#df bw list and array"
   ]
  },
  {
   "cell_type": "code",
   "execution_count": 41,
   "id": "8500a40c-9a23-4329-9e6b-cda1319754a0",
   "metadata": {},
   "outputs": [],
   "source": [
    "my_list=[1,'hello',8.0,True]"
   ]
  },
  {
   "cell_type": "code",
   "execution_count": 45,
   "id": "8e027497-b84c-4e60-95b1-5d8d83ecd7f6",
   "metadata": {},
   "outputs": [
    {
     "name": "stdout",
     "output_type": "stream",
     "text": [
      "[1, 'hello', 8.0, True]\n"
     ]
    }
   ],
   "source": [
    "print(my_list)"
   ]
  },
  {
   "cell_type": "code",
   "execution_count": 55,
   "id": "fe7eacc9-38ad-4bac-9600-0b34a98406a6",
   "metadata": {},
   "outputs": [],
   "source": [
    "import array\n",
    "my_array=array.array('i',[1,2,3,4])"
   ]
  },
  {
   "cell_type": "code",
   "execution_count": 57,
   "id": "75c98b13-ff28-48c1-98e8-f264031f1447",
   "metadata": {},
   "outputs": [
    {
     "name": "stdout",
     "output_type": "stream",
     "text": [
      "array('i', [1, 2, 3, 4])\n"
     ]
    }
   ],
   "source": [
    "print(my_array)"
   ]
  },
  {
   "cell_type": "code",
   "execution_count": 61,
   "id": "20c8400e-0230-456e-bbc6-828be7bb4d79",
   "metadata": {},
   "outputs": [],
   "source": [
    "fruits=['apple','banana','cherry','mango','grapes','goa']"
   ]
  },
  {
   "cell_type": "code",
   "execution_count": 63,
   "id": "bfd93707-4167-449e-822b-3f99bb113d6c",
   "metadata": {},
   "outputs": [
    {
     "name": "stdout",
     "output_type": "stream",
     "text": [
      "banana\n",
      "apple\n"
     ]
    }
   ],
   "source": [
    "print(fruits[1])\n",
    "print(fruits[0])"
   ]
  },
  {
   "cell_type": "code",
   "execution_count": 65,
   "id": "db1efcb4-ff17-4835-9225-1bc358f5c3d7",
   "metadata": {},
   "outputs": [
    {
     "name": "stdout",
     "output_type": "stream",
     "text": [
      "goa\n",
      "cherry\n"
     ]
    }
   ],
   "source": [
    "print(fruits[-1])\n",
    "print(fruits[-4])"
   ]
  },
  {
   "cell_type": "code",
   "execution_count": 125,
   "id": "0bc7f582-a81e-402f-9e94-f2ce156b7934",
   "metadata": {},
   "outputs": [
    {
     "data": {
      "text/plain": [
       "[10, 20, 25, 65, 24, 45, 16, 44, 51]"
      ]
     },
     "execution_count": 125,
     "metadata": {},
     "output_type": "execute_result"
    }
   ],
   "source": [
    "numbers=[10,20,25,65,24,45,16,44,51]\n",
    "numbers"
   ]
  },
  {
   "cell_type": "code",
   "execution_count": 127,
   "id": "fe9d6c45-31c1-4a1b-80e7-df2d8f7408f2",
   "metadata": {},
   "outputs": [
    {
     "data": {
      "text/plain": [
       "[25, 65, 24, 45]"
      ]
     },
     "execution_count": 127,
     "metadata": {},
     "output_type": "execute_result"
    }
   ],
   "source": [
    "numbers[2:6]"
   ]
  },
  {
   "cell_type": "code",
   "execution_count": 129,
   "id": "02712851-6143-476a-8497-6351d196ed90",
   "metadata": {},
   "outputs": [
    {
     "data": {
      "text/plain": [
       "[24, 45, 16]"
      ]
     },
     "execution_count": 129,
     "metadata": {},
     "output_type": "execute_result"
    }
   ],
   "source": [
    "numbers[-5:-2]"
   ]
  },
  {
   "cell_type": "code",
   "execution_count": 131,
   "id": "276a0ae2-798f-4aff-ae71-ab4addb1a797",
   "metadata": {},
   "outputs": [
    {
     "data": {
      "text/plain": [
       "[65, 24, 45]"
      ]
     },
     "execution_count": 131,
     "metadata": {},
     "output_type": "execute_result"
    }
   ],
   "source": [
    "numbers[-6:-3]"
   ]
  },
  {
   "cell_type": "code",
   "execution_count": 79,
   "id": "68d231f8-fa69-487d-bf47-e8493cfb50eb",
   "metadata": {},
   "outputs": [
    {
     "data": {
      "text/plain": [
       "[20, 65, 45, 44]"
      ]
     },
     "execution_count": 79,
     "metadata": {},
     "output_type": "execute_result"
    }
   ],
   "source": [
    "numbers[1:9:2]"
   ]
  },
  {
   "cell_type": "code",
   "execution_count": 81,
   "id": "b5e091cf-00f4-422a-8924-c34432e1998a",
   "metadata": {},
   "outputs": [
    {
     "data": {
      "text/plain": [
       "[65, 24, 45, 16, 44, 51]"
      ]
     },
     "execution_count": 81,
     "metadata": {},
     "output_type": "execute_result"
    }
   ],
   "source": [
    "numbers[3:]"
   ]
  },
  {
   "cell_type": "code",
   "execution_count": 83,
   "id": "35cb5bbd-35c3-4598-a9d4-af49d2d293aa",
   "metadata": {},
   "outputs": [
    {
     "data": {
      "text/plain": [
       "[10, 20, 25, 65]"
      ]
     },
     "execution_count": 83,
     "metadata": {},
     "output_type": "execute_result"
    }
   ],
   "source": [
    "numbers[:4]"
   ]
  },
  {
   "cell_type": "code",
   "execution_count": 85,
   "id": "3424545c-7a77-4120-8a9a-1dc9367e292c",
   "metadata": {},
   "outputs": [
    {
     "data": {
      "text/plain": [
       "[10, 20, 25, 65, 24, 45, 16, 44, 51]"
      ]
     },
     "execution_count": 85,
     "metadata": {},
     "output_type": "execute_result"
    }
   ],
   "source": [
    "numbers[:]"
   ]
  },
  {
   "cell_type": "code",
   "execution_count": 87,
   "id": "693f3ee1-a3ea-47c3-be57-8d064a222aa6",
   "metadata": {},
   "outputs": [],
   "source": [
    "numbers[2:6]=[]"
   ]
  },
  {
   "cell_type": "code",
   "execution_count": 103,
   "id": "a16bd58d-cc58-4d54-9a7c-7e6a0ccb945a",
   "metadata": {},
   "outputs": [
    {
     "data": {
      "text/plain": [
       "[10, 1, 1, 2, 34, 9]"
      ]
     },
     "execution_count": 103,
     "metadata": {},
     "output_type": "execute_result"
    }
   ],
   "source": [
    "numbers[2:6]=[1,2,34,9]\n",
    "numbers"
   ]
  },
  {
   "cell_type": "code",
   "execution_count": 135,
   "id": "4f185a88-decb-4a0f-9758-252a7f6579b5",
   "metadata": {},
   "outputs": [],
   "source": [
    "numbers[1:5]=[1]"
   ]
  },
  {
   "cell_type": "code",
   "execution_count": 137,
   "id": "b9f5debd-8e2c-4365-aa58-1e9b09fa1cef",
   "metadata": {},
   "outputs": [
    {
     "data": {
      "text/plain": [
       "[10, 1, 45, 16, 44, 51]"
      ]
     },
     "execution_count": 137,
     "metadata": {},
     "output_type": "execute_result"
    }
   ],
   "source": [
    "numbers"
   ]
  },
  {
   "cell_type": "code",
   "execution_count": 151,
   "id": "494482fe-91b9-4fa1-aac5-8d0e7a090838",
   "metadata": {},
   "outputs": [],
   "source": [
    "#replacing a range of elements"
   ]
  },
  {
   "cell_type": "code",
   "execution_count": 153,
   "id": "6d956e49-fb29-4a58-b4f7-465b9cedfa9d",
   "metadata": {},
   "outputs": [
    {
     "data": {
      "text/plain": [
       "['red', 'blue', 'white', 'black']"
      ]
     },
     "execution_count": 153,
     "metadata": {},
     "output_type": "execute_result"
    }
   ],
   "source": [
    "colors=['red','blue','white','black']\n",
    "colors"
   ]
  },
  {
   "cell_type": "code",
   "execution_count": 155,
   "id": "c8c0bb2e-7261-46f7-b791-8007617e1b21",
   "metadata": {},
   "outputs": [],
   "source": [
    "colors[1:3]=['yello','cyan']"
   ]
  },
  {
   "cell_type": "code",
   "execution_count": 157,
   "id": "a0c2065c-c386-4d38-8e9e-d33be841e00e",
   "metadata": {},
   "outputs": [
    {
     "data": {
      "text/plain": [
       "['red', 'yello', 'cyan', 'black']"
      ]
     },
     "execution_count": 157,
     "metadata": {},
     "output_type": "execute_result"
    }
   ],
   "source": [
    "colors"
   ]
  },
  {
   "cell_type": "code",
   "execution_count": 159,
   "id": "0f5e5a06-4fbf-41b3-b705-eadce978a77f",
   "metadata": {},
   "outputs": [],
   "source": [
    "#inserting"
   ]
  },
  {
   "cell_type": "code",
   "execution_count": 161,
   "id": "3eba50f2-6f7b-4aeb-b92e-13fd8a81a5ac",
   "metadata": {},
   "outputs": [],
   "source": [
    "animals=['cat','dog','elephant']"
   ]
  },
  {
   "cell_type": "code",
   "execution_count": 163,
   "id": "61a4a1f8-5779-412c-847f-95ed29c8662c",
   "metadata": {},
   "outputs": [],
   "source": [
    "animals[1:2]=['rabbit','cow']"
   ]
  },
  {
   "cell_type": "code",
   "execution_count": 165,
   "id": "67b31bbd-8f88-44b0-b33b-fe72efee8630",
   "metadata": {},
   "outputs": [
    {
     "data": {
      "text/plain": [
       "['cat', 'rabbit', 'cow', 'elephant']"
      ]
     },
     "execution_count": 165,
     "metadata": {},
     "output_type": "execute_result"
    }
   ],
   "source": [
    "animals"
   ]
  },
  {
   "cell_type": "code",
   "execution_count": 167,
   "id": "ba32f66b-4835-4c0a-a89f-52f6733f3edb",
   "metadata": {},
   "outputs": [],
   "source": [
    "#deleting"
   ]
  },
  {
   "cell_type": "code",
   "execution_count": 195,
   "id": "62fd4fe4-a08c-4832-b2d1-1f263460da19",
   "metadata": {},
   "outputs": [],
   "source": [
    "cities=['new york','chicago','london','houston']"
   ]
  },
  {
   "cell_type": "code",
   "execution_count": 197,
   "id": "b28a2cae-5e91-4c27-b535-c6ce8eee2eb2",
   "metadata": {},
   "outputs": [],
   "source": [
    "del cities[1]"
   ]
  },
  {
   "cell_type": "code",
   "execution_count": 199,
   "id": "44fe708b-2279-48b0-82d6-41d1e8e2c797",
   "metadata": {},
   "outputs": [
    {
     "data": {
      "text/plain": [
       "['new york', 'london', 'houston']"
      ]
     },
     "execution_count": 199,
     "metadata": {},
     "output_type": "execute_result"
    }
   ],
   "source": [
    "cities"
   ]
  },
  {
   "cell_type": "code",
   "execution_count": 201,
   "id": "307855d6-05e4-4c4b-bcc8-07393220ad33",
   "metadata": {},
   "outputs": [],
   "source": [
    "#modify"
   ]
  },
  {
   "cell_type": "code",
   "execution_count": 203,
   "id": "22ce57f6-5b0e-4f3a-bdf1-ec0547d5376f",
   "metadata": {},
   "outputs": [],
   "source": [
    "languages=['java','c','python','sql']"
   ]
  },
  {
   "cell_type": "code",
   "execution_count": 205,
   "id": "30c7321b-e3d6-48c6-b31f-4243b2acdfb3",
   "metadata": {},
   "outputs": [],
   "source": [
    "languages.insert(1,'javascript')"
   ]
  },
  {
   "cell_type": "code",
   "execution_count": 207,
   "id": "84e31d25-59e2-405f-bd39-6173d4145c40",
   "metadata": {},
   "outputs": [
    {
     "data": {
      "text/plain": [
       "['java', 'javascript', 'c', 'python', 'sql']"
      ]
     },
     "execution_count": 207,
     "metadata": {},
     "output_type": "execute_result"
    }
   ],
   "source": [
    "languages"
   ]
  },
  {
   "cell_type": "code",
   "execution_count": 211,
   "id": "53cdc9e4-e187-490b-b114-5d02f7ae553a",
   "metadata": {},
   "outputs": [],
   "source": [
    "#addition"
   ]
  },
  {
   "cell_type": "code",
   "execution_count": 213,
   "id": "7b1c61f1-e467-4f5b-bd4b-a27756f183b2",
   "metadata": {},
   "outputs": [],
   "source": [
    "list1=[1,2,3]\n",
    "list2=[5,7,7]"
   ]
  },
  {
   "cell_type": "code",
   "execution_count": 215,
   "id": "609ca3e3-69f7-402d-893d-64a58b553fda",
   "metadata": {},
   "outputs": [
    {
     "data": {
      "text/plain": [
       "[1, 2, 3, 5, 7, 7]"
      ]
     },
     "execution_count": 215,
     "metadata": {},
     "output_type": "execute_result"
    }
   ],
   "source": [
    "result=list1+list2\n",
    "result"
   ]
  },
  {
   "cell_type": "code",
   "execution_count": 223,
   "id": "5a2461ce-b7ae-4657-8840-fc8eb2d572f8",
   "metadata": {},
   "outputs": [],
   "source": [
    "#multiplication"
   ]
  },
  {
   "cell_type": "code",
   "execution_count": 217,
   "id": "15745cd6-248f-4100-ac34-1b671a9f5485",
   "metadata": {},
   "outputs": [],
   "source": [
    "list3=[7,8,9]"
   ]
  },
  {
   "cell_type": "code",
   "execution_count": 221,
   "id": "d9fb22c7-99fb-4f48-ae0e-d62a76a3a91f",
   "metadata": {},
   "outputs": [
    {
     "data": {
      "text/plain": [
       "[7, 8, 9, 7, 8, 9, 7, 8, 9]"
      ]
     },
     "execution_count": 221,
     "metadata": {},
     "output_type": "execute_result"
    }
   ],
   "source": [
    "result=list3*3\n",
    "result"
   ]
  },
  {
   "cell_type": "code",
   "execution_count": 233,
   "id": "d23a1456-4653-4e68-8bc2-f46613f10bb2",
   "metadata": {},
   "outputs": [],
   "source": [
    "#in and not in operator in list"
   ]
  },
  {
   "cell_type": "code",
   "execution_count": 227,
   "id": "f77c3179-0536-41c2-b4c7-8122ed53917d",
   "metadata": {},
   "outputs": [],
   "source": [
    "my_list=['apple','goa','orange']\n"
   ]
  },
  {
   "cell_type": "code",
   "execution_count": 229,
   "id": "f93af27e-9c23-48bc-933b-cde74e020ce7",
   "metadata": {},
   "outputs": [],
   "source": [
    "result='apple' in my_list"
   ]
  },
  {
   "cell_type": "code",
   "execution_count": 231,
   "id": "f32c28ac-281e-439d-9043-49a276672e01",
   "metadata": {},
   "outputs": [
    {
     "data": {
      "text/plain": [
       "True"
      ]
     },
     "execution_count": 231,
     "metadata": {},
     "output_type": "execute_result"
    }
   ],
   "source": [
    "result"
   ]
  },
  {
   "cell_type": "code",
   "execution_count": 235,
   "id": "3d7aa707-2e7f-436b-9f8a-5d1e03dd0f10",
   "metadata": {},
   "outputs": [
    {
     "data": {
      "text/plain": [
       "True"
      ]
     },
     "execution_count": 235,
     "metadata": {},
     "output_type": "execute_result"
    }
   ],
   "source": [
    "result='banana' not in my_list\n",
    "result"
   ]
  },
  {
   "cell_type": "code",
   "execution_count": 237,
   "id": "532a6b9e-7425-4b3b-95ef-91fbd94561d2",
   "metadata": {},
   "outputs": [],
   "source": [
    "#for loop"
   ]
  },
  {
   "cell_type": "code",
   "execution_count": 239,
   "id": "9edba0c0-6428-4b7b-a078-7f9e8f904497",
   "metadata": {},
   "outputs": [],
   "source": [
    "list=['apple','goa','orange']\n"
   ]
  },
  {
   "cell_type": "code",
   "execution_count": 241,
   "id": "c7610616-8933-4313-b62a-dc3a6c091026",
   "metadata": {},
   "outputs": [
    {
     "name": "stdout",
     "output_type": "stream",
     "text": [
      "apple\n",
      "goa\n",
      "orange\n"
     ]
    }
   ],
   "source": [
    "for fruits in list:\n",
    "    print(fruits)"
   ]
  },
  {
   "cell_type": "code",
   "execution_count": 253,
   "id": "3d5d9511-6df7-4299-bc93-01008865db54",
   "metadata": {},
   "outputs": [
    {
     "name": "stdout",
     "output_type": "stream",
     "text": [
      "total_sum: 15\n"
     ]
    }
   ],
   "source": [
    "numbers=[1,2,3,4,5]\n",
    "total_sum=0\n",
    "for number in numbers:\n",
    "    total_sum=total_sum+number\n",
    "print('total_sum:',total_sum)    "
   ]
  },
  {
   "cell_type": "code",
   "execution_count": 255,
   "id": "cce20181-d2fc-4291-95b1-bba7eb5647a3",
   "metadata": {},
   "outputs": [],
   "source": [
    "#nested loop"
   ]
  },
  {
   "cell_type": "code",
   "execution_count": 263,
   "id": "577525a4-0d2b-44a9-a690-8dabd734752a",
   "metadata": {},
   "outputs": [
    {
     "name": "stdout",
     "output_type": "stream",
     "text": [
      "1 2 3 \n",
      "4 5 6 \n",
      "7 8 9 \n"
     ]
    }
   ],
   "source": [
    "matrix =[\n",
    "    [1,2,3],\n",
    "    [4,5,6],\n",
    "    [7,8,9]\n",
    "] \n",
    "for row in matrix:\n",
    "    for numbers in row:\n",
    "        print(numbers,end=\" \")\n",
    "    print()"
   ]
  },
  {
   "cell_type": "code",
   "execution_count": null,
   "id": "d3f6a464-8b72-4f6d-aac9-dda3d28c5401",
   "metadata": {},
   "outputs": [],
   "source": []
  }
 ],
 "metadata": {
  "kernelspec": {
   "display_name": "Python [conda env:base] *",
   "language": "python",
   "name": "conda-base-py"
  },
  "language_info": {
   "codemirror_mode": {
    "name": "ipython",
    "version": 3
   },
   "file_extension": ".py",
   "mimetype": "text/x-python",
   "name": "python",
   "nbconvert_exporter": "python",
   "pygments_lexer": "ipython3",
   "version": "3.12.7"
  }
 },
 "nbformat": 4,
 "nbformat_minor": 5
}
