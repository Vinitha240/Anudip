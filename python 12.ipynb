{
 "cells": [
  {
   "cell_type": "code",
   "execution_count": 1,
   "id": "1482c7f7-2360-47e3-978d-28fe2261bce9",
   "metadata": {},
   "outputs": [],
   "source": [
    "#functions"
   ]
  },
  {
   "cell_type": "code",
   "execution_count": 108,
   "id": "14bd760a-6976-4d9e-9f29-b00b0bf69589",
   "metadata": {},
   "outputs": [],
   "source": [
    "def greet():\n",
    "    name = input(\"Enter the name \")\n",
    "    print(f\"Hello {name}, Welcome to the party ..\")\n",
    "    "
   ]
  },
  {
   "cell_type": "code",
   "execution_count": 110,
   "id": "d15fc0bc-9b06-48e5-b450-4ba0725de4e7",
   "metadata": {},
   "outputs": [
    {
     "name": "stdin",
     "output_type": "stream",
     "text": [
      "Enter the name  vini\n"
     ]
    },
    {
     "name": "stdout",
     "output_type": "stream",
     "text": [
      "Hello vini, Welcome to the party ..\n"
     ]
    }
   ],
   "source": [
    "greet()"
   ]
  },
  {
   "cell_type": "code",
   "execution_count": 19,
   "id": "5da24189-f608-49d0-bb56-5052159487da",
   "metadata": {},
   "outputs": [],
   "source": [
    "def calculation():\n",
    "    a = 18\n",
    "    b = 44\n",
    "    print(a+b)\n",
    "    print(a-b)\n",
    "    print(a*b)\n",
    "    print(a%b)"
   ]
  },
  {
   "cell_type": "code",
   "execution_count": 21,
   "id": "c90360c6-03c0-4591-8e58-77e5613ac21b",
   "metadata": {},
   "outputs": [
    {
     "name": "stdout",
     "output_type": "stream",
     "text": [
      "62\n",
      "-26\n",
      "792\n",
      "18\n"
     ]
    }
   ],
   "source": [
    "calculation()"
   ]
  },
  {
   "cell_type": "code",
   "execution_count": 102,
   "id": "208bac66-f4b8-48f6-8479-3a1a1f4c2a18",
   "metadata": {},
   "outputs": [],
   "source": [
    "def mul():\n",
    "    num = int(input(\"enter a number for multiplication: \"))\n",
    "    for i in range(1,11):\n",
    "        print(f\"(num) x  {i} = {num * i}\")"
   ]
  },
  {
   "cell_type": "code",
   "execution_count": 104,
   "id": "4ac2062d-9f74-4052-9c5d-277647ff8e39",
   "metadata": {},
   "outputs": [],
   "source": [
    "def mul(num):\n",
    "    for i in range(1,12):\n",
    "        print(f\"{num} x {i} = {num*i}\")"
   ]
  },
  {
   "cell_type": "code",
   "execution_count": 106,
   "id": "70d52ccf-2a65-45e4-a90e-6a3419993573",
   "metadata": {},
   "outputs": [
    {
     "name": "stdout",
     "output_type": "stream",
     "text": [
      "9 x 1 = 9\n",
      "9 x 2 = 18\n",
      "9 x 3 = 27\n",
      "9 x 4 = 36\n",
      "9 x 5 = 45\n",
      "9 x 6 = 54\n",
      "9 x 7 = 63\n",
      "9 x 8 = 72\n",
      "9 x 9 = 81\n",
      "9 x 10 = 90\n",
      "9 x 11 = 99\n"
     ]
    }
   ],
   "source": [
    "mul(9)"
   ]
  },
  {
   "cell_type": "code",
   "execution_count": 60,
   "id": "f21495d1-1938-46b1-92cb-5d1f75ee2f2e",
   "metadata": {},
   "outputs": [],
   "source": [
    "#parameter  and argument"
   ]
  },
  {
   "cell_type": "code",
   "execution_count": 62,
   "id": "9b5fcbc3-ce35-4d62-9348-dc4e0f35affb",
   "metadata": {},
   "outputs": [],
   "source": [
    "def greet(name):              #name is a parameter\n",
    "    print(f\"{hello},{name}!\")      # alice is an argument"
   ]
  },
  {
   "cell_type": "code",
   "execution_count": 90,
   "id": "897fe544-3828-467e-8da8-c329c3756482",
   "metadata": {},
   "outputs": [],
   "source": [
    "#formal argument-the declaration\n",
    "#actual argument-the value passed to the variables when it is called\n",
    "def greet(name):             #name is formal argument\n",
    "    print(f\"hello,{name}!\") #alice ia an argument"
   ]
  },
  {
   "cell_type": "code",
   "execution_count": 80,
   "id": "01cc3b3f-03ac-4dd9-b634-b7bce8f44dc7",
   "metadata": {},
   "outputs": [],
   "source": [
    "def fun():\n",
    "    a=12\n",
    "    b=45\n",
    "    c=a+b\n",
    "    return c"
   ]
  },
  {
   "cell_type": "code",
   "execution_count": 86,
   "id": "b1350801-8e5e-4292-b3ea-266a479bde84",
   "metadata": {},
   "outputs": [],
   "source": [
    "var=fun()"
   ]
  },
  {
   "cell_type": "code",
   "execution_count": 88,
   "id": "ddb45018-fdae-4fd9-9fb7-91c9a218356c",
   "metadata": {},
   "outputs": [
    {
     "data": {
      "text/plain": [
       "57"
      ]
     },
     "execution_count": 88,
     "metadata": {},
     "output_type": "execute_result"
    }
   ],
   "source": [
    "var"
   ]
  },
  {
   "cell_type": "code",
   "execution_count": 98,
   "id": "5a7be7d8-9a93-4e2a-9d94-5d66cbe83d77",
   "metadata": {},
   "outputs": [
    {
     "name": "stdout",
     "output_type": "stream",
     "text": [
      "Odd\n"
     ]
    }
   ],
   "source": [
    "def check_even(number):\n",
    "    if number%2==0:\n",
    "        return \"Even\"\n",
    "    return \"Odd\"\n",
    "result=check_even(9)\n",
    "print(result)"
   ]
  },
  {
   "cell_type": "code",
   "execution_count": 100,
   "id": "702680f5-e2a3-4402-a8ac-622642fcab0b",
   "metadata": {},
   "outputs": [
    {
     "name": "stdout",
     "output_type": "stream",
     "text": [
      "[1, 2, 45, 6]\n"
     ]
    }
   ],
   "source": [
    "def create_list():\n",
    "    return [1,2,45,6]\n",
    "my_list = create_list()\n",
    "print(my_list)"
   ]
  },
  {
   "cell_type": "code",
   "execution_count": null,
   "id": "3aea5697-cb7e-4515-a9ab-bd2ee5ef7e9e",
   "metadata": {},
   "outputs": [],
   "source": []
  }
 ],
 "metadata": {
  "kernelspec": {
   "display_name": "Python [conda env:base] *",
   "language": "python",
   "name": "conda-base-py"
  },
  "language_info": {
   "codemirror_mode": {
    "name": "ipython",
    "version": 3
   },
   "file_extension": ".py",
   "mimetype": "text/x-python",
   "name": "python",
   "nbconvert_exporter": "python",
   "pygments_lexer": "ipython3",
   "version": "3.12.7"
  }
 },
 "nbformat": 4,
 "nbformat_minor": 5
}
