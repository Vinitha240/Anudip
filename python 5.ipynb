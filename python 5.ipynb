{
 "cells": [
  {
   "cell_type": "code",
   "execution_count": 205,
   "id": "bf91f5b9-6293-4a9d-b10a-3b025a6daece",
   "metadata": {},
   "outputs": [
    {
     "name": "stdout",
     "output_type": "stream",
     "text": [
      "12\n",
      "14\n",
      "16\n",
      "18\n",
      "20\n",
      "22\n",
      "24\n",
      "26\n",
      "28\n"
     ]
    }
   ],
   "source": [
    "#for a list of numbers print only the ones that are both even and greater than 10\n",
    "for i in range(30):\n",
    "    if i%2==0 and i>10:\n",
    "        print(i)"
   ]
  },
  {
   "cell_type": "code",
   "execution_count": 203,
   "id": "11bd0ae4-189c-4a5a-a547-2ce3773f3023",
   "metadata": {},
   "outputs": [
    {
     "name": "stdout",
     "output_type": "stream",
     "text": [
      "11 is a prime number\n",
      "13 is a prime number\n",
      "15 is a prime number\n",
      "17 is a prime number\n",
      "19 is a prime number\n",
      "21 is a prime number\n",
      "23 is a prime number\n",
      "25 is a prime number\n",
      "27 is a prime number\n",
      "29 is a prime number\n",
      "31 is a prime number\n",
      "33 is a prime number\n",
      "35 is a prime number\n",
      "37 is a prime number\n",
      "39 is a prime number\n",
      "41 is a prime number\n",
      "43 is a prime number\n",
      "45 is a prime number\n",
      "47 is a prime number\n",
      "49 is a prime number\n"
     ]
    }
   ],
   "source": [
    "for i in range(10,50):\n",
    "    if i%2!=0:\n",
    "        print(f'{i} is a prime number')\n"
   ]
  },
  {
   "cell_type": "code",
   "execution_count": 201,
   "id": "49ec6432-896b-4a54-9a9c-1e269f40dbd4",
   "metadata": {},
   "outputs": [
    {
     "name": "stdout",
     "output_type": "stream",
     "text": [
      "1\n",
      "2\n",
      "3\n"
     ]
    }
   ],
   "source": [
    "i = [1,2,3,4,5]\n",
    "for numbers in i:\n",
    "    if numbers == 4:\n",
    "        break\n",
    "    print(numbers)   "
   ]
  },
  {
   "cell_type": "code",
   "execution_count": 199,
   "id": "ee8af117-30a6-41dc-98c9-39e5da6e54aa",
   "metadata": {},
   "outputs": [
    {
     "name": "stdout",
     "output_type": "stream",
     "text": [
      "1\n",
      "2\n",
      "3\n",
      "4\n",
      "6\n",
      "7\n"
     ]
    }
   ],
   "source": [
    "i=[1,2,3,4,5,6,7]\n",
    "for numbers in i:\n",
    "    if numbers == 5:\n",
    "        continue\n",
    "    print(numbers)    "
   ]
  },
  {
   "cell_type": "code",
   "execution_count": 207,
   "id": "ea6ed9ce-ee5d-426e-82b8-d60c841d698f",
   "metadata": {},
   "outputs": [
    {
     "name": "stdout",
     "output_type": "stream",
     "text": [
      "current number is: 10\n",
      "current number is: 8\n",
      "current number is: 6\n",
      "current number is: 4\n",
      "current number is: 2\n"
     ]
    }
   ],
   "source": [
    "#while\n",
    "number = 10\n",
    "while number>0:\n",
    "    print(\"current number is:\",number)\n",
    "    number-=2"
   ]
  },
  {
   "cell_type": "code",
   "execution_count": 209,
   "id": "dcd43bb7-c6e6-498c-b41d-d5421775f4ba",
   "metadata": {},
   "outputs": [
    {
     "name": "stdout",
     "output_type": "stream",
     "text": [
      "x is: 3\n",
      "x is: 2\n",
      "x is: 1\n",
      "loop has ended\n"
     ]
    }
   ],
   "source": [
    "x=3\n",
    "while x>0:\n",
    "    print(\"x is:\", x)\n",
    "    x-=1\n",
    "else:\n",
    "    print(\"loop has ended\")"
   ]
  },
  {
   "cell_type": "code",
   "execution_count": 191,
   "id": "1f899442-8014-4d6e-8cf4-45ac504b6fae",
   "metadata": {},
   "outputs": [
    {
     "name": "stdout",
     "output_type": "stream",
     "text": [
      "x is: 3\n",
      "x is: 2\n",
      "x is: 1\n",
      "loop has ended\n"
     ]
    }
   ],
   "source": [
    "#infinite while loop \n",
    "#if the condition in a while loop never becomes false, the loop continues indefinitely\n",
    "x=3\n",
    "while x>0:\n",
    "    print(\"x is:\", x)\n",
    "    x-=1\n",
    "else:\n",
    "    print(\"loop has ended\")"
   ]
  },
  {
   "cell_type": "code",
   "execution_count": 3,
   "id": "132f0a58-61c5-49d2-a029-abeb3708a98a",
   "metadata": {},
   "outputs": [],
   "source": [
    "str=\"Good Evening\""
   ]
  },
  {
   "cell_type": "code",
   "execution_count": 7,
   "id": "4c81ef0a-2e6b-4a1c-aa98-80c29fde0d03",
   "metadata": {},
   "outputs": [
    {
     "data": {
      "text/plain": [
       "str"
      ]
     },
     "execution_count": 7,
     "metadata": {},
     "output_type": "execute_result"
    }
   ],
   "source": [
    "type(str)"
   ]
  },
  {
   "cell_type": "code",
   "execution_count": 9,
   "id": "49c37ecb-07d2-44fc-956c-3d412bdac1a2",
   "metadata": {},
   "outputs": [
    {
     "data": {
      "text/plain": [
       "12"
      ]
     },
     "execution_count": 9,
     "metadata": {},
     "output_type": "execute_result"
    }
   ],
   "source": [
    "len(str)"
   ]
  },
  {
   "cell_type": "code",
   "execution_count": 11,
   "id": "cfed8fcd-c079-40b7-a696-f17b88a675f8",
   "metadata": {},
   "outputs": [
    {
     "data": {
      "text/plain": [
       "'v'"
      ]
     },
     "execution_count": 11,
     "metadata": {},
     "output_type": "execute_result"
    }
   ],
   "source": [
    "str[6]"
   ]
  },
  {
   "cell_type": "code",
   "execution_count": 13,
   "id": "100df87e-522b-43ae-bed9-0ee17656a528",
   "metadata": {},
   "outputs": [
    {
     "data": {
      "text/plain": [
       "' '"
      ]
     },
     "execution_count": 13,
     "metadata": {},
     "output_type": "execute_result"
    }
   ],
   "source": [
    "str[4]"
   ]
  },
  {
   "cell_type": "code",
   "execution_count": 17,
   "id": "f1e8e81e-4d3f-4127-ad88-7b612183e67f",
   "metadata": {},
   "outputs": [
    {
     "data": {
      "text/plain": [
       "'g'"
      ]
     },
     "execution_count": 17,
     "metadata": {},
     "output_type": "execute_result"
    }
   ],
   "source": [
    "str[11]"
   ]
  },
  {
   "cell_type": "code",
   "execution_count": 23,
   "id": "8353d61e-e215-499c-a09c-95d06bd715fd",
   "metadata": {},
   "outputs": [
    {
     "data": {
      "text/plain": [
       "'g'"
      ]
     },
     "execution_count": 23,
     "metadata": {},
     "output_type": "execute_result"
    }
   ],
   "source": [
    "str[-1]"
   ]
  },
  {
   "cell_type": "code",
   "execution_count": 25,
   "id": "41a66307-d8f5-4ff4-8493-871b9c0fd8f1",
   "metadata": {},
   "outputs": [],
   "source": [
    "a=\"python programming\""
   ]
  },
  {
   "cell_type": "code",
   "execution_count": 27,
   "id": "cd255df6-8064-4f48-aefe-3643e6c6e417",
   "metadata": {},
   "outputs": [
    {
     "data": {
      "text/plain": [
       "'pyth'"
      ]
     },
     "execution_count": 27,
     "metadata": {},
     "output_type": "execute_result"
    }
   ],
   "source": [
    "a[0:4]"
   ]
  },
  {
   "cell_type": "code",
   "execution_count": 29,
   "id": "4f165134-b144-41b5-ad33-8cddbc2f32f8",
   "metadata": {},
   "outputs": [
    {
     "data": {
      "text/plain": [
       "'g'"
      ]
     },
     "execution_count": 29,
     "metadata": {},
     "output_type": "execute_result"
    }
   ],
   "source": [
    "a[-1]"
   ]
  },
  {
   "cell_type": "code",
   "execution_count": 31,
   "id": "0c26331b-a47f-4f0a-8736-642b6eeb9380",
   "metadata": {},
   "outputs": [
    {
     "data": {
      "text/plain": [
       "'n progr'"
      ]
     },
     "execution_count": 31,
     "metadata": {},
     "output_type": "execute_result"
    }
   ],
   "source": [
    "a[5:12]"
   ]
  },
  {
   "cell_type": "code",
   "execution_count": 33,
   "id": "412f07b8-5fa8-4ccc-bc70-6ee1dcdeb11d",
   "metadata": {},
   "outputs": [
    {
     "data": {
      "text/plain": [
       "'pto r'"
      ]
     },
     "execution_count": 33,
     "metadata": {},
     "output_type": "execute_result"
    }
   ],
   "source": [
    "a[0:10:2]"
   ]
  },
  {
   "cell_type": "code",
   "execution_count": 35,
   "id": "6e2f0ce6-b456-4445-a7a5-b18b8de2e744",
   "metadata": {},
   "outputs": [
    {
     "data": {
      "text/plain": [
       "'python '"
      ]
     },
     "execution_count": 35,
     "metadata": {},
     "output_type": "execute_result"
    }
   ],
   "source": [
    "a[:7]"
   ]
  },
  {
   "cell_type": "code",
   "execution_count": 37,
   "id": "8310b4c9-efa3-4ba3-800e-dd6b3fbfe9f7",
   "metadata": {},
   "outputs": [
    {
     "data": {
      "text/plain": [
       "' programming'"
      ]
     },
     "execution_count": 37,
     "metadata": {},
     "output_type": "execute_result"
    }
   ],
   "source": [
    "a[6:]"
   ]
  },
  {
   "cell_type": "code",
   "execution_count": 49,
   "id": "e6764d9a-e01e-4373-8858-96f830485cc6",
   "metadata": {},
   "outputs": [
    {
     "data": {
      "text/plain": [
       "'ammin'"
      ]
     },
     "execution_count": 49,
     "metadata": {},
     "output_type": "execute_result"
    }
   ],
   "source": [
    "a[-6:-1]"
   ]
  },
  {
   "cell_type": "code",
   "execution_count": 51,
   "id": "e5b8527c-e2bf-49b1-913a-bac38e2dc189",
   "metadata": {},
   "outputs": [
    {
     "data": {
      "text/plain": [
       "'p'"
      ]
     },
     "execution_count": 51,
     "metadata": {},
     "output_type": "execute_result"
    }
   ],
   "source": [
    "a[-11]"
   ]
  },
  {
   "cell_type": "code",
   "execution_count": 79,
   "id": "c0b5f695-4549-464b-a1da-411dc49d07fe",
   "metadata": {},
   "outputs": [
    {
     "name": "stdout",
     "output_type": "stream",
     "text": [
      "python programming\n"
     ]
    }
   ],
   "source": [
    "print(a)"
   ]
  },
  {
   "cell_type": "code",
   "execution_count": 89,
   "id": "33b821ce-8df0-455f-826c-a563b0f6dc7f",
   "metadata": {},
   "outputs": [
    {
     "name": "stdout",
     "output_type": "stream",
     "text": [
      "gnimmargorp nohtyp\n"
     ]
    }
   ],
   "source": [
    "reversed_a=a[::-1]\n",
    "print(reversed_a)"
   ]
  },
  {
   "cell_type": "code",
   "execution_count": 95,
   "id": "46aafa0d-d676-4cc0-8c24-2e65405845df",
   "metadata": {},
   "outputs": [
    {
     "name": "stdout",
     "output_type": "stream",
     "text": [
      "programming\n"
     ]
    }
   ],
   "source": [
    "substring=a[7:]\n",
    "print(substring)"
   ]
  },
  {
   "cell_type": "code",
   "execution_count": 97,
   "id": "c0223cca-255f-44f4-9603-684192551894",
   "metadata": {},
   "outputs": [],
   "source": [
    "original_str='hello there'"
   ]
  },
  {
   "cell_type": "code",
   "execution_count": 99,
   "id": "84cb0178-27c9-4350-918c-41a84bc0420e",
   "metadata": {},
   "outputs": [],
   "source": [
    "new_str=original_str.replace('there','vini')"
   ]
  },
  {
   "cell_type": "code",
   "execution_count": 101,
   "id": "56dd219c-2c7a-4084-8e9d-44a93b96398d",
   "metadata": {},
   "outputs": [
    {
     "data": {
      "text/plain": [
       "'hello vini'"
      ]
     },
     "execution_count": 101,
     "metadata": {},
     "output_type": "execute_result"
    }
   ],
   "source": [
    "new_str"
   ]
  },
  {
   "cell_type": "code",
   "execution_count": 103,
   "id": "fcfeee6b-da74-4f60-a740-13cd1bc26ae9",
   "metadata": {},
   "outputs": [
    {
     "data": {
      "text/plain": [
       "'hello there'"
      ]
     },
     "execution_count": 103,
     "metadata": {},
     "output_type": "execute_result"
    }
   ],
   "source": [
    "original_str"
   ]
  },
  {
   "cell_type": "code",
   "execution_count": 119,
   "id": "0fd4a22e-c4a3-4f0b-a325-f4b5c7cded69",
   "metadata": {},
   "outputs": [],
   "source": [
    "name='Myself Name'"
   ]
  },
  {
   "cell_type": "code",
   "execution_count": 121,
   "id": "daa50188-c8ea-4e1c-a13d-e876bd9ee470",
   "metadata": {},
   "outputs": [],
   "source": [
    "your_name=name.replace('Name','vinitha')"
   ]
  },
  {
   "cell_type": "code",
   "execution_count": 123,
   "id": "bfde418e-afa8-489f-9020-67f92cc10895",
   "metadata": {},
   "outputs": [
    {
     "data": {
      "text/plain": [
       "'Myself vinitha'"
      ]
     },
     "execution_count": 123,
     "metadata": {},
     "output_type": "execute_result"
    }
   ],
   "source": [
    "your_name"
   ]
  },
  {
   "cell_type": "code",
   "execution_count": 135,
   "id": "2166ddc9-cee2-45fe-9974-d303eafed316",
   "metadata": {},
   "outputs": [],
   "source": [
    "x='hello'\n",
    "y='there'\n",
    "combined_string=x +\" \" + y"
   ]
  },
  {
   "cell_type": "code",
   "execution_count": 137,
   "id": "8984383e-e699-4f32-9d10-5e0a459db7f0",
   "metadata": {},
   "outputs": [
    {
     "data": {
      "text/plain": [
       "'hello there'"
      ]
     },
     "execution_count": 137,
     "metadata": {},
     "output_type": "execute_result"
    }
   ],
   "source": [
    "combined_string"
   ]
  },
  {
   "cell_type": "code",
   "execution_count": 139,
   "id": "00a523e7-7de4-4042-a40b-b0df9add8fe8",
   "metadata": {},
   "outputs": [],
   "source": [
    "name='ben'\n",
    "age=17"
   ]
  },
  {
   "cell_type": "code",
   "execution_count": 165,
   "id": "b53847b2-c2df-48c9-9690-0cd236f87f4c",
   "metadata": {},
   "outputs": [
    {
     "name": "stdout",
     "output_type": "stream",
     "text": [
      "My name is ben  and im 17  years old \n"
     ]
    }
   ],
   "source": [
    "print(f\"My name is\",name,\" and im\" ,age, \" years old \" )"
   ]
  },
  {
   "cell_type": "code",
   "execution_count": 143,
   "id": "4f34d33d-5076-4822-8276-f82071da3c08",
   "metadata": {},
   "outputs": [],
   "source": [
    "my_str='hello world'"
   ]
  },
  {
   "cell_type": "code",
   "execution_count": 145,
   "id": "c488e941-a2ed-4894-8ef0-9c579b33b111",
   "metadata": {},
   "outputs": [
    {
     "data": {
      "text/plain": [
       "'hello world'"
      ]
     },
     "execution_count": 145,
     "metadata": {},
     "output_type": "execute_result"
    }
   ],
   "source": [
    "my_str"
   ]
  },
  {
   "cell_type": "code",
   "execution_count": 147,
   "id": "b1a224b1-4635-4d62-80c9-3799a00fdfb8",
   "metadata": {},
   "outputs": [],
   "source": [
    "del my_str"
   ]
  },
  {
   "cell_type": "code",
   "execution_count": 149,
   "id": "17e44d41-284d-43c0-8bc3-6df880c9b1f6",
   "metadata": {},
   "outputs": [
    {
     "ename": "NameError",
     "evalue": "name 'my_str' is not defined",
     "output_type": "error",
     "traceback": [
      "\u001b[1;31m---------------------------------------------------------------------------\u001b[0m",
      "\u001b[1;31mNameError\u001b[0m                                 Traceback (most recent call last)",
      "Cell \u001b[1;32mIn[149], line 1\u001b[0m\n\u001b[1;32m----> 1\u001b[0m my_str\n",
      "\u001b[1;31mNameError\u001b[0m: name 'my_str' is not defined"
     ]
    }
   ],
   "source": [
    "my_str"
   ]
  },
  {
   "cell_type": "code",
   "execution_count": 173,
   "id": "19bccecb-edd5-4228-9fd6-6a9291a7b341",
   "metadata": {},
   "outputs": [],
   "source": [
    "num='123'\n",
    "num1='546'"
   ]
  },
  {
   "cell_type": "code",
   "execution_count": 179,
   "id": "c3a40655-c151-4497-86f8-5bda1c72257a",
   "metadata": {},
   "outputs": [],
   "source": [
    "concatination=num +\" \"+ num1"
   ]
  },
  {
   "cell_type": "code",
   "execution_count": 181,
   "id": "a0bd94ef-dc2f-4cca-9ac3-868e2195577b",
   "metadata": {},
   "outputs": [
    {
     "data": {
      "text/plain": [
       "'123 546'"
      ]
     },
     "execution_count": 181,
     "metadata": {},
     "output_type": "execute_result"
    }
   ],
   "source": [
    "concatination"
   ]
  },
  {
   "cell_type": "code",
   "execution_count": 183,
   "id": "72abc877-0a3f-4cc2-a97b-2a7d15127613",
   "metadata": {},
   "outputs": [
    {
     "name": "stdout",
     "output_type": "stream",
     "text": [
      "Concatenated_str: hello world\n"
     ]
    }
   ],
   "source": [
    "str1='hello'\n",
    "str2='world'\n",
    "concatenated_str=str1+' '+str2\n",
    "print('Concatenated_str:', concatenated_str)"
   ]
  },
  {
   "cell_type": "code",
   "execution_count": 187,
   "id": "2f1d4a0e-0f6b-4c85-9783-300537c801d6",
   "metadata": {},
   "outputs": [
    {
     "name": "stdout",
     "output_type": "stream",
     "text": [
      "repeated string: hihihihihihihihi\n"
     ]
    }
   ],
   "source": [
    "string = \"hi\"\n",
    "repeated_string = string*8\n",
    "print('repeated string:', repeated_string)"
   ]
  },
  {
   "cell_type": "code",
   "execution_count": 193,
   "id": "38954eef-117a-4185-a9a6-1d2465ef5b38",
   "metadata": {},
   "outputs": [
    {
     "name": "stdout",
     "output_type": "stream",
     "text": [
      "p\n",
      "y\n",
      "t\n",
      "h\n",
      "o\n",
      "n\n"
     ]
    }
   ],
   "source": [
    "text='python'\n",
    "for char in text:\n",
    "    print(char)"
   ]
  },
  {
   "cell_type": "code",
   "execution_count": 197,
   "id": "ed79a844-ee6d-4a30-a324-7b35742b5c3c",
   "metadata": {},
   "outputs": [
    {
     "name": "stdout",
     "output_type": "stream",
     "text": [
      "Number of vowels: 3\n"
     ]
    }
   ],
   "source": [
    "text='programming'\n",
    "vowels='aeiou'\n",
    "count=0\n",
    "\n",
    "for char in text:\n",
    "    if char in vowels:\n",
    "        count +=1\n",
    "print('Number of vowels:',count)        "
   ]
  },
  {
   "cell_type": "code",
   "execution_count": null,
   "id": "e11ae7d2-e626-45a7-af60-f6da97eea452",
   "metadata": {},
   "outputs": [],
   "source": []
  }
 ],
 "metadata": {
  "kernelspec": {
   "display_name": "Python [conda env:base] *",
   "language": "python",
   "name": "conda-base-py"
  },
  "language_info": {
   "codemirror_mode": {
    "name": "ipython",
    "version": 3
   },
   "file_extension": ".py",
   "mimetype": "text/x-python",
   "name": "python",
   "nbconvert_exporter": "python",
   "pygments_lexer": "ipython3",
   "version": "3.12.7"
  }
 },
 "nbformat": 4,
 "nbformat_minor": 5
}
