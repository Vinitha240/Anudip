{
 "cells": [
  {
   "cell_type": "code",
   "execution_count": 1,
   "id": "7452fb26-8800-4c07-8523-48d151700ed2",
   "metadata": {},
   "outputs": [],
   "source": [
    "#tuple"
   ]
  },
  {
   "cell_type": "code",
   "execution_count": 3,
   "id": "3a3a2614-055a-46df-b2f1-4a99c48fe4c3",
   "metadata": {},
   "outputs": [],
   "source": [
    "#ordered and not be changed"
   ]
  },
  {
   "cell_type": "code",
   "execution_count": 5,
   "id": "aec00f40-26cf-4966-af36-4b7e7728f2c5",
   "metadata": {},
   "outputs": [],
   "source": [
    "t=(\"hello\",1,23,47,67.8,6,(1,2))"
   ]
  },
  {
   "cell_type": "code",
   "execution_count": 9,
   "id": "640a34a2-2fab-4999-91bf-2af1923dec8f",
   "metadata": {},
   "outputs": [
    {
     "data": {
      "text/plain": [
       "('hello', 1)"
      ]
     },
     "execution_count": 9,
     "metadata": {},
     "output_type": "execute_result"
    }
   ],
   "source": [
    "t[0:2]"
   ]
  },
  {
   "cell_type": "code",
   "execution_count": 11,
   "id": "a68efbfb-7bab-4602-959b-07f370d04068",
   "metadata": {},
   "outputs": [],
   "source": [
    "my_tuple=(1,2,3)"
   ]
  },
  {
   "cell_type": "code",
   "execution_count": 15,
   "id": "608b0416-c170-4e2c-8f93-42188ae03724",
   "metadata": {},
   "outputs": [
    {
     "data": {
      "text/plain": [
       "3"
      ]
     },
     "execution_count": 15,
     "metadata": {},
     "output_type": "execute_result"
    }
   ],
   "source": [
    "my_tuple[2]"
   ]
  },
  {
   "cell_type": "code",
   "execution_count": 17,
   "id": "409325da-c254-4d2d-8e85-081747d29abd",
   "metadata": {},
   "outputs": [],
   "source": [
    "#immutable"
   ]
  },
  {
   "cell_type": "code",
   "execution_count": 19,
   "id": "dc013aa6-a940-4534-9f77-712c883b86fd",
   "metadata": {},
   "outputs": [],
   "source": [
    "my_tuple=(1,2,3,4)"
   ]
  },
  {
   "cell_type": "code",
   "execution_count": 21,
   "id": "715527e0-4789-4c71-a1c3-0b20e4f6475a",
   "metadata": {},
   "outputs": [
    {
     "ename": "TypeError",
     "evalue": "'tuple' object does not support item assignment",
     "output_type": "error",
     "traceback": [
      "\u001b[1;31m---------------------------------------------------------------------------\u001b[0m",
      "\u001b[1;31mTypeError\u001b[0m                                 Traceback (most recent call last)",
      "Cell \u001b[1;32mIn[21], line 1\u001b[0m\n\u001b[1;32m----> 1\u001b[0m my_tuple[\u001b[38;5;241m1\u001b[39m]\u001b[38;5;241m=\u001b[39m\u001b[38;5;241m7\u001b[39m\n",
      "\u001b[1;31mTypeError\u001b[0m: 'tuple' object does not support item assignment"
     ]
    }
   ],
   "source": [
    "my_tuple[1]=7"
   ]
  },
  {
   "cell_type": "code",
   "execution_count": 23,
   "id": "2e7bbcca-2206-446a-b9ea-0b0708ca58c3",
   "metadata": {},
   "outputs": [],
   "source": [
    "#heterogeneous"
   ]
  },
  {
   "cell_type": "code",
   "execution_count": 25,
   "id": "69007848-5116-4e3b-8365-7c19143146c6",
   "metadata": {},
   "outputs": [],
   "source": [
    "my_tuple=(1,2,45.56,\"hello\",(6,3))"
   ]
  },
  {
   "cell_type": "code",
   "execution_count": 27,
   "id": "6e7ec6ca-57cc-43ec-916b-28567830e852",
   "metadata": {},
   "outputs": [
    {
     "data": {
      "text/plain": [
       "(1, 2, 45.56, 'hello', (6, 3))"
      ]
     },
     "execution_count": 27,
     "metadata": {},
     "output_type": "execute_result"
    }
   ],
   "source": [
    "my_tuple"
   ]
  },
  {
   "cell_type": "code",
   "execution_count": 29,
   "id": "a8fad4c1-44d2-414b-8525-6f866bfe7976",
   "metadata": {},
   "outputs": [],
   "source": [
    "#indexing and slicing"
   ]
  },
  {
   "cell_type": "code",
   "execution_count": 43,
   "id": "2a0f8d98-7c12-41c9-9d36-cf646a762277",
   "metadata": {},
   "outputs": [
    {
     "name": "stdout",
     "output_type": "stream",
     "text": [
      "35\n",
      "(56, 35, 97)\n"
     ]
    }
   ],
   "source": [
    "my_value=(12,56,35,97,8,6)\n",
    "print(my_value[2])\n",
    "print(my_value[1:4])"
   ]
  },
  {
   "cell_type": "code",
   "execution_count": 45,
   "id": "519be864-932c-4c78-b870-9b94a4ca0a1c",
   "metadata": {},
   "outputs": [],
   "source": [
    "#packing and unpacking"
   ]
  },
  {
   "cell_type": "code",
   "execution_count": 10,
   "id": "6cac6f05-8be6-4cbe-8e59-57fac653fe21",
   "metadata": {},
   "outputs": [
    {
     "name": "stdout",
     "output_type": "stream",
     "text": [
      "(1, 2, 3)\n"
     ]
    }
   ],
   "source": [
    "my_tuple=1,2,3\n",
    "print(my_tuple)              #packing"
   ]
  },
  {
   "cell_type": "code",
   "execution_count": 12,
   "id": "29f95c99-71f1-492d-957d-de295ce29ad1",
   "metadata": {},
   "outputs": [],
   "source": [
    "a,b,c=my_tuple"
   ]
  },
  {
   "cell_type": "code",
   "execution_count": 14,
   "id": "a4c1d555-e4d5-40d6-b61c-51bc49e131e8",
   "metadata": {},
   "outputs": [
    {
     "name": "stdout",
     "output_type": "stream",
     "text": [
      "1\n",
      "2\n",
      "3\n"
     ]
    }
   ],
   "source": [
    "a,b,c=my_tuple\n",
    "print(a)\n",
    "print(b)\n",
    "print(c)"
   ]
  },
  {
   "cell_type": "code",
   "execution_count": 53,
   "id": "28cb1a20-4c0a-4992-9ed1-de1dce992dce",
   "metadata": {},
   "outputs": [
    {
     "name": "stdout",
     "output_type": "stream",
     "text": [
      "('john', 24, 'engineer')\n"
     ]
    }
   ],
   "source": [
    "person=(\"john\",24,\"engineer\")\n",
    "print(person)"
   ]
  },
  {
   "cell_type": "code",
   "execution_count": 55,
   "id": "9b1ad71e-142c-4987-9b75-55e05e159c86",
   "metadata": {},
   "outputs": [
    {
     "name": "stdout",
     "output_type": "stream",
     "text": [
      "10 20 30\n"
     ]
    }
   ],
   "source": [
    "coordinates=(10,20,30)\n",
    "x=coordinates[0]\n",
    "y=coordinates[1]\n",
    "z=coordinates[2]\n",
    "print(x,y,z)"
   ]
  },
  {
   "cell_type": "code",
   "execution_count": 61,
   "id": "23af037e-cf60-443b-87bd-c71bcb49ff37",
   "metadata": {},
   "outputs": [],
   "source": [
    "nested_tuple=(1,(2,3),(4,(5,6)))"
   ]
  },
  {
   "cell_type": "code",
   "execution_count": 63,
   "id": "3bf3e83a-150a-4611-85f6-e0fd4b884d00",
   "metadata": {},
   "outputs": [
    {
     "data": {
      "text/plain": [
       "2"
      ]
     },
     "execution_count": 63,
     "metadata": {},
     "output_type": "execute_result"
    }
   ],
   "source": [
    "nested_tuple[1][0]"
   ]
  },
  {
   "cell_type": "code",
   "execution_count": 65,
   "id": "da5a15ab-0570-4245-a325-d5f6fba664a1",
   "metadata": {},
   "outputs": [
    {
     "data": {
      "text/plain": [
       "4"
      ]
     },
     "execution_count": 65,
     "metadata": {},
     "output_type": "execute_result"
    }
   ],
   "source": [
    "nested_tuple[2][0]"
   ]
  },
  {
   "cell_type": "code",
   "execution_count": 73,
   "id": "7f5d18b1-88bb-47f2-a4bc-ebd01cd96e70",
   "metadata": {},
   "outputs": [
    {
     "data": {
      "text/plain": [
       "5"
      ]
     },
     "execution_count": 73,
     "metadata": {},
     "output_type": "execute_result"
    }
   ],
   "source": [
    "nested_tuple[2][1][0]"
   ]
  },
  {
   "cell_type": "code",
   "execution_count": 77,
   "id": "3c57a4f8-6908-43ef-8b5f-aba51d80dd8d",
   "metadata": {},
   "outputs": [],
   "source": [
    "my_tuple=('apple','bana','cherry','grapes','mango')"
   ]
  },
  {
   "cell_type": "code",
   "execution_count": 89,
   "id": "04447422-6f54-405a-ad48-903725778387",
   "metadata": {},
   "outputs": [],
   "source": [
    "slice_1=my_tuple[1:3]\n",
    "slice_2=my_tuple[:4]\n",
    "slice_3=my_tuple[2:]\n",
    "slice_4=my_tuple[:-3]"
   ]
  },
  {
   "cell_type": "code",
   "execution_count": 91,
   "id": "bf4e5731-ad8e-4294-84f7-473a583a080c",
   "metadata": {},
   "outputs": [
    {
     "name": "stdout",
     "output_type": "stream",
     "text": [
      "('bana', 'cherry')\n",
      "('apple', 'bana', 'cherry', 'grapes')\n",
      "('cherry', 'grapes', 'mango')\n",
      "('apple', 'bana')\n"
     ]
    }
   ],
   "source": [
    "print(slice_1)\n",
    "print(slice_2)\n",
    "print(slice_3)\n",
    "print(slice_4)"
   ]
  },
  {
   "cell_type": "code",
   "execution_count": 93,
   "id": "b31a392d-ccfa-45ff-ae36-e10ccc5bf58d",
   "metadata": {},
   "outputs": [],
   "source": [
    "my_fruits=('apple','bana','cherry','grapes','mango')"
   ]
  },
  {
   "cell_type": "code",
   "execution_count": 97,
   "id": "8625b635-8b89-46fb-8a20-f0bae3800c13",
   "metadata": {},
   "outputs": [
    {
     "data": {
      "text/plain": [
       "'cherry'"
      ]
     },
     "execution_count": 97,
     "metadata": {},
     "output_type": "execute_result"
    }
   ],
   "source": [
    "my_fruits[2]"
   ]
  },
  {
   "cell_type": "code",
   "execution_count": 99,
   "id": "1cd11698-c83d-4a42-b637-5b08fdf9d9e3",
   "metadata": {},
   "outputs": [],
   "source": [
    "no=(10,20,30,40,50)"
   ]
  },
  {
   "cell_type": "code",
   "execution_count": 103,
   "id": "5b9cae15-9cf0-4705-9f76-13b1af5b85af",
   "metadata": {},
   "outputs": [],
   "source": [
    "new_tuple=no[:3]"
   ]
  },
  {
   "cell_type": "code",
   "execution_count": 105,
   "id": "308be5aa-836d-4a07-9d56-b63832b5f1ed",
   "metadata": {},
   "outputs": [
    {
     "data": {
      "text/plain": [
       "(10, 20, 30)"
      ]
     },
     "execution_count": 105,
     "metadata": {},
     "output_type": "execute_result"
    }
   ],
   "source": [
    "new_tuple"
   ]
  },
  {
   "cell_type": "code",
   "execution_count": 109,
   "id": "098c2a1a-c128-4edc-a587-bee1e7f90179",
   "metadata": {},
   "outputs": [
    {
     "name": "stdout",
     "output_type": "stream",
     "text": [
      "yellow\n",
      "black\n"
     ]
    }
   ],
   "source": [
    "colors=('red','blue','black','green','yellow')\n",
    "print(colors[-1])\n",
    "print(colors[-3])"
   ]
  },
  {
   "cell_type": "code",
   "execution_count": 113,
   "id": "13857945-0d0b-466d-9d51-24382a3dd01a",
   "metadata": {},
   "outputs": [],
   "source": [
    "nested_tuple=(1,(2,3),(4,(5,6),7,8))"
   ]
  },
  {
   "cell_type": "code",
   "execution_count": 131,
   "id": "3c4ef6cf-6c87-4f30-b264-044e374ea1c5",
   "metadata": {},
   "outputs": [
    {
     "data": {
      "text/plain": [
       "5"
      ]
     },
     "execution_count": 131,
     "metadata": {},
     "output_type": "execute_result"
    }
   ],
   "source": [
    "nested_tuple[2][1][0]"
   ]
  },
  {
   "cell_type": "code",
   "execution_count": 133,
   "id": "fc7eba73-8105-4ac6-863c-b8dd02aa98b1",
   "metadata": {},
   "outputs": [],
   "source": [
    "values=('apple','banana','grapes')"
   ]
  },
  {
   "cell_type": "code",
   "execution_count": 135,
   "id": "28ba2a1d-3358-43f2-a784-fd55b205efec",
   "metadata": {},
   "outputs": [
    {
     "data": {
      "text/plain": [
       "tuple"
      ]
     },
     "execution_count": 135,
     "metadata": {},
     "output_type": "execute_result"
    }
   ],
   "source": [
    "type(values)"
   ]
  },
  {
   "cell_type": "code",
   "execution_count": 137,
   "id": "848a71aa-da5c-4e40-b959-e046c7b14e5f",
   "metadata": {},
   "outputs": [],
   "source": [
    "a=list(values)"
   ]
  },
  {
   "cell_type": "code",
   "execution_count": 139,
   "id": "02a066e8-1af5-4a5c-bdd9-27bb2325b2ce",
   "metadata": {},
   "outputs": [
    {
     "data": {
      "text/plain": [
       "['apple', 'banana', 'grapes']"
      ]
     },
     "execution_count": 139,
     "metadata": {},
     "output_type": "execute_result"
    }
   ],
   "source": [
    "a"
   ]
  },
  {
   "cell_type": "code",
   "execution_count": 141,
   "id": "21fd06ad-1868-448e-a7c1-4cba4a71da2a",
   "metadata": {},
   "outputs": [
    {
     "data": {
      "text/plain": [
       "['apple', 'banana', 'grapes', 'goa']"
      ]
     },
     "execution_count": 141,
     "metadata": {},
     "output_type": "execute_result"
    }
   ],
   "source": [
    "a.append('goa')\n",
    "a"
   ]
  },
  {
   "cell_type": "code",
   "execution_count": 149,
   "id": "66d79c47-d71a-4c55-a11a-d5cff3590dc9",
   "metadata": {},
   "outputs": [
    {
     "data": {
      "text/plain": [
       "('apple', 'banana', 'grapes', 'goa')"
      ]
     },
     "execution_count": 149,
     "metadata": {},
     "output_type": "execute_result"
    }
   ],
   "source": [
    "b=tuple(a)\n",
    "b"
   ]
  },
  {
   "cell_type": "code",
   "execution_count": 153,
   "id": "7501f02d-26d5-4de3-a33d-b3cddea19af8",
   "metadata": {},
   "outputs": [
    {
     "data": {
      "text/plain": [
       "tuple"
      ]
     },
     "execution_count": 153,
     "metadata": {},
     "output_type": "execute_result"
    }
   ],
   "source": [
    "type(b)"
   ]
  },
  {
   "cell_type": "code",
   "execution_count": 155,
   "id": "c3e1e276-99f8-41d9-ae16-a6e40d2e062e",
   "metadata": {},
   "outputs": [
    {
     "data": {
      "text/plain": [
       "list"
      ]
     },
     "execution_count": 155,
     "metadata": {},
     "output_type": "execute_result"
    }
   ],
   "source": [
    "type(a)"
   ]
  },
  {
   "cell_type": "code",
   "execution_count": 161,
   "id": "233018e6-401e-4e4b-816b-55ceb0794e8c",
   "metadata": {},
   "outputs": [
    {
     "name": "stdout",
     "output_type": "stream",
     "text": [
      "('apple', 'goa', 'cherry')\n"
     ]
    }
   ],
   "source": [
    "fruits=('apple','banana','cherry')\n",
    "fruits_new=fruits[:1] + ('goa',) + fruits[2:]\n",
    "print(fruits_new)"
   ]
  },
  {
   "cell_type": "code",
   "execution_count": 163,
   "id": "10854b45-34f6-4a39-873b-d6f07a99983d",
   "metadata": {},
   "outputs": [],
   "source": [
    "fru=('apple','banana','cherry')"
   ]
  },
  {
   "cell_type": "code",
   "execution_count": 165,
   "id": "ff6ff1c5-9925-4507-b687-1ca287615eec",
   "metadata": {},
   "outputs": [
    {
     "name": "stdout",
     "output_type": "stream",
     "text": [
      "('apple', 'banana', 'cherry', 'date')\n"
     ]
    }
   ],
   "source": [
    "fru1=fru+('date',)\n",
    "print(fru1)"
   ]
  },
  {
   "cell_type": "code",
   "execution_count": 167,
   "id": "ada4e9fd-cf7e-4c67-a418-3c7982e17b39",
   "metadata": {},
   "outputs": [],
   "source": [
    "fruits1=('apple','banana','cherry')\n"
   ]
  },
  {
   "cell_type": "code",
   "execution_count": 173,
   "id": "da15b09b-9e8f-4441-8234-738755431bf7",
   "metadata": {},
   "outputs": [
    {
     "ename": "TypeError",
     "evalue": "'tuple' object doesn't support item deletion",
     "output_type": "error",
     "traceback": [
      "\u001b[1;31m---------------------------------------------------------------------------\u001b[0m",
      "\u001b[1;31mTypeError\u001b[0m                                 Traceback (most recent call last)",
      "Cell \u001b[1;32mIn[173], line 1\u001b[0m\n\u001b[1;32m----> 1\u001b[0m \u001b[38;5;28;01mdel\u001b[39;00m fruits1[\u001b[38;5;241m0\u001b[39m]\n",
      "\u001b[1;31mTypeError\u001b[0m: 'tuple' object doesn't support item deletion"
     ]
    }
   ],
   "source": [
    "del fruits1[0]"
   ]
  },
  {
   "cell_type": "code",
   "execution_count": 177,
   "id": "4a41d3ae-608a-4327-8731-58344dc20027",
   "metadata": {},
   "outputs": [],
   "source": [
    "del fruits1"
   ]
  },
  {
   "cell_type": "code",
   "execution_count": 179,
   "id": "32dc50d9-62b4-4213-a5da-6d35ffbd037c",
   "metadata": {},
   "outputs": [
    {
     "ename": "NameError",
     "evalue": "name 'fruits1' is not defined",
     "output_type": "error",
     "traceback": [
      "\u001b[1;31m---------------------------------------------------------------------------\u001b[0m",
      "\u001b[1;31mNameError\u001b[0m                                 Traceback (most recent call last)",
      "Cell \u001b[1;32mIn[179], line 1\u001b[0m\n\u001b[1;32m----> 1\u001b[0m fruits1\n",
      "\u001b[1;31mNameError\u001b[0m: name 'fruits1' is not defined"
     ]
    }
   ],
   "source": [
    "fruits1"
   ]
  },
  {
   "cell_type": "code",
   "execution_count": 181,
   "id": "30220d81-d664-46ae-abd1-273b311256d1",
   "metadata": {},
   "outputs": [
    {
     "data": {
      "text/plain": [
       "2"
      ]
     },
     "execution_count": 181,
     "metadata": {},
     "output_type": "execute_result"
    }
   ],
   "source": [
    "my_value=('a','b','c','d','e')\n",
    "my_value.index('c')\n"
   ]
  },
  {
   "cell_type": "code",
   "execution_count": 183,
   "id": "e8e2ec7d-9d34-49f3-848b-18af529a5f83",
   "metadata": {},
   "outputs": [
    {
     "data": {
      "text/plain": [
       "5"
      ]
     },
     "execution_count": 183,
     "metadata": {},
     "output_type": "execute_result"
    }
   ],
   "source": [
    "len(my_value)"
   ]
  },
  {
   "cell_type": "code",
   "execution_count": 189,
   "id": "2be2966a-0089-4e7c-8aeb-2e43d1c3627a",
   "metadata": {},
   "outputs": [
    {
     "name": "stdout",
     "output_type": "stream",
     "text": [
      "3\n"
     ]
    }
   ],
   "source": [
    "my_no=(12,20,34)\n",
    "length=len(my_no)\n",
    "print(length)"
   ]
  },
  {
   "cell_type": "code",
   "execution_count": 191,
   "id": "cc42aba8-9e4d-4dcd-be11-423fdea0b7ad",
   "metadata": {},
   "outputs": [
    {
     "data": {
      "text/plain": [
       "77"
      ]
     },
     "execution_count": 191,
     "metadata": {},
     "output_type": "execute_result"
    }
   ],
   "source": [
    "t=(5,67,8,5,56,77,9,49,2)\n",
    "max(t)"
   ]
  },
  {
   "cell_type": "code",
   "execution_count": 193,
   "id": "6cc24dd4-8f13-4333-a516-41b359f50618",
   "metadata": {},
   "outputs": [
    {
     "data": {
      "text/plain": [
       "'e'"
      ]
     },
     "execution_count": 193,
     "metadata": {},
     "output_type": "execute_result"
    }
   ],
   "source": [
    "max(my_value)"
   ]
  },
  {
   "cell_type": "code",
   "execution_count": 195,
   "id": "de399d43-788f-403a-a87a-9ad09dd68427",
   "metadata": {},
   "outputs": [
    {
     "data": {
      "text/plain": [
       "2"
      ]
     },
     "execution_count": 195,
     "metadata": {},
     "output_type": "execute_result"
    }
   ],
   "source": [
    "min(t)\n"
   ]
  },
  {
   "cell_type": "code",
   "execution_count": 197,
   "id": "d281d4d3-a07c-424f-8491-9617ae8df04b",
   "metadata": {},
   "outputs": [
    {
     "data": {
      "text/plain": [
       "278"
      ]
     },
     "execution_count": 197,
     "metadata": {},
     "output_type": "execute_result"
    }
   ],
   "source": [
    "sum(t)"
   ]
  },
  {
   "cell_type": "code",
   "execution_count": 199,
   "id": "d571668b-80a7-41b8-9a5d-17d98c11808d",
   "metadata": {},
   "outputs": [
    {
     "data": {
      "text/plain": [
       "[2, 5, 5, 8, 9, 49, 56, 67, 77]"
      ]
     },
     "execution_count": 199,
     "metadata": {},
     "output_type": "execute_result"
    }
   ],
   "source": [
    "sorted(t)"
   ]
  },
  {
   "cell_type": "code",
   "execution_count": 203,
   "id": "86ea250b-de44-4000-b3de-c994477cdb23",
   "metadata": {},
   "outputs": [
    {
     "name": "stdout",
     "output_type": "stream",
     "text": [
      "92\n",
      "76\n"
     ]
    }
   ],
   "source": [
    "scores=(88,76,92,85,79)\n",
    "print(max(scores))\n",
    "print(min(scores))"
   ]
  },
  {
   "cell_type": "code",
   "execution_count": 205,
   "id": "12ff2745-8a71-449a-80c3-5941af3960d0",
   "metadata": {},
   "outputs": [],
   "source": [
    "cities=('new york','los angeles','paris','london','tokyo')"
   ]
  },
  {
   "cell_type": "code",
   "execution_count": 209,
   "id": "34954259-0ca1-400e-b5ae-395d38df224b",
   "metadata": {},
   "outputs": [
    {
     "data": {
      "text/plain": [
       "True"
      ]
     },
     "execution_count": 209,
     "metadata": {},
     "output_type": "execute_result"
    }
   ],
   "source": [
    "'paris' in cities"
   ]
  },
  {
   "cell_type": "code",
   "execution_count": 211,
   "id": "a18805a9-ebe9-4a29-88b2-b536c7c3d2cc",
   "metadata": {},
   "outputs": [
    {
     "name": "stdout",
     "output_type": "stream",
     "text": [
      "16\n"
     ]
    }
   ],
   "source": [
    "length=2\n",
    "width=4\n",
    "height=2\n",
    "volume=length*width*height\n",
    "print(volume)"
   ]
  },
  {
   "cell_type": "code",
   "execution_count": null,
   "id": "c8fb1724-9359-4d1d-9d4b-f42c7c24e589",
   "metadata": {},
   "outputs": [],
   "source": []
  }
 ],
 "metadata": {
  "kernelspec": {
   "display_name": "Python [conda env:base] *",
   "language": "python",
   "name": "conda-base-py"
  },
  "language_info": {
   "codemirror_mode": {
    "name": "ipython",
    "version": 3
   },
   "file_extension": ".py",
   "mimetype": "text/x-python",
   "name": "python",
   "nbconvert_exporter": "python",
   "pygments_lexer": "ipython3",
   "version": "3.12.7"
  }
 },
 "nbformat": 4,
 "nbformat_minor": 5
}
