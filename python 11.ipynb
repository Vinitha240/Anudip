{
 "cells": [
  {
   "cell_type": "code",
   "execution_count": 1,
   "id": "4b8bad3f-37e2-48c6-8288-c73b30784b75",
   "metadata": {},
   "outputs": [],
   "source": [
    "#dictionary"
   ]
  },
  {
   "cell_type": "code",
   "execution_count": 9,
   "id": "fe0f6af4-816e-4e43-8d25-575de809f84c",
   "metadata": {},
   "outputs": [],
   "source": [
    "dict={\"row_id\":1,\"order_id\":\"abcde\",\"order_date\":\"14-5-2025\"}\n"
   ]
  },
  {
   "cell_type": "code",
   "execution_count": 11,
   "id": "57a4a9a0-79de-46a9-af98-7ed9ab5dd030",
   "metadata": {},
   "outputs": [
    {
     "data": {
      "text/plain": [
       "{'row_id': 1, 'order_id': 'abcde', 'order_date': '14-5-2025'}"
      ]
     },
     "execution_count": 11,
     "metadata": {},
     "output_type": "execute_result"
    }
   ],
   "source": [
    "dict"
   ]
  },
  {
   "cell_type": "code",
   "execution_count": 13,
   "id": "a15ea921-6f81-4dcd-aa6c-30ac11b9bfa3",
   "metadata": {},
   "outputs": [],
   "source": [
    "d={\"name\":\"raj\",\"age\":50,\"gender\":\"male\"}"
   ]
  },
  {
   "cell_type": "code",
   "execution_count": 15,
   "id": "620f1879-7566-48cb-8743-1797ec20bb56",
   "metadata": {},
   "outputs": [
    {
     "data": {
      "text/plain": [
       "dict"
      ]
     },
     "execution_count": 15,
     "metadata": {},
     "output_type": "execute_result"
    }
   ],
   "source": [
    "type(d)"
   ]
  },
  {
   "cell_type": "code",
   "execution_count": 17,
   "id": "2a564c17-69fd-49fc-bad7-df6ce4edaa4b",
   "metadata": {},
   "outputs": [],
   "source": [
    "a={1,2,3,4}"
   ]
  },
  {
   "cell_type": "code",
   "execution_count": 19,
   "id": "2bbb12bf-4464-4f05-a9bb-f386afd8e615",
   "metadata": {},
   "outputs": [
    {
     "data": {
      "text/plain": [
       "set"
      ]
     },
     "execution_count": 19,
     "metadata": {},
     "output_type": "execute_result"
    }
   ],
   "source": [
    "type(a)"
   ]
  },
  {
   "cell_type": "code",
   "execution_count": 21,
   "id": "1d4493a4-3e59-47b8-936f-96f843f27d7f",
   "metadata": {},
   "outputs": [],
   "source": [
    "#characteristics of dictionaries"
   ]
  },
  {
   "cell_type": "code",
   "execution_count": 23,
   "id": "1ddfac5a-ce5e-4ffe-8621-d949dc30add5",
   "metadata": {},
   "outputs": [
    {
     "data": {
      "text/plain": [
       "{'name': 'vini', 'age': 21, 'city': 'banglore'}"
      ]
     },
     "execution_count": 23,
     "metadata": {},
     "output_type": "execute_result"
    }
   ],
   "source": [
    "#unordered\n",
    "my_dict={\"name\":\"vini\",\"age\":21,\"city\":\"banglore\"}\n",
    "my_dict"
   ]
  },
  {
   "cell_type": "code",
   "execution_count": 33,
   "id": "30d7db48-7497-467d-96cc-47a792dc5fce",
   "metadata": {},
   "outputs": [],
   "source": [
    "#mutable\n",
    "my_dict[\"age\"]=22"
   ]
  },
  {
   "cell_type": "code",
   "execution_count": 35,
   "id": "08e7d15c-8c47-4384-a25e-f3f0d06eb840",
   "metadata": {},
   "outputs": [
    {
     "data": {
      "text/plain": [
       "{'name': 'vini', 'age': 22, 'city': 'banglore'}"
      ]
     },
     "execution_count": 35,
     "metadata": {},
     "output_type": "execute_result"
    }
   ],
   "source": [
    "my_dict"
   ]
  },
  {
   "cell_type": "code",
   "execution_count": 41,
   "id": "549a79ec-bb19-46cf-843d-f66565cc8edf",
   "metadata": {},
   "outputs": [],
   "source": [
    "#unique keys\n",
    "my_dict={\"name\":\"vini\",\"age\":21,\"age\":25,\"age\":66}"
   ]
  },
  {
   "cell_type": "code",
   "execution_count": 43,
   "id": "2b329ccb-950e-46d5-8d2e-0c634ef26d0f",
   "metadata": {},
   "outputs": [
    {
     "data": {
      "text/plain": [
       "{'name': 'vini', 'age': 66}"
      ]
     },
     "execution_count": 43,
     "metadata": {},
     "output_type": "execute_result"
    }
   ],
   "source": [
    "my_dict"
   ]
  },
  {
   "cell_type": "code",
   "execution_count": 45,
   "id": "8d72e4c6-192a-4b37-b237-45314a87f1ce",
   "metadata": {},
   "outputs": [
    {
     "data": {
      "text/plain": [
       "{(1, 2): 'point', 'name': 'alice'}"
      ]
     },
     "execution_count": 45,
     "metadata": {},
     "output_type": "execute_result"
    }
   ],
   "source": [
    "#immutable\n",
    "my_dic={(1,2):\"point\",\"name\":\"alice\"}\n",
    "my_dic"
   ]
  },
  {
   "cell_type": "code",
   "execution_count": 47,
   "id": "5ddcdcf9-a31c-48f7-b6cf-583707eec82d",
   "metadata": {},
   "outputs": [],
   "source": [
    "#accessing a value by key"
   ]
  },
  {
   "cell_type": "code",
   "execution_count": 53,
   "id": "eabda8f1-b463-4842-b579-2767bc425745",
   "metadata": {},
   "outputs": [],
   "source": [
    "my_dict={\n",
    "    \"name\":'john',\n",
    "    \"age\":34,\n",
    "    \"hobbies\":\"reading\",\n",
    "    \"education\":\"degree\"\n",
    "}"
   ]
  },
  {
   "cell_type": "code",
   "execution_count": 55,
   "id": "bce276a5-080b-44c5-bc2b-de2e6c99aedb",
   "metadata": {},
   "outputs": [
    {
     "data": {
      "text/plain": [
       "34"
      ]
     },
     "execution_count": 55,
     "metadata": {},
     "output_type": "execute_result"
    }
   ],
   "source": [
    "my_dict[\"age\"]"
   ]
  },
  {
   "cell_type": "code",
   "execution_count": 57,
   "id": "51cf99e2-7423-4841-8921-76b201fe83b5",
   "metadata": {},
   "outputs": [
    {
     "data": {
      "text/plain": [
       "'degree'"
      ]
     },
     "execution_count": 57,
     "metadata": {},
     "output_type": "execute_result"
    }
   ],
   "source": [
    "my_dict[\"education\"]"
   ]
  },
  {
   "cell_type": "code",
   "execution_count": 59,
   "id": "5fc51c50-7200-4d0d-954b-76c784ffea2c",
   "metadata": {},
   "outputs": [],
   "source": [
    "#using the get() method"
   ]
  },
  {
   "cell_type": "code",
   "execution_count": 61,
   "id": "da669ebf-2a83-4080-ba08-2d3395b32daa",
   "metadata": {},
   "outputs": [],
   "source": [
    "my_dic={\"name\":'vino','age':98}"
   ]
  },
  {
   "cell_type": "code",
   "execution_count": 63,
   "id": "1ef6ff01-075a-4e0d-a6eb-5d704d50af1a",
   "metadata": {},
   "outputs": [
    {
     "data": {
      "text/plain": [
       "{'name': 'vino', 'age': 98}"
      ]
     },
     "execution_count": 63,
     "metadata": {},
     "output_type": "execute_result"
    }
   ],
   "source": [
    "my_dic"
   ]
  },
  {
   "cell_type": "code",
   "execution_count": 65,
   "id": "1ea4bcc3-9f82-4687-ae91-53b86d0d7871",
   "metadata": {},
   "outputs": [
    {
     "data": {
      "text/plain": [
       "98"
      ]
     },
     "execution_count": 65,
     "metadata": {},
     "output_type": "execute_result"
    }
   ],
   "source": [
    "my_dic.get(\"age\")"
   ]
  },
  {
   "cell_type": "code",
   "execution_count": 67,
   "id": "2f8899ce-e36a-4dff-87d8-c19787bf8708",
   "metadata": {},
   "outputs": [
    {
     "data": {
      "text/plain": [
       "'vino'"
      ]
     },
     "execution_count": 67,
     "metadata": {},
     "output_type": "execute_result"
    }
   ],
   "source": [
    "my_dic.get(\"name\")"
   ]
  },
  {
   "cell_type": "code",
   "execution_count": 75,
   "id": "894a429d-6cb3-42c5-b78b-fae495805c43",
   "metadata": {},
   "outputs": [
    {
     "name": "stdout",
     "output_type": "stream",
     "text": [
      "vino\n",
      "None\n"
     ]
    }
   ],
   "source": [
    "print(my_dic.get(\"name\"))\n",
    "print(my_dic.get(\"city\"))\n"
   ]
  },
  {
   "cell_type": "code",
   "execution_count": 77,
   "id": "18403177-7c8f-4086-a39e-f58b4e81c43c",
   "metadata": {},
   "outputs": [],
   "source": [
    "#accessing all keys"
   ]
  },
  {
   "cell_type": "code",
   "execution_count": 79,
   "id": "7b5bb10f-30d7-4dac-91e8-8f819d8816e9",
   "metadata": {},
   "outputs": [
    {
     "data": {
      "text/plain": [
       "dict_keys(['name', 'age'])"
      ]
     },
     "execution_count": 79,
     "metadata": {},
     "output_type": "execute_result"
    }
   ],
   "source": [
    "my_dic.keys()"
   ]
  },
  {
   "cell_type": "code",
   "execution_count": 81,
   "id": "b2cfbc65-5165-4f76-8fb1-b4c38eb21667",
   "metadata": {},
   "outputs": [],
   "source": [
    "my_dict={\"name\":\"vini\",\"age\":21,\"city\":\"banglore\"}"
   ]
  },
  {
   "cell_type": "code",
   "execution_count": 85,
   "id": "ffa54a6c-ac4c-401a-be15-3c32012b797a",
   "metadata": {},
   "outputs": [
    {
     "data": {
      "text/plain": [
       "dict_keys(['name', 'age', 'city'])"
      ]
     },
     "execution_count": 85,
     "metadata": {},
     "output_type": "execute_result"
    }
   ],
   "source": [
    "my_dict.keys()"
   ]
  },
  {
   "cell_type": "code",
   "execution_count": 87,
   "id": "b51af934-a02e-496a-907a-6a14a8637484",
   "metadata": {},
   "outputs": [],
   "source": [
    "#accessing all values"
   ]
  },
  {
   "cell_type": "code",
   "execution_count": 89,
   "id": "ef691577-908b-4ec0-b660-17cc72c62865",
   "metadata": {},
   "outputs": [
    {
     "data": {
      "text/plain": [
       "dict_values(['vini', 21, 'banglore'])"
      ]
     },
     "execution_count": 89,
     "metadata": {},
     "output_type": "execute_result"
    }
   ],
   "source": [
    "my_dict={\"name\":\"vini\",\"age\":21,\"city\":\"banglore\"}\n",
    "my_dict.values()"
   ]
  },
  {
   "cell_type": "code",
   "execution_count": 91,
   "id": "9c9bf5d6-fba6-49ab-aab3-fadc9ec81e3e",
   "metadata": {},
   "outputs": [
    {
     "data": {
      "text/plain": [
       "dict_values(['vino', 98])"
      ]
     },
     "execution_count": 91,
     "metadata": {},
     "output_type": "execute_result"
    }
   ],
   "source": [
    "my_dic.values()"
   ]
  },
  {
   "cell_type": "code",
   "execution_count": 93,
   "id": "736d9467-c392-45b3-88c5-e291b1839db6",
   "metadata": {},
   "outputs": [],
   "source": [
    "#accessing all key-values pairs"
   ]
  },
  {
   "cell_type": "code",
   "execution_count": 95,
   "id": "447d1d26-5bc4-4f7b-9f60-d1b3746b88ca",
   "metadata": {},
   "outputs": [
    {
     "data": {
      "text/plain": [
       "{'name': 'vini', 'age': 21, 'city': 'banglore'}"
      ]
     },
     "execution_count": 95,
     "metadata": {},
     "output_type": "execute_result"
    }
   ],
   "source": [
    "my_dict"
   ]
  },
  {
   "cell_type": "code",
   "execution_count": 97,
   "id": "8aa52b0e-751e-4e30-bb75-6bc5a5292a5b",
   "metadata": {},
   "outputs": [
    {
     "data": {
      "text/plain": [
       "dict_items([('name', 'vini'), ('age', 21), ('city', 'banglore')])"
      ]
     },
     "execution_count": 97,
     "metadata": {},
     "output_type": "execute_result"
    }
   ],
   "source": [
    "my_dict.items()"
   ]
  },
  {
   "cell_type": "code",
   "execution_count": 99,
   "id": "bf1509b4-fa40-4a43-94b2-73ff323c1dc2",
   "metadata": {},
   "outputs": [],
   "source": [
    "#iterating over values"
   ]
  },
  {
   "cell_type": "code",
   "execution_count": 101,
   "id": "3542eb23-72a4-49f2-83fd-32a67cc6b764",
   "metadata": {},
   "outputs": [
    {
     "name": "stdout",
     "output_type": "stream",
     "text": [
      "name\n",
      "age\n",
      "city\n"
     ]
    }
   ],
   "source": [
    "my_dict={\"name\":\"vini\",\"age\":21,\"city\":\"banglore\"}\n",
    "\n",
    "for i in my_dict:\n",
    "    print(i)"
   ]
  },
  {
   "cell_type": "code",
   "execution_count": 103,
   "id": "f0202eeb-308a-43d6-a6cd-89493fcc03a8",
   "metadata": {},
   "outputs": [
    {
     "name": "stdout",
     "output_type": "stream",
     "text": [
      "vini\n",
      "21\n",
      "banglore\n"
     ]
    }
   ],
   "source": [
    "for j in my_dict.values():\n",
    "    print(j)"
   ]
  },
  {
   "cell_type": "code",
   "execution_count": 107,
   "id": "b7089c3b-93ad-4940-bedf-1efafb33d0e4",
   "metadata": {},
   "outputs": [
    {
     "name": "stdout",
     "output_type": "stream",
     "text": [
      "name:vini\n",
      "age:21\n",
      "city:banglore\n"
     ]
    }
   ],
   "source": [
    "for i,j in my_dict.items():\n",
    "    print(f\"{i}:{j}\")\n"
   ]
  },
  {
   "cell_type": "code",
   "execution_count": 147,
   "id": "e2cff0b5-2111-4cbf-8a2f-a76445ac59f9",
   "metadata": {},
   "outputs": [],
   "source": [
    "nested_dict={ \n",
    "    \"person1\":{\n",
    "    \"name\":'alice',\n",
    "     \"age\":34,\n",
    "    \"city\":'new york'\n",
    "},\n",
    "    \"person2\":{\n",
    "        \"name\":'john',\n",
    "        \"age\":24,\n",
    "        \"city\":'london'\n",
    "    }\n",
    "}\n"
   ]
  },
  {
   "cell_type": "code",
   "execution_count": 149,
   "id": "0902fa8a-b009-49e9-b1e9-db2cbaeac939",
   "metadata": {},
   "outputs": [
    {
     "data": {
      "text/plain": [
       "{'person1': {'name': 'alice', 'age': 34, 'city': 'new york'},\n",
       " 'person2': {'name': 'john', 'age': 24, 'city': 'london'}}"
      ]
     },
     "execution_count": 149,
     "metadata": {},
     "output_type": "execute_result"
    }
   ],
   "source": [
    "nested_dict"
   ]
  },
  {
   "cell_type": "code",
   "execution_count": 113,
   "id": "91e54818-4101-4c23-a43c-b74e852e0694",
   "metadata": {},
   "outputs": [],
   "source": [
    "#accessing elements in a  nested dictionary"
   ]
  },
  {
   "cell_type": "code",
   "execution_count": 119,
   "id": "cfd90ade-9f1c-4d80-ae57-a04ae274520a",
   "metadata": {},
   "outputs": [
    {
     "name": "stdout",
     "output_type": "stream",
     "text": [
      "alice\n"
     ]
    }
   ],
   "source": [
    "print(nested_dict['person1']['name'])"
   ]
  },
  {
   "cell_type": "code",
   "execution_count": 121,
   "id": "a92dd518-f087-4010-99ef-4fdeab1ad84e",
   "metadata": {},
   "outputs": [
    {
     "name": "stdout",
     "output_type": "stream",
     "text": [
      "london\n"
     ]
    }
   ],
   "source": [
    "print(nested_dict['person2']['city'])"
   ]
  },
  {
   "cell_type": "code",
   "execution_count": null,
   "id": "ddd786b6-ad60-4e96-a4da-d807203cda95",
   "metadata": {},
   "outputs": [],
   "source": [
    "nested_dict[\"person3\"]={\n",
    "    \"name\":'ali',\n",
    "     \"age\":38,\n",
    "    \"city\":'new delhi'\n",
    "}\n"
   ]
  },
  {
   "cell_type": "code",
   "execution_count": 159,
   "id": "71bab028-0181-452c-9ff2-8ae5759704a5",
   "metadata": {},
   "outputs": [
    {
     "data": {
      "text/plain": [
       "{'person1': {'name': 'alice', 'age': 45, 'city': 'new york'},\n",
       " 'person2': {'name': 'john', 'age': 24, 'city': 'london'},\n",
       " 'person3': {'name': 'ali', 'age': 38, 'city': 'new delhi'}}"
      ]
     },
     "execution_count": 159,
     "metadata": {},
     "output_type": "execute_result"
    }
   ],
   "source": [
    "nested_dict"
   ]
  },
  {
   "cell_type": "code",
   "execution_count": 123,
   "id": "50cc6300-a915-4121-87ba-596588c322aa",
   "metadata": {},
   "outputs": [],
   "source": [
    "#modifying elements in a nested dictionary"
   ]
  },
  {
   "cell_type": "code",
   "execution_count": 155,
   "id": "2b6e8972-d856-4ecc-917a-cbe54ca33efa",
   "metadata": {},
   "outputs": [],
   "source": [
    "nested_dict['person1']['age']=45"
   ]
  },
  {
   "cell_type": "code",
   "execution_count": 157,
   "id": "50a9c4d8-0bbb-4f12-9e82-cbc9fa63b577",
   "metadata": {},
   "outputs": [
    {
     "data": {
      "text/plain": [
       "{'person1': {'name': 'alice', 'age': 45, 'city': 'new york'},\n",
       " 'person2': {'name': 'john', 'age': 24, 'city': 'london'},\n",
       " 'person3': {'name': 'ali', 'age': 38, 'city': 'new delhi'}}"
      ]
     },
     "execution_count": 157,
     "metadata": {},
     "output_type": "execute_result"
    }
   ],
   "source": [
    "nested_dict"
   ]
  },
  {
   "cell_type": "code",
   "execution_count": 161,
   "id": "17b80972-770c-4c5b-b8e6-4c5e5588cf02",
   "metadata": {},
   "outputs": [],
   "source": [
    "#using del"
   ]
  },
  {
   "cell_type": "code",
   "execution_count": 169,
   "id": "52a186e6-4c02-4864-b8bf-0facfd3e057b",
   "metadata": {},
   "outputs": [],
   "source": [
    "mydic={\n",
    "    'name':'grey',\n",
    "    'age':34,\n",
    "    'city':'london',\n",
    "    'profession':'software'\n",
    "}"
   ]
  },
  {
   "cell_type": "code",
   "execution_count": 171,
   "id": "c421db5d-8ef4-44c5-a2a3-7f0aab12143d",
   "metadata": {},
   "outputs": [],
   "source": [
    "del mydic['age']"
   ]
  },
  {
   "cell_type": "code",
   "execution_count": 173,
   "id": "bc458884-6a4c-466f-9bc6-3f5bec720542",
   "metadata": {},
   "outputs": [
    {
     "data": {
      "text/plain": [
       "{'name': 'grey', 'city': 'london', 'profession': 'software'}"
      ]
     },
     "execution_count": 173,
     "metadata": {},
     "output_type": "execute_result"
    }
   ],
   "source": [
    "mydic"
   ]
  },
  {
   "cell_type": "code",
   "execution_count": 175,
   "id": "21e6ff31-5801-446d-b6bc-dc642a14ee3e",
   "metadata": {},
   "outputs": [],
   "source": [
    "#pop"
   ]
  },
  {
   "cell_type": "code",
   "execution_count": 177,
   "id": "8ac90948-7935-4242-8d32-4d88d6b3ad24",
   "metadata": {},
   "outputs": [
    {
     "data": {
      "text/plain": [
       "{'name': 'grey', 'city': 'london', 'profession': 'software'}"
      ]
     },
     "execution_count": 177,
     "metadata": {},
     "output_type": "execute_result"
    }
   ],
   "source": [
    "mydic"
   ]
  },
  {
   "cell_type": "code",
   "execution_count": 179,
   "id": "b74c2179-be68-4292-97d0-5166f2634df0",
   "metadata": {},
   "outputs": [],
   "source": [
    "a=mydic.pop('city')"
   ]
  },
  {
   "cell_type": "code",
   "execution_count": 181,
   "id": "e9383285-adc9-481b-ba27-a62d0d28bcc4",
   "metadata": {},
   "outputs": [
    {
     "data": {
      "text/plain": [
       "'london'"
      ]
     },
     "execution_count": 181,
     "metadata": {},
     "output_type": "execute_result"
    }
   ],
   "source": [
    "a"
   ]
  },
  {
   "cell_type": "code",
   "execution_count": 183,
   "id": "36c87b7f-0eb2-45dd-a38f-20e9d21d61ab",
   "metadata": {},
   "outputs": [
    {
     "data": {
      "text/plain": [
       "{'name': 'grey', 'profession': 'software'}"
      ]
     },
     "execution_count": 183,
     "metadata": {},
     "output_type": "execute_result"
    }
   ],
   "source": [
    "mydic"
   ]
  },
  {
   "cell_type": "code",
   "execution_count": 185,
   "id": "05007c26-41d8-4684-8a9a-fb37ceee0495",
   "metadata": {},
   "outputs": [],
   "source": [
    "#using popitem()"
   ]
  },
  {
   "cell_type": "code",
   "execution_count": 187,
   "id": "92941bea-d7e8-4950-a2db-3c412756ed38",
   "metadata": {},
   "outputs": [
    {
     "data": {
      "text/plain": [
       "('city', 'banglore')"
      ]
     },
     "execution_count": 187,
     "metadata": {},
     "output_type": "execute_result"
    }
   ],
   "source": [
    "my_dict.popitem()"
   ]
  },
  {
   "cell_type": "code",
   "execution_count": 189,
   "id": "be144b1f-87c4-48e7-9f74-44b996d3df64",
   "metadata": {},
   "outputs": [
    {
     "data": {
      "text/plain": [
       "{'name': 'vini', 'age': 21}"
      ]
     },
     "execution_count": 189,
     "metadata": {},
     "output_type": "execute_result"
    }
   ],
   "source": [
    "my_dict"
   ]
  },
  {
   "cell_type": "code",
   "execution_count": 193,
   "id": "fde37437-7cd4-467c-99d3-c7911ddd8469",
   "metadata": {},
   "outputs": [],
   "source": [
    "#membership operator"
   ]
  },
  {
   "cell_type": "code",
   "execution_count": 195,
   "id": "ed7f0518-6ab1-4b4a-b006-c1a7c5d88fe7",
   "metadata": {},
   "outputs": [
    {
     "data": {
      "text/plain": [
       "{'name': 'vino', 'age': 98}"
      ]
     },
     "execution_count": 195,
     "metadata": {},
     "output_type": "execute_result"
    }
   ],
   "source": [
    "my_dic"
   ]
  },
  {
   "cell_type": "code",
   "execution_count": 197,
   "id": "4303987e-0fb3-4724-bfc6-8388d63016bb",
   "metadata": {},
   "outputs": [
    {
     "data": {
      "text/plain": [
       "False"
      ]
     },
     "execution_count": 197,
     "metadata": {},
     "output_type": "execute_result"
    }
   ],
   "source": [
    "98 in my_dic"
   ]
  },
  {
   "cell_type": "code",
   "execution_count": 203,
   "id": "1bb56e8c-8636-4e1b-b717-ac482a43bb44",
   "metadata": {},
   "outputs": [
    {
     "data": {
      "text/plain": [
       "True"
      ]
     },
     "execution_count": 203,
     "metadata": {},
     "output_type": "execute_result"
    }
   ],
   "source": [
    "'name' in my_dic"
   ]
  },
  {
   "cell_type": "code",
   "execution_count": null,
   "id": "bea3cb7d-997e-4a8c-80a0-5585bb2cb55e",
   "metadata": {},
   "outputs": [],
   "source": []
  }
 ],
 "metadata": {
  "kernelspec": {
   "display_name": "Python [conda env:base] *",
   "language": "python",
   "name": "conda-base-py"
  },
  "language_info": {
   "codemirror_mode": {
    "name": "ipython",
    "version": 3
   },
   "file_extension": ".py",
   "mimetype": "text/x-python",
   "name": "python",
   "nbconvert_exporter": "python",
   "pygments_lexer": "ipython3",
   "version": "3.12.7"
  }
 },
 "nbformat": 4,
 "nbformat_minor": 5
}
