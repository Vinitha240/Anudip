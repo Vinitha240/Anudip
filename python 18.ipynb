{
 "cells": [
  {
   "cell_type": "code",
   "execution_count": 1,
   "id": "b22a967a-1074-48af-a08e-c3c78a14f7d1",
   "metadata": {},
   "outputs": [],
   "source": [
    "import numpy as np"
   ]
  },
  {
   "cell_type": "code",
   "execution_count": 3,
   "id": "97ff9d00-d31e-4ce0-a995-0f34938193e9",
   "metadata": {},
   "outputs": [
    {
     "name": "stdout",
     "output_type": "stream",
     "text": [
      "Uniform Distridution:\n",
      " [[0.34422564 0.12513328 0.58084491]\n",
      " [0.91290138 0.5691457  0.15245049]\n",
      " [0.29048329 0.51129741 0.4044643 ]]\n"
     ]
    }
   ],
   "source": [
    "uniform=np.random.rand(3,3)\n",
    "print(\"Uniform Distridution:\\n\",uniform)"
   ]
  },
  {
   "cell_type": "code",
   "execution_count": 37,
   "id": "9825f9c8-9710-47a5-aac3-aa22b5d29b69",
   "metadata": {},
   "outputs": [],
   "source": [
    "#searching in array where----returns the index value "
   ]
  },
  {
   "cell_type": "code",
   "execution_count": 9,
   "id": "512da919-0510-4aaa-a422-f50f9054833e",
   "metadata": {},
   "outputs": [],
   "source": [
    "a=np.array([1,2,3,4,5])"
   ]
  },
  {
   "cell_type": "code",
   "execution_count": 11,
   "id": "da6c21d7-ef8d-47ce-bbb7-85f402d8d5bd",
   "metadata": {},
   "outputs": [
    {
     "data": {
      "text/plain": [
       "(array([3, 4], dtype=int64),)"
      ]
     },
     "execution_count": 11,
     "metadata": {},
     "output_type": "execute_result"
    }
   ],
   "source": [
    "np.where(a>3)"
   ]
  },
  {
   "cell_type": "code",
   "execution_count": 13,
   "id": "47a57620-2ef6-4fb9-87a8-e0ae25da8e18",
   "metadata": {},
   "outputs": [
    {
     "data": {
      "text/plain": [
       "(array([4], dtype=int64),)"
      ]
     },
     "execution_count": 13,
     "metadata": {},
     "output_type": "execute_result"
    }
   ],
   "source": [
    "np.where(a>4)"
   ]
  },
  {
   "cell_type": "code",
   "execution_count": 15,
   "id": "0a26b139-35ed-45d9-a45e-c847bb28c78f",
   "metadata": {},
   "outputs": [
    {
     "data": {
      "text/plain": [
       "(array([0], dtype=int64),)"
      ]
     },
     "execution_count": 15,
     "metadata": {},
     "output_type": "execute_result"
    }
   ],
   "source": [
    "np.where(a<2)"
   ]
  },
  {
   "cell_type": "code",
   "execution_count": 17,
   "id": "f7775a27-b968-461e-a9a8-798fde6443b6",
   "metadata": {},
   "outputs": [
    {
     "data": {
      "text/plain": [
       "4"
      ]
     },
     "execution_count": 17,
     "metadata": {},
     "output_type": "execute_result"
    }
   ],
   "source": [
    "np.argmax(a)"
   ]
  },
  {
   "cell_type": "code",
   "execution_count": 19,
   "id": "171a5270-0a60-4070-954a-c0064a606a49",
   "metadata": {},
   "outputs": [
    {
     "data": {
      "text/plain": [
       "0"
      ]
     },
     "execution_count": 19,
     "metadata": {},
     "output_type": "execute_result"
    }
   ],
   "source": [
    "np.argmin(a)"
   ]
  },
  {
   "cell_type": "code",
   "execution_count": 21,
   "id": "3879f51e-3a8b-4780-a39f-c27af96f039d",
   "metadata": {},
   "outputs": [],
   "source": [
    "#searchsorted"
   ]
  },
  {
   "cell_type": "code",
   "execution_count": 23,
   "id": "1b886d08-07f2-409a-9f21-5df561262796",
   "metadata": {},
   "outputs": [],
   "source": [
    "sorted_arr=np.array([1,3,5,7])"
   ]
  },
  {
   "cell_type": "code",
   "execution_count": 25,
   "id": "a9bebe22-f845-4d8e-9769-64ba5425270c",
   "metadata": {},
   "outputs": [
    {
     "data": {
      "text/plain": [
       "3"
      ]
     },
     "execution_count": 25,
     "metadata": {},
     "output_type": "execute_result"
    }
   ],
   "source": [
    "np.searchsorted(sorted_arr,6)"
   ]
  },
  {
   "cell_type": "code",
   "execution_count": 27,
   "id": "6a712cf2-9936-401e-b98a-30951d190d1c",
   "metadata": {},
   "outputs": [
    {
     "data": {
      "text/plain": [
       "2"
      ]
     },
     "execution_count": 27,
     "metadata": {},
     "output_type": "execute_result"
    }
   ],
   "source": [
    "np.searchsorted(sorted_arr,4)"
   ]
  },
  {
   "cell_type": "code",
   "execution_count": 35,
   "id": "8ddcf8ec-0b1d-4d11-888a-0bf0493bb68e",
   "metadata": {},
   "outputs": [],
   "source": [
    "#extract --- retuns the value "
   ]
  },
  {
   "cell_type": "code",
   "execution_count": 33,
   "id": "cc96c8ac-866d-4295-a72f-4d4711a60a0b",
   "metadata": {},
   "outputs": [
    {
     "data": {
      "text/plain": [
       "array([4, 5])"
      ]
     },
     "execution_count": 33,
     "metadata": {},
     "output_type": "execute_result"
    }
   ],
   "source": [
    "np.extract(a>3,a)"
   ]
  },
  {
   "cell_type": "code",
   "execution_count": 39,
   "id": "2788e62a-4a3f-4fbd-9d69-953134aa9b26",
   "metadata": {},
   "outputs": [],
   "source": [
    "#transpose"
   ]
  },
  {
   "cell_type": "code",
   "execution_count": 41,
   "id": "f87fbd4d-e457-47fc-80b1-92abb6441225",
   "metadata": {},
   "outputs": [],
   "source": [
    "matrix=([[1,2,3],[4,5,6]])"
   ]
  },
  {
   "cell_type": "code",
   "execution_count": 43,
   "id": "e2d3d772-ca04-4a54-929c-47d38a4f8736",
   "metadata": {},
   "outputs": [
    {
     "data": {
      "text/plain": [
       "[[1, 2, 3], [4, 5, 6]]"
      ]
     },
     "execution_count": 43,
     "metadata": {},
     "output_type": "execute_result"
    }
   ],
   "source": [
    "matrix"
   ]
  },
  {
   "cell_type": "code",
   "execution_count": 45,
   "id": "aeb36685-b809-449c-ad8e-f1f98f1a967a",
   "metadata": {},
   "outputs": [
    {
     "data": {
      "text/plain": [
       "array([[1, 4],\n",
       "       [2, 5],\n",
       "       [3, 6]])"
      ]
     },
     "execution_count": 45,
     "metadata": {},
     "output_type": "execute_result"
    }
   ],
   "source": [
    "np.transpose(matrix)"
   ]
  },
  {
   "cell_type": "code",
   "execution_count": 47,
   "id": "126fa4c3-d876-4490-a5eb-46f23d3117ff",
   "metadata": {},
   "outputs": [],
   "source": [
    "#mean"
   ]
  },
  {
   "cell_type": "code",
   "execution_count": 51,
   "id": "1a68dda2-8a9d-4881-b5d3-00618a2fc83b",
   "metadata": {},
   "outputs": [
    {
     "name": "stdout",
     "output_type": "stream",
     "text": [
      "Mean Value 3.0\n"
     ]
    }
   ],
   "source": [
    "print(\"Mean Value\",np.mean(a))"
   ]
  },
  {
   "cell_type": "code",
   "execution_count": 53,
   "id": "39adf39b-770e-437d-95c5-2354bd9dfb7b",
   "metadata": {},
   "outputs": [],
   "source": [
    "#splitting arrays"
   ]
  },
  {
   "cell_type": "code",
   "execution_count": 55,
   "id": "2b50af80-46b5-41bb-9161-7066ec2bb82d",
   "metadata": {},
   "outputs": [],
   "source": [
    "#--equal parts split"
   ]
  },
  {
   "cell_type": "code",
   "execution_count": 57,
   "id": "a263f75d-4dc9-4227-8bab-ef63ecc91432",
   "metadata": {},
   "outputs": [
    {
     "data": {
      "text/plain": [
       "[array([1, 2, 3]), array([4, 5, 6])]"
      ]
     },
     "execution_count": 57,
     "metadata": {},
     "output_type": "execute_result"
    }
   ],
   "source": [
    "aa=np.array([1,2,3,4,5,6])\n",
    "np.split(aa,2)"
   ]
  },
  {
   "cell_type": "code",
   "execution_count": 59,
   "id": "82210bff-354e-4e64-958a-7d795cde5c60",
   "metadata": {},
   "outputs": [
    {
     "data": {
      "text/plain": [
       "[array([1, 2]), array([3, 4]), array([5, 6])]"
      ]
     },
     "execution_count": 59,
     "metadata": {},
     "output_type": "execute_result"
    }
   ],
   "source": [
    "np.split(aa,3)"
   ]
  },
  {
   "cell_type": "code",
   "execution_count": 61,
   "id": "5bda3e1a-964c-4195-bc9e-f7fb09739c00",
   "metadata": {},
   "outputs": [],
   "source": [
    "#--split at specific positions"
   ]
  },
  {
   "cell_type": "code",
   "execution_count": 63,
   "id": "a83cb0c1-e6a7-4828-a4b9-f7b11bdd0842",
   "metadata": {},
   "outputs": [
    {
     "data": {
      "text/plain": [
       "[array([1, 2]), array([3, 4]), array([5, 6])]"
      ]
     },
     "execution_count": 63,
     "metadata": {},
     "output_type": "execute_result"
    }
   ],
   "source": [
    "np.split(aa,[2,4])"
   ]
  },
  {
   "cell_type": "code",
   "execution_count": 65,
   "id": "bd6c5354-f41b-4cb1-a2cf-921b97b6bef7",
   "metadata": {},
   "outputs": [],
   "source": [
    "#matrix"
   ]
  },
  {
   "cell_type": "code",
   "execution_count": 67,
   "id": "529a25f2-8251-415b-bc2d-e2255a8b13fd",
   "metadata": {},
   "outputs": [],
   "source": [
    "mat=np.array([[1,2,3],\n",
    "              [4,5,6]])"
   ]
  },
  {
   "cell_type": "code",
   "execution_count": 69,
   "id": "450f18c4-000a-4c1e-8607-b6dc923728cd",
   "metadata": {},
   "outputs": [
    {
     "data": {
      "text/plain": [
       "[array([[1],\n",
       "        [4]]),\n",
       " array([[2],\n",
       "        [5]]),\n",
       " array([[3],\n",
       "        [6]])]"
      ]
     },
     "execution_count": 69,
     "metadata": {},
     "output_type": "execute_result"
    }
   ],
   "source": [
    "np.split(mat, 3,axis=1)"
   ]
  },
  {
   "cell_type": "code",
   "execution_count": 71,
   "id": "142fd5d9-cb5c-4670-9794-c7a80404717b",
   "metadata": {},
   "outputs": [],
   "source": [
    "matr=np.array([[1,2,3,4],\n",
    "              [5,6,7,8]])"
   ]
  },
  {
   "cell_type": "code",
   "execution_count": 73,
   "id": "256cc637-c1bd-4a21-ba8b-a3db9cafbad6",
   "metadata": {},
   "outputs": [
    {
     "data": {
      "text/plain": [
       "[array([[1, 2, 3, 4]]), array([[5, 6, 7, 8]])]"
      ]
     },
     "execution_count": 73,
     "metadata": {},
     "output_type": "execute_result"
    }
   ],
   "source": [
    "np.split(matr,2,axis=0)"
   ]
  },
  {
   "cell_type": "code",
   "execution_count": 75,
   "id": "a4349537-f4ec-4a0e-9828-70f2c98a70f1",
   "metadata": {},
   "outputs": [
    {
     "data": {
      "text/plain": [
       "array([1, 2, 3, 4])"
      ]
     },
     "execution_count": 75,
     "metadata": {},
     "output_type": "execute_result"
    }
   ],
   "source": [
    "ab=np.array([3,1,2,4])\n",
    "np.sort(ab)"
   ]
  },
  {
   "cell_type": "code",
   "execution_count": 79,
   "id": "6e2b512b-1411-431e-9231-935966befdac",
   "metadata": {},
   "outputs": [],
   "source": [
    "matt=np.array([[3,1,2],\n",
    "               [6,5,4]])"
   ]
  },
  {
   "cell_type": "code",
   "execution_count": 81,
   "id": "46f66d9b-7ee2-47b5-99f4-adf568a7d4f1",
   "metadata": {},
   "outputs": [
    {
     "name": "stdout",
     "output_type": "stream",
     "text": [
      "sorted rows:\n",
      " [[1 2 3]\n",
      " [4 5 6]]\n"
     ]
    }
   ],
   "source": [
    "print(\"sorted rows:\\n\",np.sort(matt,axis=1))"
   ]
  },
  {
   "cell_type": "code",
   "execution_count": 83,
   "id": "7d799382-f8ef-4ae9-a226-60e8ea0459d5",
   "metadata": {},
   "outputs": [
    {
     "name": "stdout",
     "output_type": "stream",
     "text": [
      "sorted columns:\n",
      " [[3 1 2]\n",
      " [6 5 4]]\n"
     ]
    }
   ],
   "source": [
    "print(\"sorted columns:\\n\",np.sort(matt,axis=0))"
   ]
  },
  {
   "cell_type": "code",
   "execution_count": null,
   "id": "bfcd6783-ffac-4751-b5b0-783f577586ac",
   "metadata": {},
   "outputs": [],
   "source": []
  }
 ],
 "metadata": {
  "kernelspec": {
   "display_name": "Python [conda env:base] *",
   "language": "python",
   "name": "conda-base-py"
  },
  "language_info": {
   "codemirror_mode": {
    "name": "ipython",
    "version": 3
   },
   "file_extension": ".py",
   "mimetype": "text/x-python",
   "name": "python",
   "nbconvert_exporter": "python",
   "pygments_lexer": "ipython3",
   "version": "3.12.7"
  }
 },
 "nbformat": 4,
 "nbformat_minor": 5
}
