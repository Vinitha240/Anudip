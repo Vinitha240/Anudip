{
 "cells": [
  {
   "cell_type": "code",
   "execution_count": 29,
   "id": "bca726c1-7d66-43dd-8900-026eb1901d3c",
   "metadata": {},
   "outputs": [],
   "source": [
    "set={1,2,3,4}"
   ]
  },
  {
   "cell_type": "code",
   "execution_count": 31,
   "id": "33a659eb-a67f-44a6-8064-44f52c8693d5",
   "metadata": {},
   "outputs": [],
   "source": [
    "a=set.pop()"
   ]
  },
  {
   "cell_type": "code",
   "execution_count": 33,
   "id": "eef3564e-d027-47f9-a71d-99bab9f71b38",
   "metadata": {},
   "outputs": [
    {
     "data": {
      "text/plain": [
       "1"
      ]
     },
     "execution_count": 33,
     "metadata": {},
     "output_type": "execute_result"
    }
   ],
   "source": [
    "a"
   ]
  },
  {
   "cell_type": "code",
   "execution_count": 35,
   "id": "65285f70-8115-43ef-bbc9-73ac27a7bc49",
   "metadata": {},
   "outputs": [
    {
     "data": {
      "text/plain": [
       "{2, 3, 4}"
      ]
     },
     "execution_count": 35,
     "metadata": {},
     "output_type": "execute_result"
    }
   ],
   "source": [
    "set"
   ]
  },
  {
   "cell_type": "code",
   "execution_count": 37,
   "id": "7da47225-0f5a-4bbd-8432-1f1637643389",
   "metadata": {},
   "outputs": [
    {
     "data": {
      "text/plain": [
       "{2, 3, 4, 7}"
      ]
     },
     "execution_count": 37,
     "metadata": {},
     "output_type": "execute_result"
    }
   ],
   "source": [
    "set.add(7)\n",
    "set"
   ]
  },
  {
   "cell_type": "code",
   "execution_count": 43,
   "id": "323ed41b-3d03-4428-8b75-5825c946a3f7",
   "metadata": {},
   "outputs": [
    {
     "data": {
      "text/plain": [
       "{2, 3, 4, 5, 7, 23, 54}"
      ]
     },
     "execution_count": 43,
     "metadata": {},
     "output_type": "execute_result"
    }
   ],
   "source": [
    "set.update([23,54,5])\n",
    "set"
   ]
  },
  {
   "cell_type": "code",
   "execution_count": 53,
   "id": "9d5b141f-3514-4356-be19-97210f455505",
   "metadata": {},
   "outputs": [
    {
     "data": {
      "text/plain": [
       "{2, 3, 4, 5, 7, 23}"
      ]
     },
     "execution_count": 53,
     "metadata": {},
     "output_type": "execute_result"
    }
   ],
   "source": [
    "set.remove(54)\n",
    "set"
   ]
  },
  {
   "cell_type": "code",
   "execution_count": 61,
   "id": "68572302-fe52-459b-acdc-6cfcf4b2bdc8",
   "metadata": {},
   "outputs": [
    {
     "data": {
      "text/plain": [
       "{2, 3, 4, 5, 23}"
      ]
     },
     "execution_count": 61,
     "metadata": {},
     "output_type": "execute_result"
    }
   ],
   "source": [
    "set.discard(7)\n",
    "set"
   ]
  },
  {
   "cell_type": "code",
   "execution_count": 79,
   "id": "2e6767e5-7030-4a65-aeeb-5066c30a9e5b",
   "metadata": {},
   "outputs": [
    {
     "name": "stdout",
     "output_type": "stream",
     "text": [
      "1\n",
      "2\n",
      "4\n"
     ]
    }
   ],
   "source": [
    "sets={1,2,4}             \n",
    "for item in sets:\n",
    "    print(item)"
   ]
  },
  {
   "cell_type": "code",
   "execution_count": 81,
   "id": "92bf8cd0-b217-4e01-b865-5a70d546bb2a",
   "metadata": {},
   "outputs": [],
   "source": [
    "my_set={1,2,3,'hello',(43,34,65)}"
   ]
  },
  {
   "cell_type": "code",
   "execution_count": 83,
   "id": "600bed10-6afd-46bd-842a-82b39dc22706",
   "metadata": {},
   "outputs": [
    {
     "data": {
      "text/plain": [
       "{(43, 34, 65), 1, 2, 3, 'hello'}"
      ]
     },
     "execution_count": 83,
     "metadata": {},
     "output_type": "execute_result"
    }
   ],
   "source": [
    "my_set"
   ]
  },
  {
   "cell_type": "code",
   "execution_count": 45,
   "id": "9182bbe0-1bee-487c-ace0-cbca603493f9",
   "metadata": {},
   "outputs": [],
   "source": [
    "my_set={1,2,3}\n"
   ]
  },
  {
   "cell_type": "code",
   "execution_count": 47,
   "id": "e5ad207f-9b51-4b4e-8ea6-182cd2116995",
   "metadata": {},
   "outputs": [],
   "source": [
    "my_set.clear()"
   ]
  },
  {
   "cell_type": "code",
   "execution_count": 49,
   "id": "12559f17-d5b7-49c7-aa50-c2f963347541",
   "metadata": {},
   "outputs": [
    {
     "data": {
      "text/plain": [
       "set()"
      ]
     },
     "execution_count": 49,
     "metadata": {},
     "output_type": "execute_result"
    }
   ],
   "source": [
    "my_set"
   ]
  },
  {
   "cell_type": "code",
   "execution_count": 55,
   "id": "6a84c050-19c4-4c2c-9405-679261c2aa23",
   "metadata": {},
   "outputs": [],
   "source": [
    "set1={1,2,3}\n",
    "set2={3,4,5}"
   ]
  },
  {
   "cell_type": "code",
   "execution_count": 57,
   "id": "cb64f4ac-cf8c-4b71-88fd-c96d7e045507",
   "metadata": {},
   "outputs": [
    {
     "data": {
      "text/plain": [
       "{1, 2, 3, 4, 5}"
      ]
     },
     "execution_count": 57,
     "metadata": {},
     "output_type": "execute_result"
    }
   ],
   "source": [
    "set1.union(set2)"
   ]
  },
  {
   "cell_type": "code",
   "execution_count": 69,
   "id": "eef3ceab-d49f-40e6-9806-8a2c58b3e5ef",
   "metadata": {},
   "outputs": [],
   "source": [
    "set3={4,5,6,7}\n",
    "set4={7,6,8,9}"
   ]
  },
  {
   "cell_type": "code",
   "execution_count": 71,
   "id": "146c1435-5167-476a-a1a0-982c96b7eff3",
   "metadata": {},
   "outputs": [
    {
     "data": {
      "text/plain": [
       "{6, 7}"
      ]
     },
     "execution_count": 71,
     "metadata": {},
     "output_type": "execute_result"
    }
   ],
   "source": [
    "set3.intersection(set4)"
   ]
  },
  {
   "cell_type": "code",
   "execution_count": 73,
   "id": "a74f945c-5e25-4e28-a750-22db0a8051d7",
   "metadata": {},
   "outputs": [
    {
     "data": {
      "text/plain": [
       "{4, 5}"
      ]
     },
     "execution_count": 73,
     "metadata": {},
     "output_type": "execute_result"
    }
   ],
   "source": [
    "set3.difference(set4)"
   ]
  },
  {
   "cell_type": "code",
   "execution_count": 85,
   "id": "5178c305-8cda-4ae6-a3c5-a9717ea46dc0",
   "metadata": {},
   "outputs": [
    {
     "data": {
      "text/plain": [
       "{4, 5, 8, 9}"
      ]
     },
     "execution_count": 85,
     "metadata": {},
     "output_type": "execute_result"
    }
   ],
   "source": [
    "set3.symmetric_difference(set4)"
   ]
  },
  {
   "cell_type": "code",
   "execution_count": 91,
   "id": "ba9e0a13-4efd-49a2-bfb5-93367ca1f0aa",
   "metadata": {},
   "outputs": [],
   "source": [
    "myset1={1,2,3}\n",
    "myset2={2,3}"
   ]
  },
  {
   "cell_type": "code",
   "execution_count": 93,
   "id": "532d7905-9e49-4156-8a5d-36c79845b786",
   "metadata": {},
   "outputs": [
    {
     "data": {
      "text/plain": [
       "False"
      ]
     },
     "execution_count": 93,
     "metadata": {},
     "output_type": "execute_result"
    }
   ],
   "source": [
    "myset1.issubset(myset2)"
   ]
  },
  {
   "cell_type": "code",
   "execution_count": 95,
   "id": "2f21f42a-88ee-4499-a5a0-c4bf55542070",
   "metadata": {},
   "outputs": [
    {
     "data": {
      "text/plain": [
       "True"
      ]
     },
     "execution_count": 95,
     "metadata": {},
     "output_type": "execute_result"
    }
   ],
   "source": [
    "myset2.issubset(myset1)"
   ]
  },
  {
   "cell_type": "code",
   "execution_count": 97,
   "id": "de030bb1-8b7d-4e1c-8679-b86e6f326d76",
   "metadata": {},
   "outputs": [
    {
     "data": {
      "text/plain": [
       "True"
      ]
     },
     "execution_count": 97,
     "metadata": {},
     "output_type": "execute_result"
    }
   ],
   "source": [
    "myset1.issuperset(myset2)"
   ]
  },
  {
   "cell_type": "code",
   "execution_count": 101,
   "id": "afa8ea4c-a76f-491f-8576-62d8e37fc3a0",
   "metadata": {},
   "outputs": [
    {
     "data": {
      "text/plain": [
       "False"
      ]
     },
     "execution_count": 101,
     "metadata": {},
     "output_type": "execute_result"
    }
   ],
   "source": [
    "myset2.issuperset(myset1)"
   ]
  },
  {
   "cell_type": "code",
   "execution_count": 111,
   "id": "ef6dc1ad-e02c-464b-ac74-c04021739602",
   "metadata": {},
   "outputs": [],
   "source": [
    "s1={1,2,3}\n",
    "s2={4,9,6}\n"
   ]
  },
  {
   "cell_type": "code",
   "execution_count": 113,
   "id": "1e7a4d75-e4f0-42fb-ad73-b910259a15b2",
   "metadata": {},
   "outputs": [
    {
     "data": {
      "text/plain": [
       "True"
      ]
     },
     "execution_count": 113,
     "metadata": {},
     "output_type": "execute_result"
    }
   ],
   "source": [
    "s1.isdisjoint(s2)"
   ]
  },
  {
   "cell_type": "code",
   "execution_count": 115,
   "id": "eea902c7-ecec-4e96-a8a8-5ecc733f1a18",
   "metadata": {},
   "outputs": [],
   "source": [
    "set_copy=s1.copy()"
   ]
  },
  {
   "cell_type": "code",
   "execution_count": 117,
   "id": "2dc6a1e7-1283-4fd7-8df3-032b7f68274e",
   "metadata": {},
   "outputs": [
    {
     "data": {
      "text/plain": [
       "{1, 2, 3}"
      ]
     },
     "execution_count": 117,
     "metadata": {},
     "output_type": "execute_result"
    }
   ],
   "source": [
    "set_copy"
   ]
  },
  {
   "cell_type": "code",
   "execution_count": 121,
   "id": "0ac2c953-b8dc-45f1-a5f2-42fabce7b4d7",
   "metadata": {},
   "outputs": [
    {
     "data": {
      "text/plain": [
       "{2, 3, 4, 5, 23}"
      ]
     },
     "execution_count": 121,
     "metadata": {},
     "output_type": "execute_result"
    }
   ],
   "source": [
    "set"
   ]
  },
  {
   "cell_type": "code",
   "execution_count": 125,
   "id": "cd41c1ce-50bd-4721-877d-e3caae48d7ff",
   "metadata": {},
   "outputs": [],
   "source": [
    "set.add(1)"
   ]
  },
  {
   "cell_type": "code",
   "execution_count": 127,
   "id": "ea4f8803-a1d9-4312-88e0-e5188bcbdfac",
   "metadata": {},
   "outputs": [
    {
     "data": {
      "text/plain": [
       "{1, 2, 3, 4, 5, 23}"
      ]
     },
     "execution_count": 127,
     "metadata": {},
     "output_type": "execute_result"
    }
   ],
   "source": [
    "set"
   ]
  },
  {
   "cell_type": "code",
   "execution_count": 131,
   "id": "ca615ecd-30bc-4b84-8e5e-c8dde53dcb38",
   "metadata": {},
   "outputs": [],
   "source": [
    "a= frozenset(set)"
   ]
  },
  {
   "cell_type": "code",
   "execution_count": 133,
   "id": "3111aba3-dfe8-482f-9261-bc3cc8f388ff",
   "metadata": {},
   "outputs": [
    {
     "data": {
      "text/plain": [
       "frozenset({1, 2, 3, 4, 5, 23})"
      ]
     },
     "execution_count": 133,
     "metadata": {},
     "output_type": "execute_result"
    }
   ],
   "source": [
    "a"
   ]
  },
  {
   "cell_type": "code",
   "execution_count": 139,
   "id": "1199b1f7-b0d9-40b5-b272-9f37b2893669",
   "metadata": {},
   "outputs": [
    {
     "ename": "AttributeError",
     "evalue": "'frozenset' object has no attribute 'add'",
     "output_type": "error",
     "traceback": [
      "\u001b[1;31m---------------------------------------------------------------------------\u001b[0m",
      "\u001b[1;31mAttributeError\u001b[0m                            Traceback (most recent call last)",
      "Cell \u001b[1;32mIn[139], line 1\u001b[0m\n\u001b[1;32m----> 1\u001b[0m a\u001b[38;5;241m.\u001b[39madd(\u001b[38;5;241m3\u001b[39m)\n",
      "\u001b[1;31mAttributeError\u001b[0m: 'frozenset' object has no attribute 'add'"
     ]
    }
   ],
   "source": [
    "a.add(3)"
   ]
  },
  {
   "cell_type": "code",
   "execution_count": 147,
   "id": "3290b64f-5b2b-4736-9f50-17851f6dffc4",
   "metadata": {},
   "outputs": [
    {
     "data": {
      "text/plain": [
       "5"
      ]
     },
     "execution_count": 147,
     "metadata": {},
     "output_type": "execute_result"
    }
   ],
   "source": [
    "len(set)"
   ]
  },
  {
   "cell_type": "code",
   "execution_count": 149,
   "id": "51b1bed8-791a-4956-8195-b7673df2bcee",
   "metadata": {},
   "outputs": [
    {
     "data": {
      "text/plain": [
       "23"
      ]
     },
     "execution_count": 149,
     "metadata": {},
     "output_type": "execute_result"
    }
   ],
   "source": [
    "max(set)"
   ]
  },
  {
   "cell_type": "code",
   "execution_count": 151,
   "id": "610be055-32c4-4c2c-8a40-52fa0ca4c992",
   "metadata": {},
   "outputs": [
    {
     "data": {
      "text/plain": [
       "1"
      ]
     },
     "execution_count": 151,
     "metadata": {},
     "output_type": "execute_result"
    }
   ],
   "source": [
    "min(set)"
   ]
  },
  {
   "cell_type": "code",
   "execution_count": 153,
   "id": "623ca36b-1d9d-463d-a3f6-52d42e933080",
   "metadata": {},
   "outputs": [
    {
     "data": {
      "text/plain": [
       "35"
      ]
     },
     "execution_count": 153,
     "metadata": {},
     "output_type": "execute_result"
    }
   ],
   "source": [
    "sum(set)"
   ]
  },
  {
   "cell_type": "code",
   "execution_count": 155,
   "id": "32f31364-87ee-4c76-99f4-b0af8e053534",
   "metadata": {},
   "outputs": [],
   "source": [
    "a=(20,34,12,56)"
   ]
  },
  {
   "cell_type": "code",
   "execution_count": 157,
   "id": "c3b13f80-b2a4-4af3-a6a2-9e4e67cb4bf9",
   "metadata": {},
   "outputs": [
    {
     "data": {
      "text/plain": [
       "[12, 20, 34, 56]"
      ]
     },
     "execution_count": 157,
     "metadata": {},
     "output_type": "execute_result"
    }
   ],
   "source": [
    "sorted(a)"
   ]
  },
  {
   "cell_type": "code",
   "execution_count": 161,
   "id": "c8c4e2fc-8ebc-4a42-a1d9-36940baef1da",
   "metadata": {},
   "outputs": [
    {
     "data": {
      "text/plain": [
       "[1, 2, 3, 5]"
      ]
     },
     "execution_count": 161,
     "metadata": {},
     "output_type": "execute_result"
    }
   ],
   "source": [
    "my_set={3,5,2,1}\n",
    "a = sorted(my_set)\n",
    "a"
   ]
  },
  {
   "cell_type": "code",
   "execution_count": 163,
   "id": "352446ba-4298-44ba-9fcd-e27b42537f7e",
   "metadata": {},
   "outputs": [
    {
     "data": {
      "text/plain": [
       "list"
      ]
     },
     "execution_count": 163,
     "metadata": {},
     "output_type": "execute_result"
    }
   ],
   "source": [
    "type(a)"
   ]
  },
  {
   "cell_type": "code",
   "execution_count": 165,
   "id": "92d55435-bacd-43f9-9223-20b0dc588684",
   "metadata": {},
   "outputs": [
    {
     "data": {
      "text/plain": [
       "set"
      ]
     },
     "execution_count": 165,
     "metadata": {},
     "output_type": "execute_result"
    }
   ],
   "source": [
    "type(my_set)"
   ]
  },
  {
   "cell_type": "code",
   "execution_count": 167,
   "id": "69f7d99e-7217-4e3f-8a63-d9915b023f0d",
   "metadata": {},
   "outputs": [
    {
     "data": {
      "text/plain": [
       "True"
      ]
     },
     "execution_count": 167,
     "metadata": {},
     "output_type": "execute_result"
    }
   ],
   "source": [
    "s={0,3,'hi',(5)}\n",
    "any(set)"
   ]
  },
  {
   "cell_type": "code",
   "execution_count": 169,
   "id": "ed64249d-0ea0-4513-a1f1-6e3dbcf5b901",
   "metadata": {},
   "outputs": [
    {
     "data": {
      "text/plain": [
       "True"
      ]
     },
     "execution_count": 169,
     "metadata": {},
     "output_type": "execute_result"
    }
   ],
   "source": [
    "all(set)"
   ]
  },
  {
   "cell_type": "code",
   "execution_count": 197,
   "id": "191ab3c5-e34f-4dd6-a9e2-ea323b141efb",
   "metadata": {},
   "outputs": [],
   "source": [
    "my_list=[1,2,3,2,4,5,3]"
   ]
  },
  {
   "cell_type": "code",
   "execution_count": 227,
   "id": "4e6a4346-5a09-4986-b26e-385d519f823b",
   "metadata": {},
   "outputs": [
    {
     "ename": "TypeError",
     "evalue": "'set' object is not callable",
     "output_type": "error",
     "traceback": [
      "\u001b[1;31m---------------------------------------------------------------------------\u001b[0m",
      "\u001b[1;31mTypeError\u001b[0m                                 Traceback (most recent call last)",
      "Cell \u001b[1;32mIn[227], line 1\u001b[0m\n\u001b[1;32m----> 1\u001b[0m my_set\u001b[38;5;241m=\u001b[39m\u001b[38;5;28mset\u001b[39m(my_list)\n",
      "\u001b[1;31mTypeError\u001b[0m: 'set' object is not callable"
     ]
    }
   ],
   "source": [
    "my_set=set(my_list)"
   ]
  },
  {
   "cell_type": "code",
   "execution_count": 189,
   "id": "f4077ec2-fa48-47b9-bde8-a81576cd0116",
   "metadata": {},
   "outputs": [
    {
     "data": {
      "text/plain": [
       "[1, 2, 3, 2, 4, 5, 3]"
      ]
     },
     "execution_count": 189,
     "metadata": {},
     "output_type": "execute_result"
    }
   ],
   "source": [
    "my_set"
   ]
  },
  {
   "cell_type": "code",
   "execution_count": 203,
   "id": "e1c6345c-3e3b-46e3-8c55-342b4d787edd",
   "metadata": {},
   "outputs": [],
   "source": [
    "number = [1,2,3,4,5]"
   ]
  },
  {
   "cell_type": "code",
   "execution_count": 205,
   "id": "e10af614-7d2c-45c7-9e17-9945c3e094b7",
   "metadata": {},
   "outputs": [],
   "source": [
    "squares_set ={x**2 for x in number}"
   ]
  },
  {
   "cell_type": "code",
   "execution_count": 207,
   "id": "ea4c1e31-7d15-4aff-bab7-bfd67cf7fb48",
   "metadata": {},
   "outputs": [
    {
     "name": "stdout",
     "output_type": "stream",
     "text": [
      "{1, 4, 9, 16, 25}\n"
     ]
    }
   ],
   "source": [
    "print(squares_set)"
   ]
  },
  {
   "cell_type": "code",
   "execution_count": 209,
   "id": "61cf6865-96ce-459c-9ef0-a5e6e6833e1f",
   "metadata": {},
   "outputs": [],
   "source": [
    "no=[1,2,3,4,5]\n"
   ]
  },
  {
   "cell_type": "code",
   "execution_count": 211,
   "id": "e17f3688-3b99-44d8-8873-38cedb4379dc",
   "metadata": {},
   "outputs": [],
   "source": [
    "even_squares_set={x**2 for x in no if x%2==0}"
   ]
  },
  {
   "cell_type": "code",
   "execution_count": 213,
   "id": "d276a9c9-54ae-4db4-8114-fd8b1090d2c5",
   "metadata": {},
   "outputs": [
    {
     "name": "stdout",
     "output_type": "stream",
     "text": [
      "{16, 4}\n"
     ]
    }
   ],
   "source": [
    "print(even_squares_set)"
   ]
  },
  {
   "cell_type": "code",
   "execution_count": null,
   "id": "e567d27c-fcf7-4b0f-87dc-a4fdccdf09d3",
   "metadata": {},
   "outputs": [],
   "source": []
  }
 ],
 "metadata": {
  "kernelspec": {
   "display_name": "Python [conda env:base] *",
   "language": "python",
   "name": "conda-base-py"
  },
  "language_info": {
   "codemirror_mode": {
    "name": "ipython",
    "version": 3
   },
   "file_extension": ".py",
   "mimetype": "text/x-python",
   "name": "python",
   "nbconvert_exporter": "python",
   "pygments_lexer": "ipython3",
   "version": "3.12.7"
  }
 },
 "nbformat": 4,
 "nbformat_minor": 5
}
