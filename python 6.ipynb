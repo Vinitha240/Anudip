{
 "cells": [
  {
   "cell_type": "code",
   "execution_count": 1,
   "id": "69a3541a-ea28-40b5-8d85-e2090f7923ce",
   "metadata": {},
   "outputs": [],
   "source": [
    "#loops operations on strings in python"
   ]
  },
  {
   "cell_type": "code",
   "execution_count": 3,
   "id": "b2d02e25-9836-4b43-8418-f29777e02bf3",
   "metadata": {},
   "outputs": [],
   "source": [
    "#for loop"
   ]
  },
  {
   "cell_type": "code",
   "execution_count": 5,
   "id": "8430bc1f-d3ce-4795-bbe1-80a3f17a00f2",
   "metadata": {},
   "outputs": [
    {
     "name": "stdout",
     "output_type": "stream",
     "text": [
      "p\n",
      "y\n",
      "t\n",
      "h\n",
      "o\n",
      "n\n"
     ]
    }
   ],
   "source": [
    "text = 'python'\n",
    "for char in text:\n",
    "    print(char)"
   ]
  },
  {
   "cell_type": "code",
   "execution_count": 7,
   "id": "8d093b53-7fd6-421b-826d-8efe1c6a74ce",
   "metadata": {},
   "outputs": [
    {
     "name": "stdout",
     "output_type": "stream",
     "text": [
      "number of vowels 3\n"
     ]
    }
   ],
   "source": [
    "text='programming'\n",
    "vowels='aeiou'\n",
    "count=0\n",
    "for char in text:\n",
    "    if char in vowels:\n",
    "        count +=1\n",
    "print('number of vowels',count)        "
   ]
  },
  {
   "cell_type": "code",
   "execution_count": 25,
   "id": "8107fea3-9a47-4db8-a8df-9c4979b72970",
   "metadata": {},
   "outputs": [],
   "source": [
    "#membership operator--in operator(returns true if substring is found else false)"
   ]
  },
  {
   "cell_type": "code",
   "execution_count": 27,
   "id": "9d5dc39a-cbda-4518-8ba8-1425f24f898f",
   "metadata": {},
   "outputs": [
    {
     "data": {
      "text/plain": [
       "True"
      ]
     },
     "execution_count": 27,
     "metadata": {},
     "output_type": "execute_result"
    }
   ],
   "source": [
    "text='hello world'\n",
    "'h' in text"
   ]
  },
  {
   "cell_type": "code",
   "execution_count": 31,
   "id": "d60326a4-c451-4445-9728-3c628db9f78d",
   "metadata": {},
   "outputs": [
    {
     "data": {
      "text/plain": [
       "True"
      ]
     },
     "execution_count": 31,
     "metadata": {},
     "output_type": "execute_result"
    }
   ],
   "source": [
    "'d' in text"
   ]
  },
  {
   "cell_type": "code",
   "execution_count": null,
   "id": "f1a546b7-b3d1-4b01-b566-c9c01a1cd1aa",
   "metadata": {},
   "outputs": [],
   "source": [
    "#--not in operator"
   ]
  },
  {
   "cell_type": "code",
   "execution_count": 33,
   "id": "23777d15-eb91-40a0-bf91-86e664a8f156",
   "metadata": {},
   "outputs": [
    {
     "data": {
      "text/plain": [
       "True"
      ]
     },
     "execution_count": 33,
     "metadata": {},
     "output_type": "execute_result"
    }
   ],
   "source": [
    "'n' not in text"
   ]
  },
  {
   "cell_type": "code",
   "execution_count": 35,
   "id": "661fb02c-a92f-453a-8f61-cb890f693190",
   "metadata": {},
   "outputs": [
    {
     "data": {
      "text/plain": [
       "True"
      ]
     },
     "execution_count": 35,
     "metadata": {},
     "output_type": "execute_result"
    }
   ],
   "source": [
    "'pys' not in text"
   ]
  },
  {
   "cell_type": "code",
   "execution_count": 37,
   "id": "a00e7a2a-8f93-4b62-8bfc-5079735136cd",
   "metadata": {},
   "outputs": [
    {
     "data": {
      "text/plain": [
       "False"
      ]
     },
     "execution_count": 37,
     "metadata": {},
     "output_type": "execute_result"
    }
   ],
   "source": [
    "'world' not in text"
   ]
  },
  {
   "cell_type": "code",
   "execution_count": 39,
   "id": "80ab050a-0fd7-4223-8aed-6e4a230890b2",
   "metadata": {},
   "outputs": [
    {
     "data": {
      "text/plain": [
       "False"
      ]
     },
     "execution_count": 39,
     "metadata": {},
     "output_type": "execute_result"
    }
   ],
   "source": [
    "text='python programming'\n",
    "'python' not in text\n"
   ]
  },
  {
   "cell_type": "code",
   "execution_count": 43,
   "id": "3e741b3e-8226-4fd9-8d45-5943340a8b55",
   "metadata": {},
   "outputs": [
    {
     "data": {
      "text/plain": [
       "True"
      ]
     },
     "execution_count": 43,
     "metadata": {},
     "output_type": "execute_result"
    }
   ],
   "source": [
    "my_string='ordered'\n",
    "'re' in my_string"
   ]
  },
  {
   "cell_type": "code",
   "execution_count": 45,
   "id": "63e49657-bffd-4989-9900-c16b2ca89784",
   "metadata": {},
   "outputs": [
    {
     "data": {
      "text/plain": [
       "False"
      ]
     },
     "execution_count": 45,
     "metadata": {},
     "output_type": "execute_result"
    }
   ],
   "source": [
    "a='collection'\n",
    "'ion' not in a"
   ]
  },
  {
   "cell_type": "code",
   "execution_count": 47,
   "id": "ca5c7a38-ae7f-4b65-bce8-216600c460c7",
   "metadata": {},
   "outputs": [
    {
     "data": {
      "text/plain": [
       "True"
      ]
     },
     "execution_count": 47,
     "metadata": {},
     "output_type": "execute_result"
    }
   ],
   "source": [
    "b='duplicate'\n",
    "'te' in b"
   ]
  },
  {
   "cell_type": "code",
   "execution_count": 49,
   "id": "4212bafa-d508-4a84-ac17-a48be2edafcb",
   "metadata": {},
   "outputs": [
    {
     "data": {
      "text/plain": [
       "True"
      ]
     },
     "execution_count": 49,
     "metadata": {},
     "output_type": "execute_result"
    }
   ],
   "source": [
    "'ordered'in my_string"
   ]
  },
  {
   "cell_type": "code",
   "execution_count": 51,
   "id": "a861da92-567a-4c97-8e60-13ed37a248a5",
   "metadata": {},
   "outputs": [
    {
     "data": {
      "text/plain": [
       "True"
      ]
     },
     "execution_count": 51,
     "metadata": {},
     "output_type": "execute_result"
    }
   ],
   "source": [
    "'collection'in a"
   ]
  },
  {
   "cell_type": "code",
   "execution_count": 53,
   "id": "eb2242dc-23f6-4939-859d-554ffad8f7cb",
   "metadata": {},
   "outputs": [
    {
     "data": {
      "text/plain": [
       "True"
      ]
     },
     "execution_count": 53,
     "metadata": {},
     "output_type": "execute_result"
    }
   ],
   "source": [
    "'duplicate' in b"
   ]
  },
  {
   "cell_type": "code",
   "execution_count": 55,
   "id": "abcc1c1c-e20e-4e49-81f1-1d3c45633d84",
   "metadata": {},
   "outputs": [],
   "source": [
    "text='vinitha'"
   ]
  },
  {
   "cell_type": "code",
   "execution_count": 65,
   "id": "4460d8b5-4efa-43e7-8b2d-2f23f629a9f6",
   "metadata": {},
   "outputs": [
    {
     "data": {
      "text/plain": [
       "'VINITHA'"
      ]
     },
     "execution_count": 65,
     "metadata": {},
     "output_type": "execute_result"
    }
   ],
   "source": [
    "text.upper()"
   ]
  },
  {
   "cell_type": "code",
   "execution_count": 73,
   "id": "0c090261-f5b6-4623-94be-43d6926c892f",
   "metadata": {},
   "outputs": [
    {
     "data": {
      "text/plain": [
       "'Hello World'"
      ]
     },
     "execution_count": 73,
     "metadata": {},
     "output_type": "execute_result"
    }
   ],
   "source": [
    "text='hello world'\n",
    "text.title()"
   ]
  },
  {
   "cell_type": "code",
   "execution_count": 77,
   "id": "c231c56a-77a5-47bf-8f14-c1d6b8665e36",
   "metadata": {},
   "outputs": [
    {
     "data": {
      "text/plain": [
       "'good evening'"
      ]
     },
     "execution_count": 77,
     "metadata": {},
     "output_type": "execute_result"
    }
   ],
   "source": [
    "data='    good evening   '\n",
    "data.strip()"
   ]
  },
  {
   "cell_type": "code",
   "execution_count": 79,
   "id": "94ae63f8-80e0-40dd-96f8-c8f768c1449d",
   "metadata": {},
   "outputs": [
    {
     "data": {
      "text/plain": [
       "'hello world'"
      ]
     },
     "execution_count": 79,
     "metadata": {},
     "output_type": "execute_result"
    }
   ],
   "source": [
    "text='hello python'\n",
    "text.replace('python','world')"
   ]
  },
  {
   "cell_type": "code",
   "execution_count": 95,
   "id": "bff10f5f-8a57-4f71-879e-4fc4ca2b1ad1",
   "metadata": {},
   "outputs": [
    {
     "data": {
      "text/plain": [
       "'HELLO PYTHON'"
      ]
     },
     "execution_count": 95,
     "metadata": {},
     "output_type": "execute_result"
    }
   ],
   "source": [
    "nxt='hello python'\n",
    "nxt.upper()"
   ]
  },
  {
   "cell_type": "code",
   "execution_count": 97,
   "id": "b5a1df35-c0fd-4a99-8112-adeccfcf164c",
   "metadata": {},
   "outputs": [
    {
     "data": {
      "text/plain": [
       "['hello,', 'this', 'is', 'the', 'python', 'coding', 'class']"
      ]
     },
     "execution_count": 97,
     "metadata": {},
     "output_type": "execute_result"
    }
   ],
   "source": [
    "text=\"hello, this is the python coding class\"\n",
    "text.split(\" \")\n"
   ]
  },
  {
   "cell_type": "code",
   "execution_count": 101,
   "id": "ee0bed9c-2a97-443b-b10a-ffae3bd6f6c9",
   "metadata": {},
   "outputs": [
    {
     "data": {
      "text/plain": [
       "['hello, ', ' is the python coding class']"
      ]
     },
     "execution_count": 101,
     "metadata": {},
     "output_type": "execute_result"
    }
   ],
   "source": [
    "text=\"hello, this is the python coding class\"\n",
    "text.split(\"this\")"
   ]
  },
  {
   "cell_type": "code",
   "execution_count": 115,
   "id": "db046903-23a2-4c2f-b5ac-20bb314224ba",
   "metadata": {},
   "outputs": [],
   "source": [
    "words=[\"hello\" ,\"world\",\"good\",\"evening\"]\n",
    "joined_text=' '.join(words)"
   ]
  },
  {
   "cell_type": "code",
   "execution_count": 117,
   "id": "ef9a1ba2-8498-48d2-a81c-df86ca4c3d6d",
   "metadata": {},
   "outputs": [
    {
     "data": {
      "text/plain": [
       "['hello', 'world', 'good', 'evening']"
      ]
     },
     "execution_count": 117,
     "metadata": {},
     "output_type": "execute_result"
    }
   ],
   "source": [
    "words"
   ]
  },
  {
   "cell_type": "code",
   "execution_count": 119,
   "id": "13c430f6-6722-444f-9298-6cc8cfc50629",
   "metadata": {},
   "outputs": [
    {
     "data": {
      "text/plain": [
       "'hello world good evening'"
      ]
     },
     "execution_count": 119,
     "metadata": {},
     "output_type": "execute_result"
    }
   ],
   "source": [
    "joined_text"
   ]
  },
  {
   "cell_type": "code",
   "execution_count": 129,
   "id": "c2d56faa-1393-4b3f-8c20-e54f7b6a3ce1",
   "metadata": {},
   "outputs": [],
   "source": [
    "text='hello,world'\n",
    "index=text.find('world')"
   ]
  },
  {
   "cell_type": "code",
   "execution_count": 131,
   "id": "8baef4ce-da1c-4b73-82fe-b6eb046bf6cd",
   "metadata": {},
   "outputs": [
    {
     "data": {
      "text/plain": [
       "6"
      ]
     },
     "execution_count": 131,
     "metadata": {},
     "output_type": "execute_result"
    }
   ],
   "source": [
    "index"
   ]
  },
  {
   "cell_type": "code",
   "execution_count": 141,
   "id": "84819e1b-895b-42b8-b9b9-b5a57518ec63",
   "metadata": {},
   "outputs": [],
   "source": [
    "text='hello, hello, world'\n",
    "count=text.count('l')"
   ]
  },
  {
   "cell_type": "code",
   "execution_count": 143,
   "id": "dc8b9d38-8583-4502-8600-8cb151d8e659",
   "metadata": {},
   "outputs": [
    {
     "data": {
      "text/plain": [
       "5"
      ]
     },
     "execution_count": 143,
     "metadata": {},
     "output_type": "execute_result"
    }
   ],
   "source": [
    "count"
   ]
  },
  {
   "cell_type": "code",
   "execution_count": 157,
   "id": "6c4623c8-4b1b-487b-a1cb-17194f8cff0d",
   "metadata": {},
   "outputs": [
    {
     "data": {
      "text/plain": [
       "False"
      ]
     },
     "execution_count": 157,
     "metadata": {},
     "output_type": "execute_result"
    }
   ],
   "source": [
    "text='programming python.'\n",
    "text.startswith('python')"
   ]
  },
  {
   "cell_type": "code",
   "execution_count": 159,
   "id": "bca5b377-3164-4907-943b-62af713467ab",
   "metadata": {},
   "outputs": [
    {
     "data": {
      "text/plain": [
       "True"
      ]
     },
     "execution_count": 159,
     "metadata": {},
     "output_type": "execute_result"
    }
   ],
   "source": [
    "text.startswith('programming')"
   ]
  },
  {
   "cell_type": "code",
   "execution_count": 161,
   "id": "616d8a7a-ba06-4f5a-ad7a-087b4ce62c09",
   "metadata": {},
   "outputs": [
    {
     "data": {
      "text/plain": [
       "True"
      ]
     },
     "execution_count": 161,
     "metadata": {},
     "output_type": "execute_result"
    }
   ],
   "source": [
    "text.endswith('.')"
   ]
  },
  {
   "cell_type": "code",
   "execution_count": 155,
   "id": "884c2e11-213f-42d2-97fe-020c25ee95b2",
   "metadata": {},
   "outputs": [
    {
     "data": {
      "text/plain": [
       "False"
      ]
     },
     "execution_count": 155,
     "metadata": {},
     "output_type": "execute_result"
    }
   ],
   "source": [
    "text.endswith('no')\n"
   ]
  },
  {
   "cell_type": "code",
   "execution_count": 165,
   "id": "b68751ca-57a5-41b2-99c2-02a0a9e0330e",
   "metadata": {},
   "outputs": [
    {
     "data": {
      "text/plain": [
       "True"
      ]
     },
     "execution_count": 165,
     "metadata": {},
     "output_type": "execute_result"
    }
   ],
   "source": [
    "number='12345'\n",
    "number.isdigit()"
   ]
  },
  {
   "cell_type": "code",
   "execution_count": 169,
   "id": "8c840a58-d2d7-4952-99bf-d3dea9bca7c2",
   "metadata": {},
   "outputs": [
    {
     "data": {
      "text/plain": [
       "True"
      ]
     },
     "execution_count": 169,
     "metadata": {},
     "output_type": "execute_result"
    }
   ],
   "source": [
    "text='today'\n",
    "text.isalpha()"
   ]
  },
  {
   "cell_type": "code",
   "execution_count": 177,
   "id": "dea96d16-83cd-4c72-a56c-acc677ee3312",
   "metadata": {},
   "outputs": [
    {
     "data": {
      "text/plain": [
       "True"
      ]
     },
     "execution_count": 177,
     "metadata": {},
     "output_type": "execute_result"
    }
   ],
   "source": [
    "text='hello'\n",
    "text.islower()"
   ]
  },
  {
   "cell_type": "code",
   "execution_count": 183,
   "id": "2f0106da-39a7-406c-a510-070f00bba644",
   "metadata": {},
   "outputs": [
    {
     "data": {
      "text/plain": [
       "True"
      ]
     },
     "execution_count": 183,
     "metadata": {},
     "output_type": "execute_result"
    }
   ],
   "source": [
    "text='HELLO'\n",
    "text.isupper()"
   ]
  },
  {
   "cell_type": "code",
   "execution_count": 185,
   "id": "d7d9a1f0-d8b0-49b6-a978-cc21905af66d",
   "metadata": {},
   "outputs": [
    {
     "data": {
      "text/plain": [
       "'00043'"
      ]
     },
     "execution_count": 185,
     "metadata": {},
     "output_type": "execute_result"
    }
   ],
   "source": [
    "text='43'\n",
    "padded_text=text.zfill(5)\n",
    "padded_text"
   ]
  },
  {
   "cell_type": "code",
   "execution_count": 189,
   "id": "c59527b1-2ca9-40c9-b13e-14322d313d03",
   "metadata": {},
   "outputs": [
    {
     "data": {
      "text/plain": [
       "18"
      ]
     },
     "execution_count": 189,
     "metadata": {},
     "output_type": "execute_result"
    }
   ],
   "source": [
    "text='hello,hello,hello world'\n",
    "index=text.rfind('world')\n",
    "index"
   ]
  },
  {
   "cell_type": "code",
   "execution_count": 191,
   "id": "20f3fc3e-1e76-498a-aa26-4f4319c71674",
   "metadata": {},
   "outputs": [],
   "source": [
    "#commom functions"
   ]
  },
  {
   "cell_type": "code",
   "execution_count": 245,
   "id": "ce911efe-0138-4c1c-ba7d-fc2b31505a78",
   "metadata": {},
   "outputs": [
    {
     "data": {
      "text/plain": [
       "'apple'"
      ]
     },
     "execution_count": 245,
     "metadata": {},
     "output_type": "execute_result"
    }
   ],
   "source": [
    "words=['apple','banana','cherry']\n",
    "smallest_word=min(words)\n",
    "smallest_word"
   ]
  },
  {
   "cell_type": "code",
   "execution_count": 203,
   "id": "c940f294-3e0b-4452-b65c-32e5ac707fb9",
   "metadata": {},
   "outputs": [
    {
     "data": {
      "text/plain": [
       "'cherry'"
      ]
     },
     "execution_count": 203,
     "metadata": {},
     "output_type": "execute_result"
    }
   ],
   "source": [
    "words=['apple','banana','cherry']\n",
    "largest_word=max(words)\n",
    "largest_word"
   ]
  },
  {
   "cell_type": "code",
   "execution_count": 205,
   "id": "14f69dbe-a5fa-4dd5-919c-84fbe14c3b23",
   "metadata": {},
   "outputs": [
    {
     "data": {
      "text/plain": [
       "11"
      ]
     },
     "execution_count": 205,
     "metadata": {},
     "output_type": "execute_result"
    }
   ],
   "source": [
    "text='hello world'\n",
    "length=len(text)\n",
    "length"
   ]
  },
  {
   "cell_type": "code",
   "execution_count": 211,
   "id": "5feae909-f8d2-49b9-a326-928ee7f1b0f8",
   "metadata": {},
   "outputs": [
    {
     "data": {
      "text/plain": [
       "13"
      ]
     },
     "execution_count": 211,
     "metadata": {},
     "output_type": "execute_result"
    }
   ],
   "source": [
    "text='  programming'\n",
    "len(text)"
   ]
  },
  {
   "cell_type": "code",
   "execution_count": 213,
   "id": "d03e6cda-fd26-4d3c-8bf2-79026c598917",
   "metadata": {},
   "outputs": [
    {
     "data": {
      "text/plain": [
       "['a', 'a', 'a', 'b', 'n', 'n']"
      ]
     },
     "execution_count": 213,
     "metadata": {},
     "output_type": "execute_result"
    }
   ],
   "source": [
    "text='banana'\n",
    "sorted(text)"
   ]
  },
  {
   "cell_type": "code",
   "execution_count": 221,
   "id": "ccb9ac18-35b8-4f10-b1a4-657df84c85ca",
   "metadata": {},
   "outputs": [
    {
     "data": {
      "text/plain": [
       "'dlrow olleh'"
      ]
     },
     "execution_count": 221,
     "metadata": {},
     "output_type": "execute_result"
    }
   ],
   "source": [
    "text='hello world'\n",
    "''.join(reversed(text))"
   ]
  },
  {
   "cell_type": "code",
   "execution_count": 229,
   "id": "6886c5c6-fad8-44d7-8a3f-5ef74a154cb1",
   "metadata": {},
   "outputs": [
    {
     "data": {
      "text/plain": [
       "10"
      ]
     },
     "execution_count": 229,
     "metadata": {},
     "output_type": "execute_result"
    }
   ],
   "source": [
    "numbers=[1,2,3,4]\n",
    "total=sum(numbers)\n",
    "total"
   ]
  },
  {
   "cell_type": "code",
   "execution_count": 231,
   "id": "0cddcc96-abc4-4e7b-8d09-e68075c7eced",
   "metadata": {},
   "outputs": [],
   "source": [
    "name='John'"
   ]
  },
  {
   "cell_type": "code",
   "execution_count": 237,
   "id": "f5bf03d3-eda0-4d1e-99a2-48288f1e932b",
   "metadata": {},
   "outputs": [
    {
     "name": "stdout",
     "output_type": "stream",
     "text": [
      "hello John welcome to the python world\n"
     ]
    }
   ],
   "source": [
    "print(f'hello',name,'welcome to the python world')"
   ]
  },
  {
   "cell_type": "code",
   "execution_count": 243,
   "id": "e6a10534-6dab-41ff-8727-3d2359dcf549",
   "metadata": {},
   "outputs": [
    {
     "data": {
      "text/plain": [
       "'John Doe'"
      ]
     },
     "execution_count": 243,
     "metadata": {},
     "output_type": "execute_result"
    }
   ],
   "source": [
    "first_name='John'\n",
    "last_name='Doe'\n",
    "full_name=first_name+\" \"+last_name\n",
    "result=full_name\n",
    "result\n"
   ]
  },
  {
   "cell_type": "code",
   "execution_count": null,
   "id": "e78f5d02-1ede-4377-b4cd-551b173c8878",
   "metadata": {},
   "outputs": [],
   "source": []
  }
 ],
 "metadata": {
  "kernelspec": {
   "display_name": "Python [conda env:base] *",
   "language": "python",
   "name": "conda-base-py"
  },
  "language_info": {
   "codemirror_mode": {
    "name": "ipython",
    "version": 3
   },
   "file_extension": ".py",
   "mimetype": "text/x-python",
   "name": "python",
   "nbconvert_exporter": "python",
   "pygments_lexer": "ipython3",
   "version": "3.12.7"
  }
 },
 "nbformat": 4,
 "nbformat_minor": 5
}
