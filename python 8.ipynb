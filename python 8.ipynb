{
 "cells": [
  {
   "cell_type": "code",
   "execution_count": 1,
   "id": "80ad2268-f573-4ef1-894c-c492d52221ca",
   "metadata": {},
   "outputs": [],
   "source": [
    "#list methods"
   ]
  },
  {
   "cell_type": "code",
   "execution_count": 29,
   "id": "1b978214-29f9-4e79-8c80-fa7f20e7b674",
   "metadata": {},
   "outputs": [],
   "source": [
    "fruits=['apple','goa','cherry']               #append\n",
    "fruits.append(['orange'])"
   ]
  },
  {
   "cell_type": "code",
   "execution_count": 17,
   "id": "7ad4b14b-697a-4774-ae55-09a083639dc7",
   "metadata": {},
   "outputs": [
    {
     "data": {
      "text/plain": [
       "['apple', 'goa', 'cherry', 'orange']"
      ]
     },
     "execution_count": 17,
     "metadata": {},
     "output_type": "execute_result"
    }
   ],
   "source": [
    "fruits"
   ]
  },
  {
   "cell_type": "code",
   "execution_count": 91,
   "id": "247ed7c5-4e93-4228-96d3-6d9bd5c75910",
   "metadata": {},
   "outputs": [
    {
     "data": {
      "text/plain": [
       "['apple', 'banana', 'goa']"
      ]
     },
     "execution_count": 91,
     "metadata": {},
     "output_type": "execute_result"
    }
   ],
   "source": [
    "fru=['apple','banana','goa']             #extend\n",
    "fru"
   ]
  },
  {
   "cell_type": "code",
   "execution_count": 166,
   "id": "06e94883-90c8-4244-9ecd-27975109d1ff",
   "metadata": {},
   "outputs": [],
   "source": [
    "fru.extend([1,2,3,4])\n"
   ]
  },
  {
   "cell_type": "code",
   "execution_count": 168,
   "id": "ad6c925e-6235-4eaa-a5b9-cf1aee363691",
   "metadata": {},
   "outputs": [
    {
     "data": {
      "text/plain": [
       "['apple', 'banana', 'goa', 1, 2, 3, 4]"
      ]
     },
     "execution_count": 168,
     "metadata": {},
     "output_type": "execute_result"
    }
   ],
   "source": [
    "fru"
   ]
  },
  {
   "cell_type": "code",
   "execution_count": 228,
   "id": "15388c4b-b0db-462a-b452-c659542fea90",
   "metadata": {},
   "outputs": [
    {
     "data": {
      "text/plain": [
       "[1, 'goa', 2, 3, 4, 'bananna']"
      ]
     },
     "execution_count": 228,
     "metadata": {},
     "output_type": "execute_result"
    }
   ],
   "source": [
    "fruits.insert(1,('goa'))                      #insert\n",
    "fruits"
   ]
  },
  {
   "cell_type": "code",
   "execution_count": 230,
   "id": "afe4302b-4856-4cd4-9af8-2c2d752faeff",
   "metadata": {},
   "outputs": [
    {
     "data": {
      "text/plain": [
       "[1, 'goa', 2, 3, 4, 'bananna']"
      ]
     },
     "execution_count": 230,
     "metadata": {},
     "output_type": "execute_result"
    }
   ],
   "source": [
    "fruits"
   ]
  },
  {
   "cell_type": "code",
   "execution_count": 234,
   "id": "2349b9b2-0f33-47d0-afb6-2e6737a5dc3e",
   "metadata": {},
   "outputs": [],
   "source": [
    "fruits.remove(3)                                  #remove\n",
    "                                      "
   ]
  },
  {
   "cell_type": "code",
   "execution_count": 236,
   "id": "6eaed44b-2a27-4f89-8552-fc45af804486",
   "metadata": {},
   "outputs": [
    {
     "data": {
      "text/plain": [
       "[1, 'goa', 2, 4, 'bananna']"
      ]
     },
     "execution_count": 236,
     "metadata": {},
     "output_type": "execute_result"
    }
   ],
   "source": [
    "fruits"
   ]
  },
  {
   "cell_type": "code",
   "execution_count": 5,
   "id": "898f3f48-a864-48ea-9d5a-8894a6cea420",
   "metadata": {},
   "outputs": [
    {
     "data": {
      "text/plain": [
       "'goa'"
      ]
     },
     "execution_count": 5,
     "metadata": {},
     "output_type": "execute_result"
    }
   ],
   "source": [
    "fruit=['apple','banana','goa']                                    #pop\n",
    "fruit.pop()"
   ]
  },
  {
   "cell_type": "code",
   "execution_count": 7,
   "id": "fe22b772-b217-470d-8d01-c4da52ab1ae5",
   "metadata": {},
   "outputs": [
    {
     "data": {
      "text/plain": [
       "['apple', 'banana']"
      ]
     },
     "execution_count": 7,
     "metadata": {},
     "output_type": "execute_result"
    }
   ],
   "source": [
    "fruit"
   ]
  },
  {
   "cell_type": "code",
   "execution_count": 9,
   "id": "ddaa7291-d492-444c-9b05-47dafdbd4259",
   "metadata": {},
   "outputs": [
    {
     "data": {
      "text/plain": [
       "'apple'"
      ]
     },
     "execution_count": 9,
     "metadata": {},
     "output_type": "execute_result"
    }
   ],
   "source": [
    "fruit.pop(0)"
   ]
  },
  {
   "cell_type": "code",
   "execution_count": 248,
   "id": "338a9073-5bc1-4347-98c6-c09c19df0886",
   "metadata": {},
   "outputs": [],
   "source": [
    "fruits=['apple','cherry','banana']\n",
    "fruits.clear()"
   ]
  },
  {
   "cell_type": "code",
   "execution_count": 73,
   "id": "0ad4a97d-aa9a-41f2-bf6e-d0a39edc90cb",
   "metadata": {},
   "outputs": [
    {
     "data": {
      "text/plain": [
       "[]"
      ]
     },
     "execution_count": 73,
     "metadata": {},
     "output_type": "execute_result"
    }
   ],
   "source": [
    "fruits"
   ]
  },
  {
   "cell_type": "code",
   "execution_count": 85,
   "id": "cc98c5af-929c-4bcd-bd75-1217217e112f",
   "metadata": {},
   "outputs": [
    {
     "data": {
      "text/plain": [
       "['tomamto', 'brijal', 'ladyfinger', 'onion', 'jgjjnb']"
      ]
     },
     "execution_count": 85,
     "metadata": {},
     "output_type": "execute_result"
    }
   ],
   "source": [
    "veg=['tomamto','brijal','ladyfinger','onion','jgjjnb']\n",
    "veg"
   ]
  },
  {
   "cell_type": "code",
   "execution_count": 87,
   "id": "a3529afb-3368-433b-bb0f-1b238f4e6ef5",
   "metadata": {},
   "outputs": [
    {
     "data": {
      "text/plain": [
       "['tomamto', 'brijal', 'ladyfinger', 'onion', 'jgjjnb']"
      ]
     },
     "execution_count": 87,
     "metadata": {},
     "output_type": "execute_result"
    }
   ],
   "source": [
    "veg.index('onion')\n",
    "veg"
   ]
  },
  {
   "cell_type": "code",
   "execution_count": 102,
   "id": "44a2e1ab-f59c-46cd-8653-a7362a6983b0",
   "metadata": {},
   "outputs": [
    {
     "data": {
      "text/plain": [
       "['rice', 'chapati', 'ragi', 'dosa', 'rice']"
      ]
     },
     "execution_count": 102,
     "metadata": {},
     "output_type": "execute_result"
    }
   ],
   "source": [
    "food=['rice','chapati','ragi','dosa','rice']\n",
    "food"
   ]
  },
  {
   "cell_type": "code",
   "execution_count": 108,
   "id": "d6959e58-0443-4998-814a-03f35043cf01",
   "metadata": {},
   "outputs": [
    {
     "data": {
      "text/plain": [
       "2"
      ]
     },
     "execution_count": 108,
     "metadata": {},
     "output_type": "execute_result"
    }
   ],
   "source": [
    "food.count('rice')"
   ]
  },
  {
   "cell_type": "code",
   "execution_count": 116,
   "id": "6773c1ab-9e69-4f3f-b5b2-94f3bacdc8cb",
   "metadata": {},
   "outputs": [
    {
     "data": {
      "text/plain": [
       "[1, 2, 2, 5, 6, 7, 9]"
      ]
     },
     "execution_count": 116,
     "metadata": {},
     "output_type": "execute_result"
    }
   ],
   "source": [
    "numbers=[1,5,2,6,2,7,9]\n",
    "numbers.sort()\n",
    "numbers"
   ]
  },
  {
   "cell_type": "code",
   "execution_count": 122,
   "id": "2c8bab09-00a9-4ab7-8c30-0e01030ee08d",
   "metadata": {},
   "outputs": [
    {
     "data": {
      "text/plain": [
       "['alex', 'john', 'vini']"
      ]
     },
     "execution_count": 122,
     "metadata": {},
     "output_type": "execute_result"
    }
   ],
   "source": [
    "names=['vini','john','alex']\n",
    "names.reverse()\n",
    "names"
   ]
  },
  {
   "cell_type": "code",
   "execution_count": 126,
   "id": "e05b65da-3377-45da-83ef-6989be12e1ae",
   "metadata": {},
   "outputs": [
    {
     "data": {
      "text/plain": [
       "'vini-john-alex'"
      ]
     },
     "execution_count": 126,
     "metadata": {},
     "output_type": "execute_result"
    }
   ],
   "source": [
    "names=['vini','john','alex']\n",
    "names_string='-'.join(names)\n",
    "names_string"
   ]
  },
  {
   "cell_type": "code",
   "execution_count": 132,
   "id": "49ce915c-cecd-4f8f-ac3f-f21506da48c1",
   "metadata": {},
   "outputs": [
    {
     "data": {
      "text/plain": [
       "767"
      ]
     },
     "execution_count": 132,
     "metadata": {},
     "output_type": "execute_result"
    }
   ],
   "source": [
    "number=[1,2,3,5,767,4]\n",
    "max(number)"
   ]
  },
  {
   "cell_type": "code",
   "execution_count": 134,
   "id": "9f10ec39-1c06-46ab-bf36-a8b6d9641bf2",
   "metadata": {},
   "outputs": [
    {
     "data": {
      "text/plain": [
       "1"
      ]
     },
     "execution_count": 134,
     "metadata": {},
     "output_type": "execute_result"
    }
   ],
   "source": [
    "values=[1,23,65,3,7]\n",
    "min(values)"
   ]
  },
  {
   "cell_type": "code",
   "execution_count": 136,
   "id": "d31ff245-b3d9-40f7-8415-653fd1341a41",
   "metadata": {},
   "outputs": [
    {
     "data": {
      "text/plain": [
       "79"
      ]
     },
     "execution_count": 136,
     "metadata": {},
     "output_type": "execute_result"
    }
   ],
   "source": [
    "num=[1,2,4,65,7]\n",
    "total=sum(num)\n",
    "total"
   ]
  },
  {
   "cell_type": "code",
   "execution_count": 138,
   "id": "2b106c99-b6af-4b1a-bdd9-31516a5d765e",
   "metadata": {},
   "outputs": [
    {
     "data": {
      "text/plain": [
       "6"
      ]
     },
     "execution_count": 138,
     "metadata": {},
     "output_type": "execute_result"
    }
   ],
   "source": [
    "len(number)"
   ]
  },
  {
   "cell_type": "code",
   "execution_count": 150,
   "id": "595da431-9cc2-4b14-998e-16d4818ac140",
   "metadata": {},
   "outputs": [
    {
     "data": {
      "text/plain": [
       "False"
      ]
     },
     "execution_count": 150,
     "metadata": {},
     "output_type": "execute_result"
    }
   ],
   "source": [
    "bool_list=[False,False,False]\n",
    "all(bool_list)"
   ]
  },
  {
   "cell_type": "code",
   "execution_count": 154,
   "id": "fc13ec4b-9519-4ace-b629-8a5577c0ab17",
   "metadata": {},
   "outputs": [
    {
     "data": {
      "text/plain": [
       "True"
      ]
     },
     "execution_count": 154,
     "metadata": {},
     "output_type": "execute_result"
    }
   ],
   "source": [
    "bool_list=[True,False,False]\n",
    "any(bool_list)"
   ]
  },
  {
   "cell_type": "code",
   "execution_count": 156,
   "id": "c0d20359-bff1-40b1-b2e5-ba73a409408d",
   "metadata": {},
   "outputs": [
    {
     "data": {
      "text/plain": [
       "[7, 8, 3, 4, 85, 4]"
      ]
     },
     "execution_count": 156,
     "metadata": {},
     "output_type": "execute_result"
    }
   ],
   "source": [
    "no=[7,8,3,4,85,4]\n",
    "no"
   ]
  },
  {
   "cell_type": "code",
   "execution_count": 158,
   "id": "cb1b3a80-f058-4d6b-8454-c4ba8b8217c0",
   "metadata": {},
   "outputs": [],
   "source": [
    "\n",
    "no.sort()"
   ]
  },
  {
   "cell_type": "code",
   "execution_count": 160,
   "id": "1891e4fa-b105-426d-94d0-19eebc55bab8",
   "metadata": {},
   "outputs": [
    {
     "data": {
      "text/plain": [
       "[3, 4, 4, 7, 8, 85]"
      ]
     },
     "execution_count": 160,
     "metadata": {},
     "output_type": "execute_result"
    }
   ],
   "source": [
    "no"
   ]
  },
  {
   "cell_type": "code",
   "execution_count": 162,
   "id": "444f1db7-e554-41bf-8f5d-ad6dbb7292aa",
   "metadata": {},
   "outputs": [],
   "source": [
    "a=[8,9,4,6,309]\n"
   ]
  },
  {
   "cell_type": "code",
   "execution_count": 164,
   "id": "186f3be3-5ad8-4bbf-b451-94b89703023e",
   "metadata": {},
   "outputs": [
    {
     "data": {
      "text/plain": [
       "[4, 6, 8, 9, 309]"
      ]
     },
     "execution_count": 164,
     "metadata": {},
     "output_type": "execute_result"
    }
   ],
   "source": [
    "sorted(a)"
   ]
  },
  {
   "cell_type": "code",
   "execution_count": 194,
   "id": "edacc6f3-95df-4dd1-970e-fd404ebd6e32",
   "metadata": {},
   "outputs": [],
   "source": [
    "#list comprehension"
   ]
  },
  {
   "cell_type": "code",
   "execution_count": 15,
   "id": "f03dfa26-c98e-4f0c-8e47-03fd8cc8f684",
   "metadata": {},
   "outputs": [
    {
     "data": {
      "text/plain": [
       "(1, 2, 3, 4, 5)"
      ]
     },
     "execution_count": 15,
     "metadata": {},
     "output_type": "execute_result"
    }
   ],
   "source": [
    "squares=[i**2 for i in range(1,6)]\n",
    "1,2,3,4,5"
   ]
  },
  {
   "cell_type": "code",
   "execution_count": 17,
   "id": "5dcee55b-11f6-4bae-9bd8-9ee3a11e1e85",
   "metadata": {},
   "outputs": [],
   "source": [
    "for i in range(1,7):\n",
    "    squares.append(i**2)"
   ]
  },
  {
   "cell_type": "code",
   "execution_count": 19,
   "id": "165c35c3-a0f1-4dfa-afa8-d47bc246670b",
   "metadata": {},
   "outputs": [
    {
     "data": {
      "text/plain": [
       "[1, 4, 9, 16, 25, 1, 4, 9, 16, 25, 36]"
      ]
     },
     "execution_count": 19,
     "metadata": {},
     "output_type": "execute_result"
    }
   ],
   "source": [
    "squares"
   ]
  },
  {
   "cell_type": "code",
   "execution_count": 190,
   "id": "0dbefbfc-3f80-4ff1-8cfc-5dce1a9ea893",
   "metadata": {},
   "outputs": [],
   "source": [
    "squres=[i**2 for i in range(1,6)]"
   ]
  },
  {
   "cell_type": "code",
   "execution_count": 192,
   "id": "4e4e40da-2c5f-43ed-9a53-671b10324b39",
   "metadata": {},
   "outputs": [
    {
     "data": {
      "text/plain": [
       "[1, 4, 9, 16, 25]"
      ]
     },
     "execution_count": 192,
     "metadata": {},
     "output_type": "execute_result"
    }
   ],
   "source": [
    "squres"
   ]
  },
  {
   "cell_type": "code",
   "execution_count": 196,
   "id": "99299f2c-e33f-4b87-b5c6-2b4c916c2fb5",
   "metadata": {},
   "outputs": [],
   "source": [
    "even_squares=[i**2 for i in range(1,12) if i%2==0]"
   ]
  },
  {
   "cell_type": "code",
   "execution_count": 198,
   "id": "c33cf3ff-195d-4c47-a515-5ee9b404cd72",
   "metadata": {},
   "outputs": [
    {
     "data": {
      "text/plain": [
       "[4, 16, 36, 64, 100]"
      ]
     },
     "execution_count": 198,
     "metadata": {},
     "output_type": "execute_result"
    }
   ],
   "source": [
    "even_squares"
   ]
  },
  {
   "cell_type": "code",
   "execution_count": 200,
   "id": "94a7b4a3-0ca1-4baf-8dc2-89aac1c54be0",
   "metadata": {},
   "outputs": [],
   "source": [
    "even_squares=[]\n",
    "for i in range(1,11):\n",
    "    if i % 2==0:\n",
    "        even_squares.append(i**2)"
   ]
  },
  {
   "cell_type": "code",
   "execution_count": 202,
   "id": "a97ff037-70cb-4dd9-afa5-fd89a5022e98",
   "metadata": {},
   "outputs": [
    {
     "data": {
      "text/plain": [
       "[4, 16, 36, 64, 100]"
      ]
     },
     "execution_count": 202,
     "metadata": {},
     "output_type": "execute_result"
    }
   ],
   "source": [
    "even_squares"
   ]
  },
  {
   "cell_type": "code",
   "execution_count": 210,
   "id": "531ba6eb-5cee-4d7e-88de-21ca1b23e387",
   "metadata": {},
   "outputs": [
    {
     "data": {
      "text/plain": [
       "[[0, 0, 0], [0, 1, 2], [0, 2, 4]]"
      ]
     },
     "execution_count": 210,
     "metadata": {},
     "output_type": "execute_result"
    }
   ],
   "source": [
    "matrix=[]\n",
    "for i in range(3):\n",
    "    row=[]\n",
    "    for j in range(3):\n",
    "        row.append(i*j)\n",
    "    matrix.append(row)\n",
    "matrix"
   ]
  },
  {
   "cell_type": "code",
   "execution_count": 212,
   "id": "bcb75a68-f31f-45db-a842-0163fa76f756",
   "metadata": {},
   "outputs": [],
   "source": [
    "matrix=[[i*j for j in range(3)] for i in range(3)]"
   ]
  },
  {
   "cell_type": "code",
   "execution_count": 214,
   "id": "031f3225-e083-47bc-b4bf-0632aa811c3b",
   "metadata": {},
   "outputs": [
    {
     "data": {
      "text/plain": [
       "[[0, 0, 0], [0, 1, 2], [0, 2, 4]]"
      ]
     },
     "execution_count": 214,
     "metadata": {},
     "output_type": "execute_result"
    }
   ],
   "source": [
    "matrix"
   ]
  },
  {
   "cell_type": "code",
   "execution_count": 1,
   "id": "4d0dcd87-a8d9-4d9a-8718-30d6f0fc5dcd",
   "metadata": {},
   "outputs": [
    {
     "data": {
      "text/plain": [
       "['wake up', 'brush teeth', 'have breakfast', 'go for a run', 'start working']"
      ]
     },
     "execution_count": 1,
     "metadata": {},
     "output_type": "execute_result"
    }
   ],
   "source": [
    "tasks=[\"wake up\",\"brush teeth\",\"go for a run\",\"start working\"]\n",
    "tasks.insert(2,(\"have breakfast\"))\n",
    "tasks"
   ]
  },
  {
   "cell_type": "code",
   "execution_count": 23,
   "id": "e4b92751-1127-4c9f-98c6-86929163630d",
   "metadata": {},
   "outputs": [
    {
     "data": {
      "text/plain": [
       "[7, 6, 4, 2, 1]"
      ]
     },
     "execution_count": 23,
     "metadata": {},
     "output_type": "execute_result"
    }
   ],
   "source": [
    "number=[1,2,4,6,7]\n",
    "number.reverse()\n",
    "number"
   ]
  },
  {
   "cell_type": "code",
   "execution_count": 39,
   "id": "04671034-d609-4c94-b7ae-ef627be3703f",
   "metadata": {},
   "outputs": [
    {
     "data": {
      "text/plain": [
       "['Alice', 'Bob', 'Charlie']"
      ]
     },
     "execution_count": 39,
     "metadata": {},
     "output_type": "execute_result"
    }
   ],
   "source": [
    "students = [\"Alice\", \"Bob\", \"Charlie\", \"David\", \"Eva\"]\n",
    "students[:3]\n"
   ]
  },
  {
   "cell_type": "code",
   "execution_count": 41,
   "id": "b338a56e-850b-4606-b0d9-985c8e205bb1",
   "metadata": {},
   "outputs": [
    {
     "data": {
      "text/plain": [
       "[10, 20, 35, 40, 50]"
      ]
     },
     "execution_count": 41,
     "metadata": {},
     "output_type": "execute_result"
    }
   ],
   "source": [
    "scores=[10,20,30,40,50]\n",
    "scores[2]=35\n",
    "scores"
   ]
  },
  {
   "cell_type": "code",
   "execution_count": 51,
   "id": "a554a3ad-dcaa-4405-835f-5e03365efaba",
   "metadata": {},
   "outputs": [
    {
     "data": {
      "text/plain": [
       "['apple', 'banana', 'date']"
      ]
     },
     "execution_count": 51,
     "metadata": {},
     "output_type": "execute_result"
    }
   ],
   "source": [
    "fruits=['apple','banana','cherry','date']\n",
    "fruits.remove('cherry')\n",
    "fruits"
   ]
  },
  {
   "cell_type": "code",
   "execution_count": 55,
   "id": "364d3808-e896-45a7-96e4-4174aff4ae1d",
   "metadata": {},
   "outputs": [
    {
     "data": {
      "text/plain": [
       "2"
      ]
     },
     "execution_count": 55,
     "metadata": {},
     "output_type": "execute_result"
    }
   ],
   "source": [
    "colors = [\"Red\", \"Green\", \"Blue\", \"Yellow\", \"Purple\"]\n",
    "colors.index('Blue')"
   ]
  },
  {
   "cell_type": "code",
   "execution_count": 59,
   "id": "38ed0e4d-c4b5-4d48-a416-98ffd13d3094",
   "metadata": {},
   "outputs": [
    {
     "data": {
      "text/plain": [
       "[1, 2, 4, 5, 9]"
      ]
     },
     "execution_count": 59,
     "metadata": {},
     "output_type": "execute_result"
    }
   ],
   "source": [
    "numbers = [4, 2, 9, 1, 5]\n",
    "numbers.sort()\n",
    "numbers"
   ]
  },
  {
   "cell_type": "code",
   "execution_count": 83,
   "id": "db29fc44-5a97-402b-a5b9-22be504e6b7a",
   "metadata": {},
   "outputs": [
    {
     "data": {
      "text/plain": [
       "['Carrot', 'Potato', 'Tomato', 'Cucumber', 'Brinjal']"
      ]
     },
     "execution_count": 83,
     "metadata": {},
     "output_type": "execute_result"
    }
   ],
   "source": [
    "vegetables = [\"Carrot\", \"Potato\", \"Tomato\"]\n",
    "more_veg=(\"Cucumber\",\"Brinjal\")\n",
    "vegetables.extend(more_veg)\n",
    "vegetables"
   ]
  },
  {
   "cell_type": "code",
   "execution_count": 87,
   "id": "f13e6221-43b2-4dc7-a954-9535857bfb7d",
   "metadata": {},
   "outputs": [
    {
     "data": {
      "text/plain": [
       "'Phoenix'"
      ]
     },
     "execution_count": 87,
     "metadata": {},
     "output_type": "execute_result"
    }
   ],
   "source": [
    "cities = [\"New York\", \"Los Angeles\", \"Chicago\", \"Houston\", \"Phoenix\"]\n",
    "cities.pop(4)"
   ]
  },
  {
   "cell_type": "code",
   "execution_count": 89,
   "id": "0b78b90c-dcbd-4c7b-a501-b911102b3cd0",
   "metadata": {},
   "outputs": [
    {
     "data": {
      "text/plain": [
       "['New York', 'Los Angeles', 'Chicago', 'Houston']"
      ]
     },
     "execution_count": 89,
     "metadata": {},
     "output_type": "execute_result"
    }
   ],
   "source": [
    "cities"
   ]
  },
  {
   "cell_type": "code",
   "execution_count": 91,
   "id": "b971d658-7f85-46dd-bd92-122811d98543",
   "metadata": {},
   "outputs": [
    {
     "data": {
      "text/plain": [
       "3"
      ]
     },
     "execution_count": 91,
     "metadata": {},
     "output_type": "execute_result"
    }
   ],
   "source": [
    "grades = [90, 85, 90, 80, 75, 90]\n",
    "grades.count(90)"
   ]
  },
  {
   "cell_type": "code",
   "execution_count": null,
   "id": "71a8ffca-36af-4381-b048-019536ac78b6",
   "metadata": {},
   "outputs": [],
   "source": []
  },
  {
   "cell_type": "code",
   "execution_count": null,
   "id": "b6cfbf5a-ebc8-4126-8023-0ed6a8ea6c20",
   "metadata": {},
   "outputs": [],
   "source": []
  }
 ],
 "metadata": {
  "kernelspec": {
   "display_name": "Python [conda env:base] *",
   "language": "python",
   "name": "conda-base-py"
  },
  "language_info": {
   "codemirror_mode": {
    "name": "ipython",
    "version": 3
   },
   "file_extension": ".py",
   "mimetype": "text/x-python",
   "name": "python",
   "nbconvert_exporter": "python",
   "pygments_lexer": "ipython3",
   "version": "3.12.7"
  }
 },
 "nbformat": 4,
 "nbformat_minor": 5
}
